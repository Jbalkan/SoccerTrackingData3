{
 "cells": [
  {
   "cell_type": "code",
   "execution_count": 1,
   "metadata": {},
   "outputs": [],
   "source": [
    "import os\n",
    "import datetime\n",
    "import pickle\n",
    "import numpy as np\n",
    "import pandas as pd\n",
    "import matplotlib.pyplot as plt\n",
    "import seaborn as sns\n",
    "\n",
    "import Tracab as tracab\n",
    "import Tracking_Visuals as vis\n",
    "import Tracking_Velocities as vel\n",
    "import Tracking_Fatigue as fatigue\n",
    "import helpers\n",
    "import importlib\n",
    "# importlib.reload(tracab)\n",
    "# importlib.reload(helpers)\n",
    "# importlib.reload(vis)\n",
    "\n",
    "from scipy.optimize import curve_fit\n",
    "from collections import defaultdict"
   ]
  },
  {
   "cell_type": "code",
   "execution_count": null,
   "metadata": {},
   "outputs": [],
   "source": []
  },
  {
   "cell_type": "code",
   "execution_count": 750,
   "metadata": {},
   "outputs": [
    {
     "data": {
      "text/plain": [
       "<module 'seaborn' from '/Users/jeffbalkanski/anaconda3/envs/soccer3/lib/python3.7/site-packages/seaborn/__init__.py'>"
      ]
     },
     "execution_count": 750,
     "metadata": {},
     "output_type": "execute_result"
    }
   ],
   "source": [
    "importlib.reload(sns)"
   ]
  },
  {
   "cell_type": "markdown",
   "metadata": {},
   "source": [
    "# Fatigue model for large dataset"
   ]
  },
  {
   "cell_type": "markdown",
   "metadata": {},
   "source": [
    "## example read for one player"
   ]
  },
  {
   "cell_type": "code",
   "execution_count": 94,
   "metadata": {},
   "outputs": [],
   "source": [
    "# EX data\n",
    "with open('../data_processed/EX_time_series_game_984472.pkl', 'rb') as infile:\n",
    "    data_dict = pickle.load(infile)"
   ]
  },
  {
   "cell_type": "code",
   "execution_count": 95,
   "metadata": {},
   "outputs": [
    {
     "data": {
      "text/plain": [
       "dict_keys(['data_path', 'player_info', 'energy_x', 'ball_in_play'])"
      ]
     },
     "execution_count": 95,
     "metadata": {},
     "output_type": "execute_result"
    }
   ],
   "source": [
    "data_dict.keys()"
   ]
  },
  {
   "cell_type": "code",
   "execution_count": null,
   "metadata": {},
   "outputs": [],
   "source": []
  },
  {
   "cell_type": "code",
   "execution_count": 40,
   "metadata": {},
   "outputs": [
    {
     "data": {
      "text/html": [
       "<div>\n",
       "<style scoped>\n",
       "    .dataframe tbody tr th:only-of-type {\n",
       "        vertical-align: middle;\n",
       "    }\n",
       "\n",
       "    .dataframe tbody tr th {\n",
       "        vertical-align: top;\n",
       "    }\n",
       "\n",
       "    .dataframe thead th {\n",
       "        text-align: right;\n",
       "    }\n",
       "</style>\n",
       "<table border=\"1\" class=\"dataframe\">\n",
       "  <thead>\n",
       "    <tr style=\"text-align: right;\">\n",
       "      <th></th>\n",
       "      <th>Match ID</th>\n",
       "      <th>Team</th>\n",
       "      <th>Playerid</th>\n",
       "      <th>Player name</th>\n",
       "      <th>Jersey Num</th>\n",
       "      <th>Starting Position</th>\n",
       "      <th>Starts Match</th>\n",
       "      <th>start_pos_super</th>\n",
       "      <th>first_name</th>\n",
       "      <th>last_name</th>\n",
       "    </tr>\n",
       "  </thead>\n",
       "  <tbody>\n",
       "    <tr>\n",
       "      <th>0</th>\n",
       "      <td>984455</td>\n",
       "      <td>Home</td>\n",
       "      <td>50310</td>\n",
       "      <td>Sebastian Mielitz</td>\n",
       "      <td>28</td>\n",
       "      <td>GK</td>\n",
       "      <td>Start</td>\n",
       "      <td>GK</td>\n",
       "      <td>Sebastian</td>\n",
       "      <td>Mielitz</td>\n",
       "    </tr>\n",
       "    <tr>\n",
       "      <th>1</th>\n",
       "      <td>984455</td>\n",
       "      <td>Home</td>\n",
       "      <td>247047</td>\n",
       "      <td>Nicholas Marfelt</td>\n",
       "      <td>18</td>\n",
       "      <td>LFB</td>\n",
       "      <td>Start</td>\n",
       "      <td>FB</td>\n",
       "      <td>Nicholas</td>\n",
       "      <td>Marfelt</td>\n",
       "    </tr>\n",
       "    <tr>\n",
       "      <th>2</th>\n",
       "      <td>984455</td>\n",
       "      <td>Home</td>\n",
       "      <td>207273</td>\n",
       "      <td>Stefan Gartenmann</td>\n",
       "      <td>2</td>\n",
       "      <td>RFB</td>\n",
       "      <td>Start</td>\n",
       "      <td>FB</td>\n",
       "      <td>Stefan</td>\n",
       "      <td>Gartenmann</td>\n",
       "    </tr>\n",
       "    <tr>\n",
       "      <th>3</th>\n",
       "      <td>984455</td>\n",
       "      <td>Home</td>\n",
       "      <td>56317</td>\n",
       "      <td>Kees Luijckx</td>\n",
       "      <td>5</td>\n",
       "      <td>CD</td>\n",
       "      <td>Start</td>\n",
       "      <td>CB</td>\n",
       "      <td>Kees</td>\n",
       "      <td>Luijckx</td>\n",
       "    </tr>\n",
       "    <tr>\n",
       "      <th>4</th>\n",
       "      <td>984455</td>\n",
       "      <td>Home</td>\n",
       "      <td>52560</td>\n",
       "      <td>Marc Pedersen</td>\n",
       "      <td>3</td>\n",
       "      <td>CD</td>\n",
       "      <td>Start</td>\n",
       "      <td>CB</td>\n",
       "      <td>Marc</td>\n",
       "      <td>Pedersen</td>\n",
       "    </tr>\n",
       "  </tbody>\n",
       "</table>\n",
       "</div>"
      ],
      "text/plain": [
       "   Match ID  Team  Playerid        Player name  Jersey Num Starting Position  \\\n",
       "0    984455  Home     50310  Sebastian Mielitz          28                GK   \n",
       "1    984455  Home    247047   Nicholas Marfelt          18               LFB   \n",
       "2    984455  Home    207273  Stefan Gartenmann           2               RFB   \n",
       "3    984455  Home     56317       Kees Luijckx           5                CD   \n",
       "4    984455  Home     52560      Marc Pedersen           3                CD   \n",
       "\n",
       "  Starts Match start_pos_super first_name   last_name  \n",
       "0        Start              GK  Sebastian     Mielitz  \n",
       "1        Start              FB   Nicholas     Marfelt  \n",
       "2        Start              FB     Stefan  Gartenmann  \n",
       "3        Start              CB       Kees     Luijckx  \n",
       "4        Start              CB       Marc    Pedersen  "
      ]
     },
     "execution_count": 40,
     "metadata": {},
     "output_type": "execute_result"
    }
   ],
   "source": [
    "players_df.head()"
   ]
  },
  {
   "cell_type": "markdown",
   "metadata": {},
   "source": [
    "# Get all games data path"
   ]
  },
  {
   "cell_type": "code",
   "execution_count": 91,
   "metadata": {},
   "outputs": [],
   "source": [
    "# get paths\n",
    "data_path = os.path.join(os.path.dirname(os.getcwd()), 'data_processed')\n",
    "all_data_processed = [os.path.join(data_path, f) for f in os.listdir(data_path)]\n",
    "game_dicts = {f.split('/')[-1].split('.')[0].split('_')[-1]: f for f in all_data_processed \n",
    "              if f.find('.pkl') != -1}"
   ]
  },
  {
   "cell_type": "code",
   "execution_count": null,
   "metadata": {},
   "outputs": [],
   "source": []
  },
  {
   "cell_type": "markdown",
   "metadata": {},
   "source": [
    "# Fatigue Model"
   ]
  },
  {
   "cell_type": "markdown",
   "metadata": {},
   "source": [
    "## Fit 2nd degree polynomial on energy expenditure and save"
   ]
  },
  {
   "cell_type": "code",
   "execution_count": 85,
   "metadata": {},
   "outputs": [],
   "source": [
    "def poly_2nd(x, b, c):\n",
    "    return 0 + (b * x) + (c * x ** 2)\n",
    "\n",
    "def plays_full_game(EX_series, thresh=0.95):\n",
    "    is_full = np.count_nonzero(EX_series)/len(EX_series) > thresh \n",
    "    return is_full"
   ]
  },
  {
   "cell_type": "code",
   "execution_count": 114,
   "metadata": {
    "collapsed": true,
    "jupyter": {
     "outputs_hidden": true
    }
   },
   "outputs": [
    {
     "name": "stdout",
     "output_type": "stream",
     "text": [
      "Done with match 984600\n",
      "Done with match 984601\n",
      "Done with match 984577\n",
      "Done with match 984603\n",
      "Done with match 984617\n",
      "Done with match 984602\n",
      "Done with match 984613\n",
      "Done with match 984565\n",
      "Done with match 984571\n",
      "Done with match 984567\n",
      "Done with match 984605\n",
      "Done with match 984610\n",
      "Done with match 984572\n",
      "Done with match 984566\n",
      "Done with match 984515\n",
      "Done with match 984529\n",
      "Done with match 984514\n",
      "Done with match 984477\n",
      "Done with match 984517\n",
      "Done with match 984473\n",
      "Done with match 984472\n",
      "Done with match 984504\n",
      "Done with match 984510\n",
      "Done with match 984459\n",
      "Done with match 984534\n",
      "Done with match 984497\n",
      "Done with match 984468\n",
      "Done with match 984496\n",
      "Done with match 984535\n",
      "Done with match 984521\n",
      "Done with match 984494\n",
      "Done with match 984457\n",
      "Done with match 984495\n",
      "Done with match 984481\n",
      "Done with match 984532\n",
      "Done with match 984491\n",
      "Done with match 984484\n",
      "Done with match 984527\n",
      "Done with match 984533\n",
      "Done with match 984519\n",
      "Done with match 984492\n",
      "Done with match 984487\n",
      "Done with match 984518\n",
      "Done with match 984594\n",
      "Done with match 984609\n",
      "Done with match 984634\n",
      "Done with match 984542\n",
      "Done with match 984554\n",
      "Done with match 984568\n",
      "Done with match 984622\n",
      "Done with match 984569\n",
      "Done with match 984579\n",
      "Done with match 984551\n",
      "Done with match 984633\n",
      "Done with match 984632\n",
      "Done with match 984552\n",
      "Done with match 984630\n",
      "Done with match 984625\n",
      "Done with match 984631\n",
      "Done with match 984619\n",
      "Done with match 984553\n",
      "Done with match 984590\n",
      "Done with match 984584\n"
     ]
    }
   ],
   "source": [
    "coefs = []\n",
    "\n",
    "# for each game\n",
    "for match_id, path in game_dicts.items():    \n",
    "    with open(path, 'rb') as infile:\n",
    "        data_dict = pickle.load(infile)\n",
    "    \n",
    "    # fit model for each game\n",
    "    for _, player_id, series in data_dict['energy_x']:\n",
    "        EX_cumul = np.cumsum(series)\n",
    "        frame_lst = np.array(range(len(EX_cumul)))\n",
    "        \n",
    "        # check if is subbed out\n",
    "        if not plays_full_game(series):\n",
    "            continue\n",
    "        \n",
    "        # fit second degree polynomial that passes through origin\n",
    "        popt, pcov = curve_fit(poly_2nd, frame_lst, EX_cumul)\n",
    "        \n",
    "        # store info\n",
    "        coefs.append([match_id, player_id, *popt, *np.sqrt(np.diag(pcov))])\n",
    "        \n",
    "    print('Done with match {}'.format(match_id))\n",
    "    \n",
    "# dataframe of coefficients\n",
    "df_coefs = pd.DataFrame(coefs, \n",
    "                        columns=['match_id', 'player_id', 'b1', 'b2', 'sigma_b1', 'sigma_b2'])\n",
    "df_coefs.to_csv('../data_model/model_coefs.csv', index=0)"
   ]
  },
  {
   "cell_type": "code",
   "execution_count": 297,
   "metadata": {},
   "outputs": [],
   "source": [
    "# re read data\n",
    "model_data = pd.read_csv(('../data_model/model_coefs.csv'))"
   ]
  },
  {
   "cell_type": "markdown",
   "metadata": {},
   "source": [
    "## Read in"
   ]
  },
  {
   "cell_type": "code",
   "execution_count": 116,
   "metadata": {},
   "outputs": [],
   "source": [
    "model_data = pd.read_csv(('../data_model/model_coefs.csv'))"
   ]
  },
  {
   "cell_type": "code",
   "execution_count": 164,
   "metadata": {},
   "outputs": [],
   "source": [
    "# data distribution\n",
    "games_per_player = model_data.groupby('player_id').count()['match_id']\n",
    "game_per_player_data = games_per_player.value_counts().reset_index() "
   ]
  },
  {
   "cell_type": "code",
   "execution_count": 849,
   "metadata": {},
   "outputs": [
    {
     "data": {
      "image/png": "[encoded data removed]",
      "text/plain": [
       "<Figure size 720x480 with 1 Axes>"
      ]
     },
     "metadata": {
      "needs_background": "light"
     },
     "output_type": "display_data"
    }
   ],
   "source": [
    "fig, ax = plt.subplots(figsize=(6, 4), dpi=120)\n",
    "sns.barplot(x='index', y='match_id',\n",
    "            data=game_per_player_data,\n",
    "             palette=\"Blues_d\",\n",
    "           ax=ax)\n",
    "plt.title('Histogram of number of games per player in the data set')\n",
    "plt.ylabel('# of players')\n",
    "plt.xlabel('# of games played per player')\n",
    "plt.show()"
   ]
  },
  {
   "cell_type": "code",
   "execution_count": 261,
   "metadata": {},
   "outputs": [
    {
     "name": "stdout",
     "output_type": "stream",
     "text": [
      "# games:  63\n"
     ]
    }
   ],
   "source": [
    "print('# games: ', len(model_data['match_id'].unique()))"
   ]
  },
  {
   "cell_type": "code",
   "execution_count": null,
   "metadata": {},
   "outputs": [],
   "source": []
  },
  {
   "cell_type": "markdown",
   "metadata": {},
   "source": [
    "## Add position to model data -> `model_data_w_pos`"
   ]
  },
  {
   "cell_type": "code",
   "execution_count": 364,
   "metadata": {},
   "outputs": [],
   "source": [
    "player_positions = pd.read_csv('../playerid_jerseynum_map.csv')"
   ]
  },
  {
   "cell_type": "code",
   "execution_count": 365,
   "metadata": {},
   "outputs": [],
   "source": [
    "# add in info \n",
    "model_data_w_pos = pd.merge(model_data,\n",
    "                            player_positions[['Match ID', 'Playerid', 'start_pos_super', 'Starting Position',\n",
    "                                              'Team', 'Jersey Num', 'first_name', 'last_name']],\n",
    "                            left_on=['match_id', 'player_id'],\n",
    "                            right_on=['Match ID', 'Playerid'],\n",
    "                            how='left').drop(['Match ID', 'Playerid'], axis=1)"
   ]
  },
  {
   "cell_type": "code",
   "execution_count": 366,
   "metadata": {},
   "outputs": [
    {
     "data": {
      "text/html": [
       "<div>\n",
       "<style scoped>\n",
       "    .dataframe tbody tr th:only-of-type {\n",
       "        vertical-align: middle;\n",
       "    }\n",
       "\n",
       "    .dataframe tbody tr th {\n",
       "        vertical-align: top;\n",
       "    }\n",
       "\n",
       "    .dataframe thead th {\n",
       "        text-align: right;\n",
       "    }\n",
       "</style>\n",
       "<table border=\"1\" class=\"dataframe\">\n",
       "  <thead>\n",
       "    <tr style=\"text-align: right;\">\n",
       "      <th></th>\n",
       "      <th>match_id</th>\n",
       "      <th>player_id</th>\n",
       "      <th>b1</th>\n",
       "      <th>b2</th>\n",
       "      <th>sigma_b1</th>\n",
       "      <th>sigma_b2</th>\n",
       "      <th>start_pos_super</th>\n",
       "      <th>Starting Position</th>\n",
       "      <th>Team</th>\n",
       "      <th>Jersey Num</th>\n",
       "      <th>first_name</th>\n",
       "      <th>last_name</th>\n",
       "    </tr>\n",
       "  </thead>\n",
       "  <tbody>\n",
       "    <tr>\n",
       "      <th>0</th>\n",
       "      <td>984600</td>\n",
       "      <td>68250</td>\n",
       "      <td>2.807164</td>\n",
       "      <td>6.748634e-07</td>\n",
       "      <td>0.001069</td>\n",
       "      <td>9.575698e-09</td>\n",
       "      <td>GK</td>\n",
       "      <td>GK</td>\n",
       "      <td>Home</td>\n",
       "      <td>1</td>\n",
       "      <td>Matej</td>\n",
       "      <td>Delac</td>\n",
       "    </tr>\n",
       "    <tr>\n",
       "      <th>1</th>\n",
       "      <td>984600</td>\n",
       "      <td>208904</td>\n",
       "      <td>8.995215</td>\n",
       "      <td>-5.770922e-06</td>\n",
       "      <td>0.000853</td>\n",
       "      <td>7.641641e-09</td>\n",
       "      <td>CB</td>\n",
       "      <td>CD</td>\n",
       "      <td>Home</td>\n",
       "      <td>3</td>\n",
       "      <td>Mads</td>\n",
       "      <td>Andersen</td>\n",
       "    </tr>\n",
       "    <tr>\n",
       "      <th>2</th>\n",
       "      <td>984600</td>\n",
       "      <td>51656</td>\n",
       "      <td>10.243082</td>\n",
       "      <td>-1.114597e-05</td>\n",
       "      <td>0.001466</td>\n",
       "      <td>1.313169e-08</td>\n",
       "      <td>FB</td>\n",
       "      <td>LFB</td>\n",
       "      <td>Home</td>\n",
       "      <td>5</td>\n",
       "      <td>Michael</td>\n",
       "      <td>Lumb</td>\n",
       "    </tr>\n",
       "    <tr>\n",
       "      <th>3</th>\n",
       "      <td>984600</td>\n",
       "      <td>126317</td>\n",
       "      <td>9.749276</td>\n",
       "      <td>-1.292588e-07</td>\n",
       "      <td>0.001870</td>\n",
       "      <td>1.674551e-08</td>\n",
       "      <td>M</td>\n",
       "      <td>CM</td>\n",
       "      <td>Home</td>\n",
       "      <td>6</td>\n",
       "      <td>Sivert</td>\n",
       "      <td>Heltne Nilsen</td>\n",
       "    </tr>\n",
       "    <tr>\n",
       "      <th>4</th>\n",
       "      <td>984600</td>\n",
       "      <td>85007</td>\n",
       "      <td>8.067055</td>\n",
       "      <td>-5.418892e-06</td>\n",
       "      <td>0.001702</td>\n",
       "      <td>1.524209e-08</td>\n",
       "      <td>CB</td>\n",
       "      <td>CD</td>\n",
       "      <td>Home</td>\n",
       "      <td>7</td>\n",
       "      <td>Mathias</td>\n",
       "      <td>Nielsen</td>\n",
       "    </tr>\n",
       "  </tbody>\n",
       "</table>\n",
       "</div>"
      ],
      "text/plain": [
       "   match_id  player_id         b1            b2  sigma_b1      sigma_b2  \\\n",
       "0    984600      68250   2.807164  6.748634e-07  0.001069  9.575698e-09   \n",
       "1    984600     208904   8.995215 -5.770922e-06  0.000853  7.641641e-09   \n",
       "2    984600      51656  10.243082 -1.114597e-05  0.001466  1.313169e-08   \n",
       "3    984600     126317   9.749276 -1.292588e-07  0.001870  1.674551e-08   \n",
       "4    984600      85007   8.067055 -5.418892e-06  0.001702  1.524209e-08   \n",
       "\n",
       "  start_pos_super Starting Position  Team  Jersey Num first_name  \\\n",
       "0              GK                GK  Home           1      Matej   \n",
       "1              CB                CD  Home           3       Mads   \n",
       "2              FB               LFB  Home           5    Michael   \n",
       "3               M                CM  Home           6     Sivert   \n",
       "4              CB                CD  Home           7    Mathias   \n",
       "\n",
       "       last_name  \n",
       "0          Delac  \n",
       "1       Andersen  \n",
       "2           Lumb  \n",
       "3  Heltne Nilsen  \n",
       "4        Nielsen  "
      ]
     },
     "execution_count": 366,
     "metadata": {},
     "output_type": "execute_result"
    }
   ],
   "source": [
    "model_data_w_pos.head()"
   ]
  },
  {
   "cell_type": "markdown",
   "metadata": {},
   "source": [
    "# New features for regression\n",
    "## Possession, Time of ball in play"
   ]
  },
  {
   "cell_type": "code",
   "execution_count": 367,
   "metadata": {},
   "outputs": [],
   "source": [
    "model_data_w_pos['ball_in_play'] = None\n",
    "model_data_w_pos['possession'] = None"
   ]
  },
  {
   "cell_type": "code",
   "execution_count": 370,
   "metadata": {},
   "outputs": [],
   "source": [
    "for match_id, path in game_dicts.items():    \n",
    "    with open(path, 'rb') as infile:\n",
    "        data_dict = pickle.load(infile)\n",
    "        \n",
    "    ball_in_play_data = pd.DataFrame(data_dict['ball_in_play'], columns=['ball_in_play', 'possession'])\n",
    "    \n",
    "    # ball in play\n",
    "    counts_ball = ball_in_play_data['ball_in_play'].value_counts()\n",
    "    ball_in_play = counts_ball['Alive']  /counts_ball.sum()\n",
    "    model_data_w_pos.loc[model_data_w_pos['match_id'].astype(int) == int(match_id),\n",
    "                         'ball_in_play'] = ball_in_play\n",
    "    \n",
    "    # possesion\n",
    "    counts_possession = ball_in_play_data['possession'].value_counts()\n",
    "    model_data_w_pos.loc[model_data_w_pos['match_id'].astype(str).str.match(str(match_id))\n",
    "                            & model_data_w_pos['Team'].str.match('Home'),\n",
    "                        'possession'] = counts_possession['H']/counts_possession.sum()\n",
    "    model_data_w_pos.loc[model_data_w_pos['match_id'].astype(str).str.match(str(match_id))\n",
    "                            & model_data_w_pos['Team'].str.match('Away'),\n",
    "                        'possession'] = counts_possession['A']/counts_possession.sum()\n",
    "    \n"
   ]
  },
  {
   "cell_type": "markdown",
   "metadata": {},
   "source": [
    "## Absolute value of goal difference at 60th minute"
   ]
  },
  {
   "cell_type": "code",
   "execution_count": null,
   "metadata": {},
   "outputs": [],
   "source": [
    "# ???\n",
    "# hard to know, where are the scores?"
   ]
  },
  {
   "cell_type": "markdown",
   "metadata": {},
   "source": [
    "## Number of games played in last month"
   ]
  },
  {
   "cell_type": "code",
   "execution_count": 378,
   "metadata": {},
   "outputs": [],
   "source": [
    "# must read meta data of each game\n",
    "# get date of each game\n",
    "# for each player\n",
    "    # find number of games played in last month"
   ]
  },
  {
   "cell_type": "code",
   "execution_count": null,
   "metadata": {},
   "outputs": [],
   "source": []
  },
  {
   "cell_type": "markdown",
   "metadata": {},
   "source": [
    "## Save"
   ]
  },
  {
   "cell_type": "code",
   "execution_count": 380,
   "metadata": {},
   "outputs": [],
   "source": [
    "# save\n",
    "model_data_w_pos.to_csv('../data_model/model_coefs_processed.csv', index=0)\n"
   ]
  },
  {
   "cell_type": "code",
   "execution_count": null,
   "metadata": {},
   "outputs": [],
   "source": []
  },
  {
   "cell_type": "markdown",
   "metadata": {},
   "source": [
    "# Player meta data: Age, height, weight, etc\n",
    "### Get player features"
   ]
  },
  {
   "cell_type": "code",
   "execution_count": null,
   "metadata": {},
   "outputs": [],
   "source": [
    "# players data\n",
    "PLAYER_ID_to_JERSEY_NUM_LOC = '../playerid_jerseynum_map.csv'\n",
    "players_df_raw = pd.read_csv(PLAYER_ID_to_JERSEY_NUM_LOC)"
   ]
  },
  {
   "cell_type": "code",
   "execution_count": 284,
   "metadata": {},
   "outputs": [],
   "source": [
    "# # read  player data\n",
    "# danish_player_data = pd.read_csv('../DanishSuperLiga_1819_PlayerData.csv')\n",
    "\n",
    "# # get player id to name mapping\n",
    "# name_and_id = players_df[['Playerid', 'Player name', 'first_name', 'last_name']].drop_duplicates()\n",
    "\n",
    "# # split first and last name\n",
    "# first_last = danish_player_data['Player'].str.split(expand=True, n=1)\n",
    "# first_last.columns = ['first_name', 'last_name']\n",
    "# danish_player_data[['first_name', 'last_name']] = first_last\n",
    "\n",
    "# # for missing last name, attribute first name\n",
    "# last_nulls = danish_player_data[danish_player_data['last_name'].isnull()]\n",
    "# danish_player_data.loc[last_name_nulls_idx, 'last_name'] = danish_player_data.loc[\n",
    "#     last_name_nulls_idx, 'first_name'\n",
    "# ]"
   ]
  },
  {
   "cell_type": "code",
   "execution_count": 100,
   "metadata": {
    "collapsed": true,
    "jupyter": {
     "outputs_hidden": true
    }
   },
   "outputs": [
    {
     "name": "stdout",
     "output_type": "stream",
     "text": [
      "0\n",
      "3\n",
      "2\n",
      "2\n",
      "3\n",
      "3\n",
      "2\n",
      "2\n",
      "2\n",
      "2\n",
      "2\n",
      "3\n",
      "2\n",
      "2\n",
      "0\n",
      "0\n",
      "3\n",
      "3\n",
      "0\n",
      "0\n",
      "0\n",
      "0\n",
      "2\n",
      "0\n",
      "0\n",
      "0\n",
      "2\n",
      "0\n",
      "3\n",
      "0\n",
      "0\n",
      "2\n",
      "0\n",
      "3\n",
      "0\n",
      "0\n",
      "0\n",
      "0\n",
      "0\n"
     ]
    }
   ],
   "source": [
    "# # get player id in the player data\n",
    "# for i, first, last, name in danish_player_data[['first_name', 'last_name', 'Player']].reset_index().values:\n",
    "#     # last name\n",
    "#     if last:\n",
    "#         last_matches = name_and_id['Player name'].str.contains(last)\n",
    "    \n",
    "#     # first name\n",
    "#     if last_matches.any():\n",
    "#         first_matches = name_and_id[last_matches]['first_name'].str.slice(stop=1).str.contains(first[0])\n",
    "#         if len(first_matches[first_matches].index) == 1:\n",
    "#             p_id = name_and_id.loc[first_matches[first_matches].index]['Playerid']\n",
    "            \n",
    "#             # set\n",
    "#             danish_player_data.loc[i, 'player_id'] = p_id.values[0]\n",
    "#         else:\n",
    "#             print(len(first_matches[first_matches].index))\n",
    "            "
   ]
  },
  {
   "cell_type": "code",
   "execution_count": 64,
   "metadata": {},
   "outputs": [],
   "source": [
    "# write clean data\n",
    "danish_player_data.to_csv('../DanishSuperLiga_1819_PlayerData_processed.csv', index=0)"
   ]
  },
  {
   "cell_type": "code",
   "execution_count": null,
   "metadata": {},
   "outputs": [],
   "source": []
  },
  {
   "cell_type": "markdown",
   "metadata": {},
   "source": [
    "# Merge model fit data with player data"
   ]
  },
  {
   "cell_type": "code",
   "execution_count": 440,
   "metadata": {},
   "outputs": [],
   "source": [
    "# read TWO DATASETS\n",
    "model_data_processed = pd.read_csv('../data_model/model_coefs_processed.csv')\n",
    "danish_player_data = pd.read_csv('../DanishSuperLiga_1819_PlayerData_processed.csv')\\\n",
    "                            .drop(['first_name', 'last_name', 'Team', 'Contract expires'], axis=1)\n",
    "\n",
    "# MERGE\n",
    "model_and_player_data = pd.merge(model_data_processed.astype({'player_id':float}),\n",
    "                                 danish_player_data,\n",
    "                                 on='player_id',\n",
    "                                 how='left')"
   ]
  },
  {
   "cell_type": "code",
   "execution_count": 441,
   "metadata": {},
   "outputs": [
    {
     "data": {
      "text/plain": [
       "Index(['match_id', 'player_id', 'b1', 'b2', 'sigma_b1', 'sigma_b2',\n",
       "       'start_pos_super', 'Starting Position', 'Team', 'Jersey Num',\n",
       "       'first_name', 'last_name', 'ball_in_play', 'possession', 'Player',\n",
       "       'Position', 'Age', 'Market value', 'Matches played', 'Minutes played',\n",
       "       'Goals', 'xG', 'Assists', 'xA', 'Birth country', 'Passport country',\n",
       "       'Foot', 'Height', 'Weight', 'On loan'],\n",
       "      dtype='object')"
      ]
     },
     "execution_count": 441,
     "metadata": {},
     "output_type": "execute_result"
    }
   ],
   "source": [
    "model_and_player_data.columns"
   ]
  },
  {
   "cell_type": "code",
   "execution_count": 442,
   "metadata": {},
   "outputs": [
    {
     "data": {
      "text/html": [
       "<div>\n",
       "<style scoped>\n",
       "    .dataframe tbody tr th:only-of-type {\n",
       "        vertical-align: middle;\n",
       "    }\n",
       "\n",
       "    .dataframe tbody tr th {\n",
       "        vertical-align: top;\n",
       "    }\n",
       "\n",
       "    .dataframe thead th {\n",
       "        text-align: right;\n",
       "    }\n",
       "</style>\n",
       "<table border=\"1\" class=\"dataframe\">\n",
       "  <thead>\n",
       "    <tr style=\"text-align: right;\">\n",
       "      <th></th>\n",
       "      <th>match_id</th>\n",
       "      <th>player_id</th>\n",
       "      <th>b1</th>\n",
       "      <th>b2</th>\n",
       "      <th>sigma_b1</th>\n",
       "      <th>sigma_b2</th>\n",
       "      <th>start_pos_super</th>\n",
       "      <th>Starting Position</th>\n",
       "      <th>Team</th>\n",
       "      <th>Jersey Num</th>\n",
       "      <th>...</th>\n",
       "      <th>Goals</th>\n",
       "      <th>xG</th>\n",
       "      <th>Assists</th>\n",
       "      <th>xA</th>\n",
       "      <th>Birth country</th>\n",
       "      <th>Passport country</th>\n",
       "      <th>Foot</th>\n",
       "      <th>Height</th>\n",
       "      <th>Weight</th>\n",
       "      <th>On loan</th>\n",
       "    </tr>\n",
       "  </thead>\n",
       "  <tbody>\n",
       "    <tr>\n",
       "      <th>0</th>\n",
       "      <td>984600</td>\n",
       "      <td>68250.0</td>\n",
       "      <td>2.807164</td>\n",
       "      <td>6.748634e-07</td>\n",
       "      <td>0.001069</td>\n",
       "      <td>9.575698e-09</td>\n",
       "      <td>GK</td>\n",
       "      <td>GK</td>\n",
       "      <td>Home</td>\n",
       "      <td>1</td>\n",
       "      <td>...</td>\n",
       "      <td>NaN</td>\n",
       "      <td>NaN</td>\n",
       "      <td>NaN</td>\n",
       "      <td>NaN</td>\n",
       "      <td>NaN</td>\n",
       "      <td>NaN</td>\n",
       "      <td>NaN</td>\n",
       "      <td>NaN</td>\n",
       "      <td>NaN</td>\n",
       "      <td>NaN</td>\n",
       "    </tr>\n",
       "    <tr>\n",
       "      <th>1</th>\n",
       "      <td>984600</td>\n",
       "      <td>208904.0</td>\n",
       "      <td>8.995215</td>\n",
       "      <td>-5.770922e-06</td>\n",
       "      <td>0.000853</td>\n",
       "      <td>7.641641e-09</td>\n",
       "      <td>CB</td>\n",
       "      <td>CD</td>\n",
       "      <td>Home</td>\n",
       "      <td>3</td>\n",
       "      <td>...</td>\n",
       "      <td>NaN</td>\n",
       "      <td>NaN</td>\n",
       "      <td>NaN</td>\n",
       "      <td>NaN</td>\n",
       "      <td>NaN</td>\n",
       "      <td>NaN</td>\n",
       "      <td>NaN</td>\n",
       "      <td>NaN</td>\n",
       "      <td>NaN</td>\n",
       "      <td>NaN</td>\n",
       "    </tr>\n",
       "    <tr>\n",
       "      <th>2</th>\n",
       "      <td>984600</td>\n",
       "      <td>51656.0</td>\n",
       "      <td>10.243082</td>\n",
       "      <td>-1.114597e-05</td>\n",
       "      <td>0.001466</td>\n",
       "      <td>1.313169e-08</td>\n",
       "      <td>FB</td>\n",
       "      <td>LFB</td>\n",
       "      <td>Home</td>\n",
       "      <td>5</td>\n",
       "      <td>...</td>\n",
       "      <td>3.0</td>\n",
       "      <td>1.72</td>\n",
       "      <td>2.0</td>\n",
       "      <td>4.40</td>\n",
       "      <td>Denmark</td>\n",
       "      <td>Denmark</td>\n",
       "      <td>left</td>\n",
       "      <td>180.0</td>\n",
       "      <td>79.0</td>\n",
       "      <td>no</td>\n",
       "    </tr>\n",
       "    <tr>\n",
       "      <th>3</th>\n",
       "      <td>984600</td>\n",
       "      <td>126317.0</td>\n",
       "      <td>9.749276</td>\n",
       "      <td>-1.292588e-07</td>\n",
       "      <td>0.001870</td>\n",
       "      <td>1.674551e-08</td>\n",
       "      <td>M</td>\n",
       "      <td>CM</td>\n",
       "      <td>Home</td>\n",
       "      <td>6</td>\n",
       "      <td>...</td>\n",
       "      <td>1.0</td>\n",
       "      <td>1.85</td>\n",
       "      <td>0.0</td>\n",
       "      <td>0.96</td>\n",
       "      <td>Norway</td>\n",
       "      <td>Norway</td>\n",
       "      <td>right</td>\n",
       "      <td>184.0</td>\n",
       "      <td>78.0</td>\n",
       "      <td>no</td>\n",
       "    </tr>\n",
       "    <tr>\n",
       "      <th>4</th>\n",
       "      <td>984600</td>\n",
       "      <td>85007.0</td>\n",
       "      <td>8.067055</td>\n",
       "      <td>-5.418892e-06</td>\n",
       "      <td>0.001702</td>\n",
       "      <td>1.524209e-08</td>\n",
       "      <td>CB</td>\n",
       "      <td>CD</td>\n",
       "      <td>Home</td>\n",
       "      <td>7</td>\n",
       "      <td>...</td>\n",
       "      <td>0.0</td>\n",
       "      <td>2.08</td>\n",
       "      <td>0.0</td>\n",
       "      <td>0.96</td>\n",
       "      <td>Denmark</td>\n",
       "      <td>Denmark</td>\n",
       "      <td>right</td>\n",
       "      <td>187.0</td>\n",
       "      <td>80.0</td>\n",
       "      <td>no</td>\n",
       "    </tr>\n",
       "  </tbody>\n",
       "</table>\n",
       "<p>5 rows × 30 columns</p>\n",
       "</div>"
      ],
      "text/plain": [
       "   match_id  player_id         b1            b2  sigma_b1      sigma_b2  \\\n",
       "0    984600    68250.0   2.807164  6.748634e-07  0.001069  9.575698e-09   \n",
       "1    984600   208904.0   8.995215 -5.770922e-06  0.000853  7.641641e-09   \n",
       "2    984600    51656.0  10.243082 -1.114597e-05  0.001466  1.313169e-08   \n",
       "3    984600   126317.0   9.749276 -1.292588e-07  0.001870  1.674551e-08   \n",
       "4    984600    85007.0   8.067055 -5.418892e-06  0.001702  1.524209e-08   \n",
       "\n",
       "  start_pos_super Starting Position  Team  Jersey Num  ... Goals    xG  \\\n",
       "0              GK                GK  Home           1  ...   NaN   NaN   \n",
       "1              CB                CD  Home           3  ...   NaN   NaN   \n",
       "2              FB               LFB  Home           5  ...   3.0  1.72   \n",
       "3               M                CM  Home           6  ...   1.0  1.85   \n",
       "4              CB                CD  Home           7  ...   0.0  2.08   \n",
       "\n",
       "   Assists    xA Birth country Passport country   Foot  Height  Weight  \\\n",
       "0      NaN   NaN           NaN              NaN    NaN     NaN     NaN   \n",
       "1      NaN   NaN           NaN              NaN    NaN     NaN     NaN   \n",
       "2      2.0  4.40       Denmark          Denmark   left   180.0    79.0   \n",
       "3      0.0  0.96        Norway           Norway  right   184.0    78.0   \n",
       "4      0.0  0.96       Denmark          Denmark  right   187.0    80.0   \n",
       "\n",
       "   On loan  \n",
       "0      NaN  \n",
       "1      NaN  \n",
       "2       no  \n",
       "3       no  \n",
       "4       no  \n",
       "\n",
       "[5 rows x 30 columns]"
      ]
     },
     "execution_count": 442,
     "metadata": {},
     "output_type": "execute_result"
    }
   ],
   "source": [
    "model_and_player_data.head()"
   ]
  },
  {
   "cell_type": "markdown",
   "metadata": {},
   "source": [
    "## Delete 25% of data with null rows "
   ]
  },
  {
   "cell_type": "code",
   "execution_count": 443,
   "metadata": {},
   "outputs": [
    {
     "data": {
      "text/plain": [
       "False    786\n",
       "True     242\n",
       "Name: Age, dtype: int64"
      ]
     },
     "metadata": {},
     "output_type": "display_data"
    }
   ],
   "source": [
    "# number of player data missing\n",
    "display(model_and_player_data['Age'].isnull().value_counts())"
   ]
  },
  {
   "cell_type": "code",
   "execution_count": 444,
   "metadata": {},
   "outputs": [],
   "source": [
    "model_and_player_data = model_and_player_data.dropna()"
   ]
  },
  {
   "cell_type": "markdown",
   "metadata": {},
   "source": [
    "## Data set visualizations"
   ]
  },
  {
   "cell_type": "code",
   "execution_count": 465,
   "metadata": {},
   "outputs": [],
   "source": [
    "share_by_pos = model_and_player_data.groupby('start_pos_super').count()['player_id']"
   ]
  },
  {
   "cell_type": "code",
   "execution_count": 850,
   "metadata": {},
   "outputs": [],
   "source": [
    "# fig, ax = plt.subplots(figsize=(4, 4), dpi=100)\n",
    "# ax.pie(share_by_pos,labels=share_by_pos.index,\n",
    "#        autopct='%1.1f%%', textprops=dict(color=\"w\"))\n",
    "# ax.set_title('Distribution of data points per position')\n",
    "# plt.legend()\n",
    "\n",
    "# # plt.legend()\n",
    "# plt.show()"
   ]
  },
  {
   "cell_type": "markdown",
   "metadata": {},
   "source": [
    "## Export final dataset"
   ]
  },
  {
   "cell_type": "code",
   "execution_count": 1236,
   "metadata": {},
   "outputs": [],
   "source": [
    "model_and_player_data.to_csv('./dataset_final.csv', index=0)"
   ]
  },
  {
   "cell_type": "markdown",
   "metadata": {},
   "source": [
    "# Read data"
   ]
  },
  {
   "cell_type": "code",
   "execution_count": 2,
   "metadata": {},
   "outputs": [],
   "source": [
    "model_and_player_data = pd.read_csv('./dataset_final.csv')"
   ]
  },
  {
   "cell_type": "code",
   "execution_count": 3,
   "metadata": {},
   "outputs": [],
   "source": [
    "# get rid of unecessary columns\n",
    "positions_idx = model_and_player_data['start_pos_super']\n",
    "data = model_and_player_data[\n",
    "    ['b1', 'b2', 'sigma_b1', 'sigma_b2',\n",
    "     'Height', 'Weight', 'Age', 'ball_in_play', 'possession',\n",
    "     'Matches played', 'Minutes played', 'start_pos_super',\n",
    "       'Goals', 'xG', 'Assists', 'xA']\n",
    "]\n",
    "\n",
    "# only selected features\n",
    "data = data[\n",
    "        ['b1', 'b2', 'sigma_b1', 'sigma_b2','start_pos_super',\n",
    "     'Height', 'Weight', 'Age', 'ball_in_play', 'possession']\n",
    "    \n",
    "]"
   ]
  },
  {
   "cell_type": "code",
   "execution_count": 4,
   "metadata": {},
   "outputs": [],
   "source": [
    "mapping = dict(zip(['FB', 'M', 'CB', 'F', 'GK'], range(1, 6)))"
   ]
  },
  {
   "cell_type": "code",
   "execution_count": 5,
   "metadata": {},
   "outputs": [],
   "source": [
    "# discretize\n",
    "data.loc[:, 'start_pos_super'] = data['start_pos_super'].apply(lambda x: mapping[x])\n",
    "data = data.rename({'start_pos_super':'position'}, axis=1)"
   ]
  },
  {
   "cell_type": "code",
   "execution_count": null,
   "metadata": {},
   "outputs": [],
   "source": []
  },
  {
   "cell_type": "markdown",
   "metadata": {},
   "source": [
    "# Standardize"
   ]
  },
  {
   "cell_type": "code",
   "execution_count": 6,
   "metadata": {},
   "outputs": [],
   "source": [
    "from sklearn.preprocessing import StandardScaler"
   ]
  },
  {
   "cell_type": "code",
   "execution_count": 7,
   "metadata": {},
   "outputs": [],
   "source": [
    "scaler = StandardScaler()\n",
    "data_scaled = scaler.fit_transform(data)"
   ]
  },
  {
   "cell_type": "code",
   "execution_count": 8,
   "metadata": {},
   "outputs": [
    {
     "data": {
      "text/html": [
       "<div>\n",
       "<style scoped>\n",
       "    .dataframe tbody tr th:only-of-type {\n",
       "        vertical-align: middle;\n",
       "    }\n",
       "\n",
       "    .dataframe tbody tr th {\n",
       "        vertical-align: top;\n",
       "    }\n",
       "\n",
       "    .dataframe thead th {\n",
       "        text-align: right;\n",
       "    }\n",
       "</style>\n",
       "<table border=\"1\" class=\"dataframe\">\n",
       "  <thead>\n",
       "    <tr style=\"text-align: right;\">\n",
       "      <th></th>\n",
       "      <th>b1</th>\n",
       "      <th>b2</th>\n",
       "      <th>sigma_b1</th>\n",
       "      <th>sigma_b2</th>\n",
       "      <th>position</th>\n",
       "      <th>Height</th>\n",
       "      <th>Weight</th>\n",
       "      <th>Age</th>\n",
       "      <th>ball_in_play</th>\n",
       "      <th>possession</th>\n",
       "    </tr>\n",
       "  </thead>\n",
       "  <tbody>\n",
       "    <tr>\n",
       "      <th>0</th>\n",
       "      <td>-0.107345</td>\n",
       "      <td>-0.295573</td>\n",
       "      <td>-0.338208</td>\n",
       "      <td>-0.343493</td>\n",
       "      <td>-1.457342</td>\n",
       "      <td>-0.700358</td>\n",
       "      <td>0.109486</td>\n",
       "      <td>1.117553</td>\n",
       "      <td>-0.7792</td>\n",
       "      <td>-0.485828</td>\n",
       "    </tr>\n",
       "    <tr>\n",
       "      <th>1</th>\n",
       "      <td>-0.283248</td>\n",
       "      <td>0.949500</td>\n",
       "      <td>0.216214</td>\n",
       "      <td>0.209711</td>\n",
       "      <td>-0.621356</td>\n",
       "      <td>-0.027427</td>\n",
       "      <td>-0.013765</td>\n",
       "      <td>0.122043</td>\n",
       "      <td>-0.7792</td>\n",
       "      <td>-0.485828</td>\n",
       "    </tr>\n",
       "    <tr>\n",
       "      <th>2</th>\n",
       "      <td>-0.882484</td>\n",
       "      <td>0.351683</td>\n",
       "      <td>-0.014436</td>\n",
       "      <td>-0.020432</td>\n",
       "      <td>0.214631</td>\n",
       "      <td>0.477271</td>\n",
       "      <td>0.232737</td>\n",
       "      <td>0.370920</td>\n",
       "      <td>-0.7792</td>\n",
       "      <td>-0.485828</td>\n",
       "    </tr>\n",
       "    <tr>\n",
       "      <th>3</th>\n",
       "      <td>-0.783903</td>\n",
       "      <td>0.680501</td>\n",
       "      <td>-0.350787</td>\n",
       "      <td>-0.356045</td>\n",
       "      <td>1.050617</td>\n",
       "      <td>0.477271</td>\n",
       "      <td>-0.013765</td>\n",
       "      <td>-0.873468</td>\n",
       "      <td>-0.7792</td>\n",
       "      <td>-0.485828</td>\n",
       "    </tr>\n",
       "    <tr>\n",
       "      <th>4</th>\n",
       "      <td>-0.632478</td>\n",
       "      <td>1.154792</td>\n",
       "      <td>-0.570414</td>\n",
       "      <td>-0.575189</td>\n",
       "      <td>1.050617</td>\n",
       "      <td>-1.036824</td>\n",
       "      <td>-0.260266</td>\n",
       "      <td>-0.375712</td>\n",
       "      <td>-0.7792</td>\n",
       "      <td>-0.485828</td>\n",
       "    </tr>\n",
       "  </tbody>\n",
       "</table>\n",
       "</div>"
      ],
      "text/plain": [
       "         b1        b2  sigma_b1  sigma_b2  position    Height    Weight  \\\n",
       "0 -0.107345 -0.295573 -0.338208 -0.343493 -1.457342 -0.700358  0.109486   \n",
       "1 -0.283248  0.949500  0.216214  0.209711 -0.621356 -0.027427 -0.013765   \n",
       "2 -0.882484  0.351683 -0.014436 -0.020432  0.214631  0.477271  0.232737   \n",
       "3 -0.783903  0.680501 -0.350787 -0.356045  1.050617  0.477271 -0.013765   \n",
       "4 -0.632478  1.154792 -0.570414 -0.575189  1.050617 -1.036824 -0.260266   \n",
       "\n",
       "        Age  ball_in_play  possession  \n",
       "0  1.117553       -0.7792   -0.485828  \n",
       "1  0.122043       -0.7792   -0.485828  \n",
       "2  0.370920       -0.7792   -0.485828  \n",
       "3 -0.873468       -0.7792   -0.485828  \n",
       "4 -0.375712       -0.7792   -0.485828  "
      ]
     },
     "execution_count": 8,
     "metadata": {},
     "output_type": "execute_result"
    }
   ],
   "source": [
    "data_scaled = pd.DataFrame(data_scaled, columns=data.columns)\n",
    "data_scaled.head()"
   ]
  },
  {
   "cell_type": "markdown",
   "metadata": {},
   "source": [
    "# Final processing"
   ]
  },
  {
   "cell_type": "code",
   "execution_count": 9,
   "metadata": {},
   "outputs": [],
   "source": [
    "# labels Y\n",
    "Y = data_scaled[['b1', 'b2']]"
   ]
  },
  {
   "cell_type": "code",
   "execution_count": 10,
   "metadata": {},
   "outputs": [],
   "source": [
    "# feature X\n",
    "features = ['position', 'Age', 'Height', 'Weight', 'ball_in_play', 'possession']\n",
    "\n",
    "X = data_scaled[features]"
   ]
  },
  {
   "cell_type": "code",
   "execution_count": null,
   "metadata": {},
   "outputs": [],
   "source": []
  },
  {
   "cell_type": "markdown",
   "metadata": {},
   "source": [
    "# Feature selection"
   ]
  },
  {
   "cell_type": "code",
   "execution_count": 11,
   "metadata": {},
   "outputs": [
    {
     "ename": "NameError",
     "evalue": "name 'ax' is not defined",
     "output_type": "error",
     "traceback": [
      "\u001b[0;31m---------------------------------------------------------------------------\u001b[0m",
      "\u001b[0;31mNameError\u001b[0m                                 Traceback (most recent call last)",
      "\u001b[0;32m<ipython-input-11-b00e77935981>\u001b[0m in \u001b[0;36m<module>\u001b[0;34m\u001b[0m\n\u001b[0;32m----> 1\u001b[0;31m \u001b[0max\u001b[0m\u001b[0;34m\u001b[0m\u001b[0;34m\u001b[0m\u001b[0m\n\u001b[0m",
      "\u001b[0;31mNameError\u001b[0m: name 'ax' is not defined"
     ]
    }
   ],
   "source": [
    "ax"
   ]
  },
  {
   "cell_type": "code",
   "execution_count": null,
   "metadata": {},
   "outputs": [],
   "source": [
    "#Using Pearson Correlation\n",
    "plt.figure(figsize=(7, 7), dpi=150)\n",
    "cor = data_scaled.corr()\n",
    "ax = sns.heatmap(cor, annot=True, cmap=plt.cm.Reds, fmt='.2f', color='b')\n",
    "ax.set_ylim(len(cor), 0)\n",
    "plt.title('Heatmap of Pearson correlation ')\n",
    "plt.show()"
   ]
  },
  {
   "cell_type": "code",
   "execution_count": 12,
   "metadata": {},
   "outputs": [
    {
     "ename": "NameError",
     "evalue": "name 'results1' is not defined",
     "output_type": "error",
     "traceback": [
      "\u001b[0;31m---------------------------------------------------------------------------\u001b[0m",
      "\u001b[0;31mNameError\u001b[0m                                 Traceback (most recent call last)",
      "\u001b[0;32m<ipython-input-12-d764b1105164>\u001b[0m in \u001b[0;36m<module>\u001b[0;34m\u001b[0m\n\u001b[0;32m----> 1\u001b[0;31m \u001b[0mresults1\u001b[0m\u001b[0;34m\u001b[0m\u001b[0;34m\u001b[0m\u001b[0m\n\u001b[0m",
      "\u001b[0;31mNameError\u001b[0m: name 'results1' is not defined"
     ]
    }
   ],
   "source": [
    "results1"
   ]
  },
  {
   "cell_type": "code",
   "execution_count": 1357,
   "metadata": {},
   "outputs": [
    {
     "data": {
      "text/plain": [
       "array([-0.00446365,  0.17931471,  0.17928669])"
      ]
     },
     "execution_count": 1357,
     "metadata": {},
     "output_type": "execute_result"
    }
   ],
   "source": [
    "results"
   ]
  },
  {
   "cell_type": "code",
   "execution_count": 18,
   "metadata": {},
   "outputs": [
    {
     "name": "stderr",
     "output_type": "stream",
     "text": [
      "/Users/jeffbalkanski/anaconda3/envs/soccer3/lib/python3.7/site-packages/pandas/core/indexing.py:376: SettingWithCopyWarning: \n",
      "A value is trying to be set on a copy of a slice from a DataFrame.\n",
      "Try using .loc[row_indexer,col_indexer] = value instead\n",
      "\n",
      "See the caveats in the documentation: http://pandas.pydata.org/pandas-docs/stable/user_guide/indexing.html#returning-a-view-versus-a-copy\n",
      "  self.obj[key] = _infer_fill_value(value)\n",
      "/Users/jeffbalkanski/anaconda3/envs/soccer3/lib/python3.7/site-packages/pandas/core/indexing.py:576: SettingWithCopyWarning: \n",
      "A value is trying to be set on a copy of a slice from a DataFrame.\n",
      "Try using .loc[row_indexer,col_indexer] = value instead\n",
      "\n",
      "See the caveats in the documentation: http://pandas.pydata.org/pandas-docs/stable/user_guide/indexing.html#returning-a-view-versus-a-copy\n",
      "  self.obj[item_labels[indexer[info_axis]]] = value\n"
     ]
    }
   ],
   "source": [
    "X.loc[:, 'constant'] = 1"
   ]
  },
  {
   "cell_type": "code",
   "execution_count": null,
   "metadata": {},
   "outputs": [],
   "source": [
    "X = X.drop('constant', )"
   ]
  },
  {
   "cell_type": "markdown",
   "metadata": {},
   "source": [
    "# one model for all"
   ]
  },
  {
   "cell_type": "code",
   "execution_count": 19,
   "metadata": {},
   "outputs": [
    {
     "data": {
      "text/plain": [
       "Index(['position', 'Age', 'Height', 'Weight', 'ball_in_play', 'possession',\n",
       "       'constant'],\n",
       "      dtype='object')"
      ]
     },
     "execution_count": 19,
     "metadata": {},
     "output_type": "execute_result"
    }
   ],
   "source": [
    "X.keys()"
   ]
  },
  {
   "cell_type": "code",
   "execution_count": 43,
   "metadata": {},
   "outputs": [
    {
     "name": "stdout",
     "output_type": "stream",
     "text": [
      "[[-0.00216616 -0.00752989 -0.00218055 -0.00883407 -0.0016076 ]\n",
      " [ 0.23658493  0.22999451  0.16871625  0.13029097  0.13098689]\n",
      " [ 0.23661167  0.23003168  0.16870244  0.1301772   0.13091048]]\n",
      "[-0.00446365  0.17931471  0.17928669]\n"
     ]
    }
   ],
   "source": [
    "# models\n",
    "lasso, ridge, osl = linear_model.Lasso(), linear_model.Ridge(), linear_model.LinearRegression()\n",
    "\n",
    "# evaluate\n",
    "lasso_r2, ridge_r2, osl_r2 = [cross_val_score(model, X, Y, \n",
    "                                              cv=5, scoring='r2') \n",
    "                              for model in [lasso, ridge, osl]]\n",
    "\n",
    "print(np.array([lasso_r2, ridge_r2, osl_r2]))\n",
    "results = np.array([lasso_r2, ridge_r2, osl_r2]).mean(axis=1)\n",
    "print(results)"
   ]
  },
  {
   "cell_type": "code",
   "execution_count": 44,
   "metadata": {},
   "outputs": [],
   "source": [
    "lasso, ridge, osl = linear_model.Lasso(), linear_model.Ridge(), linear_model.LinearRegression()\n"
   ]
  },
  {
   "cell_type": "code",
   "execution_count": 34,
   "metadata": {},
   "outputs": [],
   "source": [
    "osl.intercept_ = 2"
   ]
  },
  {
   "cell_type": "markdown",
   "metadata": {},
   "source": [
    "# sklearn Regression\n",
    "One regression per position"
   ]
  },
  {
   "cell_type": "code",
   "execution_count": 15,
   "metadata": {},
   "outputs": [],
   "source": [
    "from sklearn import linear_model\n",
    "from sklearn.model_selection import cross_validate, cross_val_score, train_test_split\n",
    "import sklearn\n",
    "from sklearn import preprocessing\n",
    "\n",
    "from sklearn.metrics import mean_squared_error, r2_score"
   ]
  },
  {
   "cell_type": "code",
   "execution_count": null,
   "metadata": {},
   "outputs": [],
   "source": []
  },
  {
   "cell_type": "code",
   "execution_count": 38,
   "metadata": {},
   "outputs": [],
   "source": [
    "# indices of positions\n",
    "pos_to_idx = positions_idx.reset_index().groupby('start_pos_super')['index'].apply(list)"
   ]
  },
  {
   "cell_type": "code",
   "execution_count": 39,
   "metadata": {},
   "outputs": [
    {
     "name": "stdout",
     "output_type": "stream",
     "text": [
      "CB\n",
      "R^2 score:  -0.0007394195589048751\n",
      "R^2 score:  -0.015456705610699475\n",
      "R^2 score:  -0.015994692244178665\n",
      "Coefficients:  [array([[ 0., -0., -0., -0.,  0., -0.,  0.],\n",
      "       [-0.,  0.,  0.,  0., -0.,  0.,  0.]]), array([[ 4.19960623e-31, -1.09951734e-01, -1.51042398e-01,\n",
      "         3.02230701e-02,  2.72203013e-04, -4.72473302e-02,\n",
      "         0.00000000e+00],\n",
      "       [ 3.26238313e-32,  7.45200120e-02, -7.27620474e-02,\n",
      "         1.69038177e-01, -3.14271759e-02,  6.25094951e-02,\n",
      "         0.00000000e+00]]), array([[ 0.        , -0.11136456, -0.15545194,  0.03469755, -0.00050991,\n",
      "        -0.04726418,  0.        ],\n",
      "       [ 0.        ,  0.07395496, -0.07786589,  0.17531961, -0.03228052,\n",
      "         0.06308495,  0.        ]])]\n",
      "\n",
      "F\n",
      "R^2 score:  -0.018113952398404243\n",
      "R^2 score:  0.12246919727877571\n",
      "R^2 score:  0.11882638324316334\n",
      "Coefficients:  [array([[ 0., -0.,  0., -0.,  0., -0.,  0.],\n",
      "       [-0.,  0., -0.,  0., -0.,  0.,  0.]]), array([[ 7.83827295e-31, -2.96511227e-01,  9.80998743e-02,\n",
      "        -6.57196047e-03,  2.23302401e-01,  6.56460770e-03,\n",
      "         0.00000000e+00],\n",
      "       [-4.08559896e-31,  1.79664413e-01, -2.78220610e-02,\n",
      "        -1.04971184e-01, -2.80224424e-01,  4.66172013e-02,\n",
      "         0.00000000e+00]]), array([[ 0.        , -0.29978838,  0.0994406 , -0.00561584,  0.22547563,\n",
      "         0.00748877,  0.        ],\n",
      "       [ 0.        ,  0.18226121, -0.02392396, -0.11357283, -0.28451459,\n",
      "         0.04611277,  0.        ]])]\n",
      "\n",
      "FB\n",
      "R^2 score:  -0.09728539004562925\n",
      "R^2 score:  -0.21488191231778708\n",
      "R^2 score:  -0.22402165435307422\n"
     ]
    },
    {
     "name": "stderr",
     "output_type": "stream",
     "text": [
      "/Users/jeffbalkanski/anaconda3/envs/soccer3/lib/python3.7/site-packages/sklearn/base.py:420: FutureWarning: The default value of multioutput (not exposed in score method) will change from 'variance_weighted' to 'uniform_average' in 0.23 to keep consistent with 'metrics.r2_score'. To specify the default value manually and avoid the warning, please either call 'metrics.r2_score' directly or make a custom scorer with 'metrics.make_scorer' (the built-in scorer 'r2' uses multioutput='uniform_average').\n",
      "  \"multioutput='uniform_average').\", FutureWarning)\n",
      "/Users/jeffbalkanski/anaconda3/envs/soccer3/lib/python3.7/site-packages/sklearn/base.py:420: FutureWarning: The default value of multioutput (not exposed in score method) will change from 'variance_weighted' to 'uniform_average' in 0.23 to keep consistent with 'metrics.r2_score'. To specify the default value manually and avoid the warning, please either call 'metrics.r2_score' directly or make a custom scorer with 'metrics.make_scorer' (the built-in scorer 'r2' uses multioutput='uniform_average').\n",
      "  \"multioutput='uniform_average').\", FutureWarning)\n",
      "/Users/jeffbalkanski/anaconda3/envs/soccer3/lib/python3.7/site-packages/sklearn/base.py:420: FutureWarning: The default value of multioutput (not exposed in score method) will change from 'variance_weighted' to 'uniform_average' in 0.23 to keep consistent with 'metrics.r2_score'. To specify the default value manually and avoid the warning, please either call 'metrics.r2_score' directly or make a custom scorer with 'metrics.make_scorer' (the built-in scorer 'r2' uses multioutput='uniform_average').\n",
      "  \"multioutput='uniform_average').\", FutureWarning)\n",
      "/Users/jeffbalkanski/anaconda3/envs/soccer3/lib/python3.7/site-packages/sklearn/base.py:420: FutureWarning: The default value of multioutput (not exposed in score method) will change from 'variance_weighted' to 'uniform_average' in 0.23 to keep consistent with 'metrics.r2_score'. To specify the default value manually and avoid the warning, please either call 'metrics.r2_score' directly or make a custom scorer with 'metrics.make_scorer' (the built-in scorer 'r2' uses multioutput='uniform_average').\n",
      "  \"multioutput='uniform_average').\", FutureWarning)\n",
      "/Users/jeffbalkanski/anaconda3/envs/soccer3/lib/python3.7/site-packages/sklearn/base.py:420: FutureWarning: The default value of multioutput (not exposed in score method) will change from 'variance_weighted' to 'uniform_average' in 0.23 to keep consistent with 'metrics.r2_score'. To specify the default value manually and avoid the warning, please either call 'metrics.r2_score' directly or make a custom scorer with 'metrics.make_scorer' (the built-in scorer 'r2' uses multioutput='uniform_average').\n",
      "  \"multioutput='uniform_average').\", FutureWarning)\n",
      "/Users/jeffbalkanski/anaconda3/envs/soccer3/lib/python3.7/site-packages/sklearn/base.py:420: FutureWarning: The default value of multioutput (not exposed in score method) will change from 'variance_weighted' to 'uniform_average' in 0.23 to keep consistent with 'metrics.r2_score'. To specify the default value manually and avoid the warning, please either call 'metrics.r2_score' directly or make a custom scorer with 'metrics.make_scorer' (the built-in scorer 'r2' uses multioutput='uniform_average').\n",
      "  \"multioutput='uniform_average').\", FutureWarning)\n",
      "/Users/jeffbalkanski/anaconda3/envs/soccer3/lib/python3.7/site-packages/sklearn/base.py:420: FutureWarning: The default value of multioutput (not exposed in score method) will change from 'variance_weighted' to 'uniform_average' in 0.23 to keep consistent with 'metrics.r2_score'. To specify the default value manually and avoid the warning, please either call 'metrics.r2_score' directly or make a custom scorer with 'metrics.make_scorer' (the built-in scorer 'r2' uses multioutput='uniform_average').\n",
      "  \"multioutput='uniform_average').\", FutureWarning)\n",
      "/Users/jeffbalkanski/anaconda3/envs/soccer3/lib/python3.7/site-packages/sklearn/base.py:420: FutureWarning: The default value of multioutput (not exposed in score method) will change from 'variance_weighted' to 'uniform_average' in 0.23 to keep consistent with 'metrics.r2_score'. To specify the default value manually and avoid the warning, please either call 'metrics.r2_score' directly or make a custom scorer with 'metrics.make_scorer' (the built-in scorer 'r2' uses multioutput='uniform_average').\n",
      "  \"multioutput='uniform_average').\", FutureWarning)\n",
      "/Users/jeffbalkanski/anaconda3/envs/soccer3/lib/python3.7/site-packages/sklearn/base.py:420: FutureWarning: The default value of multioutput (not exposed in score method) will change from 'variance_weighted' to 'uniform_average' in 0.23 to keep consistent with 'metrics.r2_score'. To specify the default value manually and avoid the warning, please either call 'metrics.r2_score' directly or make a custom scorer with 'metrics.make_scorer' (the built-in scorer 'r2' uses multioutput='uniform_average').\n",
      "  \"multioutput='uniform_average').\", FutureWarning)\n"
     ]
    },
    {
     "name": "stdout",
     "output_type": "stream",
     "text": [
      "Coefficients:  [array([[ 0., -0.,  0.,  0.,  0.,  0.,  0.],\n",
      "       [ 0.,  0., -0., -0., -0.,  0.,  0.]]), array([[ 5.65585224e-31, -1.11928927e-01,  7.00232028e-02,\n",
      "         3.68891217e-01,  8.99967490e-02, -4.67036468e-03,\n",
      "         0.00000000e+00],\n",
      "       [-1.46775951e-31,  3.92847048e-02, -5.04208338e-02,\n",
      "        -3.36832241e-01, -7.65032524e-02,  6.29077100e-02,\n",
      "         0.00000000e+00]]), array([[ 0.        , -0.11389587,  0.0628439 ,  0.3963001 ,  0.09332315,\n",
      "        -0.00603773,  0.        ],\n",
      "       [ 0.        ,  0.04053193, -0.04361438, -0.36214015, -0.07961788,\n",
      "         0.06479491,  0.        ]])]\n",
      "\n",
      "GK\n",
      "R^2 score:  -0.004776951486091239\n",
      "R^2 score:  -0.10260326335205676\n",
      "R^2 score:  -0.11416911934739532\n",
      "Coefficients:  [array([[-0., -0., -0., -0.,  0.,  0.,  0.],\n",
      "       [ 0.,  0.,  0.,  0., -0., -0.,  0.]]), array([[-3.67595713e-30, -4.60618063e-03,  7.51365747e-02,\n",
      "        -2.36127886e-01,  3.98053181e-02,  4.06550717e-02,\n",
      "         0.00000000e+00],\n",
      "       [ 5.64918888e-31,  9.24653137e-02,  6.63225340e-02,\n",
      "        -3.66426214e-02, -2.59829618e-02, -2.73939792e-02,\n",
      "         0.00000000e+00]]), array([[-0.33029649,  0.01054451,  0.11545516, -0.32824131,  0.04590547,\n",
      "         0.04586433,  0.        ],\n",
      "       [ 0.04088317,  0.09970784,  0.07948336, -0.06255211, -0.02460194,\n",
      "        -0.02688738,  0.        ]])]\n",
      "\n",
      "M\n",
      "R^2 score:  -0.01651437467919169\n",
      "R^2 score:  -0.10372025067704932\n",
      "R^2 score:  -0.10466847985949762\n",
      "Coefficients:  [array([[ 0., -0., -0., -0.,  0.,  0.,  0.],\n",
      "       [ 0.,  0.,  0., -0., -0., -0.,  0.]]), array([[ 0.        , -0.1583233 ,  0.01254011, -0.02880451,  0.03050907,\n",
      "         0.08359175,  0.        ],\n",
      "       [ 0.        ,  0.13571025, -0.00781968, -0.03995378, -0.05940083,\n",
      "        -0.1496781 ,  0.        ]]), array([[ 0.        , -0.1594724 ,  0.012896  , -0.02893843,  0.03059076,\n",
      "         0.08418638,  0.        ],\n",
      "       [ 0.        ,  0.13671076, -0.00798665, -0.04016451, -0.05972916,\n",
      "        -0.15066848,  0.        ]])]\n",
      "\n"
     ]
    },
    {
     "name": "stderr",
     "output_type": "stream",
     "text": [
      "/Users/jeffbalkanski/anaconda3/envs/soccer3/lib/python3.7/site-packages/sklearn/base.py:420: FutureWarning: The default value of multioutput (not exposed in score method) will change from 'variance_weighted' to 'uniform_average' in 0.23 to keep consistent with 'metrics.r2_score'. To specify the default value manually and avoid the warning, please either call 'metrics.r2_score' directly or make a custom scorer with 'metrics.make_scorer' (the built-in scorer 'r2' uses multioutput='uniform_average').\n",
      "  \"multioutput='uniform_average').\", FutureWarning)\n",
      "/Users/jeffbalkanski/anaconda3/envs/soccer3/lib/python3.7/site-packages/sklearn/base.py:420: FutureWarning: The default value of multioutput (not exposed in score method) will change from 'variance_weighted' to 'uniform_average' in 0.23 to keep consistent with 'metrics.r2_score'. To specify the default value manually and avoid the warning, please either call 'metrics.r2_score' directly or make a custom scorer with 'metrics.make_scorer' (the built-in scorer 'r2' uses multioutput='uniform_average').\n",
      "  \"multioutput='uniform_average').\", FutureWarning)\n",
      "/Users/jeffbalkanski/anaconda3/envs/soccer3/lib/python3.7/site-packages/sklearn/base.py:420: FutureWarning: The default value of multioutput (not exposed in score method) will change from 'variance_weighted' to 'uniform_average' in 0.23 to keep consistent with 'metrics.r2_score'. To specify the default value manually and avoid the warning, please either call 'metrics.r2_score' directly or make a custom scorer with 'metrics.make_scorer' (the built-in scorer 'r2' uses multioutput='uniform_average').\n",
      "  \"multioutput='uniform_average').\", FutureWarning)\n",
      "/Users/jeffbalkanski/anaconda3/envs/soccer3/lib/python3.7/site-packages/sklearn/base.py:420: FutureWarning: The default value of multioutput (not exposed in score method) will change from 'variance_weighted' to 'uniform_average' in 0.23 to keep consistent with 'metrics.r2_score'. To specify the default value manually and avoid the warning, please either call 'metrics.r2_score' directly or make a custom scorer with 'metrics.make_scorer' (the built-in scorer 'r2' uses multioutput='uniform_average').\n",
      "  \"multioutput='uniform_average').\", FutureWarning)\n",
      "/Users/jeffbalkanski/anaconda3/envs/soccer3/lib/python3.7/site-packages/sklearn/base.py:420: FutureWarning: The default value of multioutput (not exposed in score method) will change from 'variance_weighted' to 'uniform_average' in 0.23 to keep consistent with 'metrics.r2_score'. To specify the default value manually and avoid the warning, please either call 'metrics.r2_score' directly or make a custom scorer with 'metrics.make_scorer' (the built-in scorer 'r2' uses multioutput='uniform_average').\n",
      "  \"multioutput='uniform_average').\", FutureWarning)\n",
      "/Users/jeffbalkanski/anaconda3/envs/soccer3/lib/python3.7/site-packages/sklearn/base.py:420: FutureWarning: The default value of multioutput (not exposed in score method) will change from 'variance_weighted' to 'uniform_average' in 0.23 to keep consistent with 'metrics.r2_score'. To specify the default value manually and avoid the warning, please either call 'metrics.r2_score' directly or make a custom scorer with 'metrics.make_scorer' (the built-in scorer 'r2' uses multioutput='uniform_average').\n",
      "  \"multioutput='uniform_average').\", FutureWarning)\n"
     ]
    }
   ],
   "source": [
    "# one model per position\n",
    "scores = []\n",
    "\n",
    "for pos, indices in pos_to_idx.to_dict().items():\n",
    "    print(pos)\n",
    "    X_pos = X.loc[indices]\n",
    "    Y_pos = Y.loc[indices]\n",
    "    X_train, X_test, Y_train, Y_test = train_test_split(X_pos, Y_pos, \n",
    "                                                        test_size=0.3, random_state=1)\n",
    "    # regression sklearn\n",
    "    lasso, ridge, osl = linear_model.Lasso(), linear_model.Ridge(), linear_model.LinearRegression()\n",
    "    lasso.fit(X_train, Y_train)\n",
    "    ridge.fit(X_train, Y_train)\n",
    "    osl.fit(X_train, Y_train)\n",
    "    print('R^2 score: ', lasso.score(X_test, Y_test))\n",
    "    print('R^2 score: ', ridge.score(X_test, Y_test))\n",
    "    print('R^2 score: ', osl.score(X_test, Y_test))\n",
    "    \n",
    "    # regression stats model\n",
    "#      statsmodels.multivariate.multivariate_ols._MultivariateOLS\n",
    "\n",
    "    # predict and score\n",
    "#     preds = reg.predict(X_test)\n",
    "#     print('R^2 score: ', r2_score(Y_test, preds))\n",
    "    \n",
    "#     # MSE\n",
    "#     print('MSE score: ', mean_squared_error(Y_test, preds))\n",
    "    \n",
    "    # evaluate\n",
    "    lasso_r2, ridge_r2, osl_r2 = [cross_val_score(model, X_pos, Y_pos, cv=5, scoring='r2') \n",
    "                                  for model in [lasso, ridge, osl]]\n",
    "    \n",
    "    # coefficient\n",
    "    print('Coefficients: ',[mod.coef_ for mod in [lasso, ridge, osl]])\n",
    "\n",
    "    # save regressor\n",
    "    scores.append([pos, np.mean(lasso_r2), np.mean(ridge_r2), np.mean(osl_r2)])\n",
    "\n",
    "    print()"
   ]
  },
  {
   "cell_type": "code",
   "execution_count": 40,
   "metadata": {},
   "outputs": [
    {
     "data": {
      "text/plain": [
       "[['CB', -0.008761689732249178, -0.04183103442454881, -0.04274559624149106],\n",
       " ['F', -0.03687686555398821, 0.1495733916062028, 0.14590688580326705],\n",
       " ['FB', -0.023941023136370365, -0.040681482514656545, -0.04355190049120553],\n",
       " ['GK', -0.11168230593991195, -0.22571965815860748, -0.2390058526318529],\n",
       " ['M', -0.037927071123725266, -0.03896094622597547, -0.039185470388598945]]"
      ]
     },
     "execution_count": 40,
     "metadata": {},
     "output_type": "execute_result"
    }
   ],
   "source": [
    "scores"
   ]
  },
  {
   "cell_type": "code",
   "execution_count": 41,
   "metadata": {},
   "outputs": [],
   "source": [
    "# scores displayed\n",
    "selected = pd.DataFrame(scores, columns=['position', 'R2_lasso', 'R2_ridge', 'R2_OSL']).set_index('position')"
   ]
  },
  {
   "cell_type": "code",
   "execution_count": 42,
   "metadata": {},
   "outputs": [
    {
     "data": {
      "text/html": [
       "<div>\n",
       "<style scoped>\n",
       "    .dataframe tbody tr th:only-of-type {\n",
       "        vertical-align: middle;\n",
       "    }\n",
       "\n",
       "    .dataframe tbody tr th {\n",
       "        vertical-align: top;\n",
       "    }\n",
       "\n",
       "    .dataframe thead th {\n",
       "        text-align: right;\n",
       "    }\n",
       "</style>\n",
       "<table border=\"1\" class=\"dataframe\">\n",
       "  <thead>\n",
       "    <tr style=\"text-align: right;\">\n",
       "      <th></th>\n",
       "      <th>R2_lasso</th>\n",
       "      <th>R2_ridge</th>\n",
       "      <th>R2_OSL</th>\n",
       "    </tr>\n",
       "    <tr>\n",
       "      <th>position</th>\n",
       "      <th></th>\n",
       "      <th></th>\n",
       "      <th></th>\n",
       "    </tr>\n",
       "  </thead>\n",
       "  <tbody>\n",
       "    <tr>\n",
       "      <th>CB</th>\n",
       "      <td>-0.008762</td>\n",
       "      <td>-0.041831</td>\n",
       "      <td>-0.042746</td>\n",
       "    </tr>\n",
       "    <tr>\n",
       "      <th>F</th>\n",
       "      <td>-0.036877</td>\n",
       "      <td>0.149573</td>\n",
       "      <td>0.145907</td>\n",
       "    </tr>\n",
       "    <tr>\n",
       "      <th>FB</th>\n",
       "      <td>-0.023941</td>\n",
       "      <td>-0.040681</td>\n",
       "      <td>-0.043552</td>\n",
       "    </tr>\n",
       "    <tr>\n",
       "      <th>GK</th>\n",
       "      <td>-0.111682</td>\n",
       "      <td>-0.225720</td>\n",
       "      <td>-0.239006</td>\n",
       "    </tr>\n",
       "    <tr>\n",
       "      <th>M</th>\n",
       "      <td>-0.037927</td>\n",
       "      <td>-0.038961</td>\n",
       "      <td>-0.039185</td>\n",
       "    </tr>\n",
       "  </tbody>\n",
       "</table>\n",
       "</div>"
      ],
      "text/plain": [
       "          R2_lasso  R2_ridge    R2_OSL\n",
       "position                              \n",
       "CB       -0.008762 -0.041831 -0.042746\n",
       "F        -0.036877  0.149573  0.145907\n",
       "FB       -0.023941 -0.040681 -0.043552\n",
       "GK       -0.111682 -0.225720 -0.239006\n",
       "M        -0.037927 -0.038961 -0.039185"
      ]
     },
     "execution_count": 42,
     "metadata": {},
     "output_type": "execute_result"
    }
   ],
   "source": [
    "selected"
   ]
  },
  {
   "cell_type": "code",
   "execution_count": 1312,
   "metadata": {},
   "outputs": [
    {
     "data": {
      "text/html": [
       "<div>\n",
       "<style scoped>\n",
       "    .dataframe tbody tr th:only-of-type {\n",
       "        vertical-align: middle;\n",
       "    }\n",
       "\n",
       "    .dataframe tbody tr th {\n",
       "        vertical-align: top;\n",
       "    }\n",
       "\n",
       "    .dataframe thead th {\n",
       "        text-align: right;\n",
       "    }\n",
       "</style>\n",
       "<table border=\"1\" class=\"dataframe\">\n",
       "  <thead>\n",
       "    <tr style=\"text-align: right;\">\n",
       "      <th></th>\n",
       "      <th>R2_lasso</th>\n",
       "      <th>R2_ridge</th>\n",
       "      <th>R2_OSL</th>\n",
       "    </tr>\n",
       "    <tr>\n",
       "      <th>position</th>\n",
       "      <th></th>\n",
       "      <th></th>\n",
       "      <th></th>\n",
       "    </tr>\n",
       "  </thead>\n",
       "  <tbody>\n",
       "    <tr>\n",
       "      <th>CB</th>\n",
       "      <td>-0.008762</td>\n",
       "      <td>-0.051291</td>\n",
       "      <td>-0.052215</td>\n",
       "    </tr>\n",
       "    <tr>\n",
       "      <th>F</th>\n",
       "      <td>-0.036877</td>\n",
       "      <td>0.067798</td>\n",
       "      <td>0.065387</td>\n",
       "    </tr>\n",
       "    <tr>\n",
       "      <th>FB</th>\n",
       "      <td>-0.023941</td>\n",
       "      <td>-0.054668</td>\n",
       "      <td>-0.057555</td>\n",
       "    </tr>\n",
       "    <tr>\n",
       "      <th>GK</th>\n",
       "      <td>-0.111682</td>\n",
       "      <td>-0.198709</td>\n",
       "      <td>-0.218685</td>\n",
       "    </tr>\n",
       "    <tr>\n",
       "      <th>M</th>\n",
       "      <td>-0.037927</td>\n",
       "      <td>-0.060966</td>\n",
       "      <td>-0.061172</td>\n",
       "    </tr>\n",
       "  </tbody>\n",
       "</table>\n",
       "</div>"
      ],
      "text/plain": [
       "          R2_lasso  R2_ridge    R2_OSL\n",
       "position                              \n",
       "CB       -0.008762 -0.051291 -0.052215\n",
       "F        -0.036877  0.067798  0.065387\n",
       "FB       -0.023941 -0.054668 -0.057555\n",
       "GK       -0.111682 -0.198709 -0.218685\n",
       "M        -0.037927 -0.060966 -0.061172"
      ]
     },
     "execution_count": 1312,
     "metadata": {},
     "output_type": "execute_result"
    }
   ],
   "source": [
    "without_age"
   ]
  },
  {
   "cell_type": "code",
   "execution_count": 1181,
   "metadata": {},
   "outputs": [
    {
     "data": {
      "text/html": [
       "<div>\n",
       "<style scoped>\n",
       "    .dataframe tbody tr th:only-of-type {\n",
       "        vertical-align: middle;\n",
       "    }\n",
       "\n",
       "    .dataframe tbody tr th {\n",
       "        vertical-align: top;\n",
       "    }\n",
       "\n",
       "    .dataframe thead th {\n",
       "        text-align: right;\n",
       "    }\n",
       "</style>\n",
       "<table border=\"1\" class=\"dataframe\">\n",
       "  <thead>\n",
       "    <tr style=\"text-align: right;\">\n",
       "      <th></th>\n",
       "      <th>ball_in_play</th>\n",
       "      <th>possession</th>\n",
       "    </tr>\n",
       "  </thead>\n",
       "  <tbody>\n",
       "    <tr>\n",
       "      <th>1</th>\n",
       "      <td>-0.779200</td>\n",
       "      <td>-0.485828</td>\n",
       "    </tr>\n",
       "    <tr>\n",
       "      <th>6</th>\n",
       "      <td>-0.779200</td>\n",
       "      <td>-0.485828</td>\n",
       "    </tr>\n",
       "    <tr>\n",
       "      <th>7</th>\n",
       "      <td>-0.779200</td>\n",
       "      <td>0.502417</td>\n",
       "    </tr>\n",
       "    <tr>\n",
       "      <th>15</th>\n",
       "      <td>0.295576</td>\n",
       "      <td>-1.129934</td>\n",
       "    </tr>\n",
       "    <tr>\n",
       "      <th>20</th>\n",
       "      <td>0.295576</td>\n",
       "      <td>1.146524</td>\n",
       "    </tr>\n",
       "    <tr>\n",
       "      <th>...</th>\n",
       "      <td>...</td>\n",
       "      <td>...</td>\n",
       "    </tr>\n",
       "    <tr>\n",
       "      <th>767</th>\n",
       "      <td>0.611808</td>\n",
       "      <td>0.719621</td>\n",
       "    </tr>\n",
       "    <tr>\n",
       "      <th>768</th>\n",
       "      <td>1.823694</td>\n",
       "      <td>-0.449149</td>\n",
       "    </tr>\n",
       "    <tr>\n",
       "      <th>773</th>\n",
       "      <td>1.823694</td>\n",
       "      <td>-0.449149</td>\n",
       "    </tr>\n",
       "    <tr>\n",
       "      <th>774</th>\n",
       "      <td>1.823694</td>\n",
       "      <td>0.465738</td>\n",
       "    </tr>\n",
       "    <tr>\n",
       "      <th>775</th>\n",
       "      <td>1.823694</td>\n",
       "      <td>0.465738</td>\n",
       "    </tr>\n",
       "  </tbody>\n",
       "</table>\n",
       "<p>227 rows × 2 columns</p>\n",
       "</div>"
      ],
      "text/plain": [
       "     ball_in_play  possession\n",
       "1       -0.779200   -0.485828\n",
       "6       -0.779200   -0.485828\n",
       "7       -0.779200    0.502417\n",
       "15       0.295576   -1.129934\n",
       "20       0.295576    1.146524\n",
       "..            ...         ...\n",
       "767      0.611808    0.719621\n",
       "768      1.823694   -0.449149\n",
       "773      1.823694   -0.449149\n",
       "774      1.823694    0.465738\n",
       "775      1.823694    0.465738\n",
       "\n",
       "[227 rows x 2 columns]"
      ]
     },
     "execution_count": 1181,
     "metadata": {},
     "output_type": "execute_result"
    }
   ],
   "source": [
    "X_pos"
   ]
  },
  {
   "cell_type": "markdown",
   "metadata": {},
   "source": [
    "# Random forest for feature selection"
   ]
  },
  {
   "cell_type": "code",
   "execution_count": 1119,
   "metadata": {},
   "outputs": [],
   "source": [
    "from sklearn.ensemble import RandomForestClassifier, RandomForestRegressor\n",
    "from sklearn.feature_selection import SelectFromModel"
   ]
  },
  {
   "cell_type": "code",
   "execution_count": 1234,
   "metadata": {},
   "outputs": [
    {
     "name": "stderr",
     "output_type": "stream",
     "text": [
      "/Users/jeffbalkanski/anaconda3/envs/soccer3/lib/python3.7/site-packages/sklearn/ensemble/forest.py:245: FutureWarning: The default value of n_estimators will change from 10 in version 0.20 to 100 in 0.22.\n",
      "  \"10 in version 0.20 to 100 in 0.22.\", FutureWarning)\n"
     ]
    },
    {
     "data": {
      "text/html": [
       "<div>\n",
       "<style scoped>\n",
       "    .dataframe tbody tr th:only-of-type {\n",
       "        vertical-align: middle;\n",
       "    }\n",
       "\n",
       "    .dataframe tbody tr th {\n",
       "        vertical-align: top;\n",
       "    }\n",
       "\n",
       "    .dataframe thead th {\n",
       "        text-align: right;\n",
       "    }\n",
       "</style>\n",
       "<table border=\"1\" class=\"dataframe\">\n",
       "  <thead>\n",
       "    <tr style=\"text-align: right;\">\n",
       "      <th></th>\n",
       "      <th>selected</th>\n",
       "    </tr>\n",
       "    <tr>\n",
       "      <th>position</th>\n",
       "      <th></th>\n",
       "    </tr>\n",
       "  </thead>\n",
       "  <tbody>\n",
       "    <tr>\n",
       "      <th>ball_in_play</th>\n",
       "      <td>False</td>\n",
       "    </tr>\n",
       "    <tr>\n",
       "      <th>possession</th>\n",
       "      <td>True</td>\n",
       "    </tr>\n",
       "  </tbody>\n",
       "</table>\n",
       "</div>"
      ],
      "text/plain": [
       "              selected\n",
       "position              \n",
       "ball_in_play     False\n",
       "possession        True"
      ]
     },
     "execution_count": 1234,
     "metadata": {},
     "output_type": "execute_result"
    }
   ],
   "source": [
    "# Create a random forest classifier\n",
    "sel = SelectFromModel(RandomForestRegressor())\n",
    "sel.fit(X_train, Y_train)\n",
    "\n",
    "\n",
    "feature_selec = list(zip(X_train.keys().tolist(), sel.get_support()))\n",
    "\n",
    "pd.DataFrame(feature_selec, columns=['position', 'selected']).set_index('position')"
   ]
  },
  {
   "cell_type": "code",
   "execution_count": 1235,
   "metadata": {},
   "outputs": [
    {
     "data": {
      "text/plain": [
       "SelectFromModel(estimator=RandomForestRegressor(bootstrap=True, criterion='mse',\n",
       "                                                max_depth=None,\n",
       "                                                max_features='auto',\n",
       "                                                max_leaf_nodes=None,\n",
       "                                                min_impurity_decrease=0.0,\n",
       "                                                min_impurity_split=None,\n",
       "                                                min_samples_leaf=1,\n",
       "                                                min_samples_split=2,\n",
       "                                                min_weight_fraction_leaf=0.0,\n",
       "                                                n_estimators='warn',\n",
       "                                                n_jobs=None, oob_score=False,\n",
       "                                                random_state=None, verbose=0,\n",
       "                                                warm_start=False),\n",
       "                max_features=None, norm_order=1, prefit=False, threshold=None)"
      ]
     },
     "execution_count": 1235,
     "metadata": {},
     "output_type": "execute_result"
    }
   ],
   "source": [
    "sel"
   ]
  },
  {
   "cell_type": "code",
   "execution_count": null,
   "metadata": {},
   "outputs": [],
   "source": []
  },
  {
   "cell_type": "code",
   "execution_count": null,
   "metadata": {},
   "outputs": [],
   "source": []
  },
  {
   "cell_type": "code",
   "execution_count": 1125,
   "metadata": {},
   "outputs": [
    {
     "name": "stdout",
     "output_type": "stream",
     "text": [
      "Coefficients: \n",
      " [938.23786125]\n",
      "Mean squared error: 2548.07\n",
      "Coefficient of determination: 0.47\n"
     ]
    },
    {
     "data": {
      "image/png": "[encoded data removed]",
      "text/plain": [
       "<Figure size 432x288 with 1 Axes>"
      ]
     },
     "metadata": {},
     "output_type": "display_data"
    }
   ],
   "source": [
    "import matplotlib.pyplot as plt\n",
    "import numpy as np\n",
    "from sklearn import datasets, linear_model\n",
    "from sklearn.metrics import mean_squared_error, r2_score\n",
    "\n",
    "# Load the diabetes dataset\n",
    "diabetes_X, diabetes_y = datasets.load_diabetes(return_X_y=True)\n",
    "\n",
    "# Use only one feature\n",
    "diabetes_X = diabetes_X[:, np.newaxis, 2]\n",
    "\n",
    "# Split the data into training/testing sets\n",
    "diabetes_X_train = diabetes_X[:-20]\n",
    "diabetes_X_test = diabetes_X[-20:]\n",
    "\n",
    "# Split the targets into training/testing sets\n",
    "diabetes_y_train = diabetes_y[:-20]\n",
    "diabetes_y_test = diabetes_y[-20:]\n",
    "\n",
    "# Create linear regression object\n",
    "regr = linear_model.LinearRegression()\n",
    "\n",
    "# Train the model using the training sets\n",
    "regr.fit(diabetes_X_train, diabetes_y_train)\n",
    "\n",
    "# Make predictions using the testing set\n",
    "diabetes_y_pred = regr.predict(diabetes_X_test)\n",
    "\n",
    "# The coefficients\n",
    "print('Coefficients: \\n', regr.coef_)\n",
    "# The mean squared error\n",
    "print('Mean squared error: %.2f'\n",
    "      % mean_squared_error(diabetes_y_test, diabetes_y_pred))\n",
    "# The coefficient of determination: 1 is perfect prediction\n",
    "print('Coefficient of determination: %.2f'\n",
    "      % r2_score(diabetes_y_test, diabetes_y_pred))\n",
    "\n",
    "# Plot outputs\n",
    "plt.scatter(diabetes_X_test, diabetes_y_test,  color='black')\n",
    "plt.plot(diabetes_X_test, diabetes_y_pred, color='blue', linewidth=3)\n",
    "\n",
    "plt.xticks(())\n",
    "plt.yticks(())\n",
    "\n",
    "plt.show()"
   ]
  },
  {
   "cell_type": "code",
   "execution_count": null,
   "metadata": {},
   "outputs": [],
   "source": []
  }
 ],
 "metadata": {
  "kernelspec": {
   "display_name": "Python 3",
   "language": "python",
   "name": "python3"
  },
  "language_info": {
   "codemirror_mode": {
    "name": "ipython",
    "version": 3
   },
   "file_extension": ".py",
   "mimetype": "text/x-python",
   "name": "python",
   "nbconvert_exporter": "python",
   "pygments_lexer": "ipython3",
   "version": "3.7.5"
  }
 },
 "nbformat": 4,
 "nbformat_minor": 4
}
