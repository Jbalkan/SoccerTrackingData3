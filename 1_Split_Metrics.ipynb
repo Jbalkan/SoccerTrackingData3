{
 "cells": [
  {
   "cell_type": "markdown",
   "metadata": {},
   "source": [
    "# Data Exploration and first metrics computation\n",
    "From Laurie Shaw:\n",
    "\n",
    "Thee first step is simply to get the example script to run (it should produce a bunch of plots, obviously you'll have to adjust the file paths to wherever you saved the tracking data).\n",
    "\n",
    "Once you've got it to run, try to understand what each line in the example script is doing. \n",
    "\n",
    "- The data is mostly stored in 'frames_tb' which is a list of individual frames, as defined by the class with the same name. Each frame instance contains the positions and velocities of the players and ball at a given instant in time. The data is sampled at 25Hz, so there are 25 frames/second, and about 140,000 for the match. \n",
    "- The example code gives you some idea of how to extract positions and velocities over some range of frames. \n",
    "- The Tracab.py module describes how the data is organized: take a look at the 'tracab_frame' class to see the structure.\n",
    "- Tracking_Visuals contains plotting routines, and Tracking_Velocities contains the code that calculates player and ball velocities from the positions (which could probably be done better)."
   ]
  },
  {
   "cell_type": "code",
   "execution_count": 85,
   "metadata": {},
   "outputs": [
    {
     "name": "stdout",
     "output_type": "stream",
     "text": [
      "The autoreload extension is already loaded. To reload it, use:\n",
      "  %reload_ext autoreload\n"
     ]
    }
   ],
   "source": [
    "%load_ext autoreload\n",
    "%autoreload 2\n",
    "\n",
    "import os\n",
    "import Tracab as tracab\n",
    "import Tracking_Visuals as vis\n",
    "import numpy as np\n",
    "import matplotlib.pyplot as plt\n",
    "import pandas as pd\n",
    "\n",
    "# import importlib\n",
    "# import foo #import the module here, so that it can be reloaded.\n",
    "# importlib.reload(foo)\n"
   ]
  },
  {
   "cell_type": "code",
   "execution_count": 86,
   "metadata": {},
   "outputs": [],
   "source": [
    "# config\n",
    "current_dir = os.path.dirname(os.getcwd())\n",
    "fpath = os.path.join(current_dir, 'TrackingSample') # path to directory of Tracab data\n",
    "LEAGUE = 'DSL'"
   ]
  },
  {
   "cell_type": "markdown",
   "metadata": {},
   "source": [
    "# Read Tracking data"
   ]
  },
  {
   "cell_type": "markdown",
   "metadata": {},
   "source": [
    "We read the data:\n",
    "* frames is a list of the individual match snapshots (positions, velocities)\n",
    "* match contains some metadata (pitch dimensions, etc)\n",
    "* team1_players is a dictionary of the home team players (containing arrays of their positions/velocities over the match)\n",
    "* team0_players is a dictionary of the away team players (containing arrays of their positions/velocities over the match)"
   ]
  },
  {
   "cell_type": "code",
   "execution_count": 87,
   "metadata": {},
   "outputs": [
    {
     "name": "stdout",
     "output_type": "stream",
     "text": [
      "Reading match metadata\n",
      "Reading match tracking data\n",
      "Timestamping frames\n",
      "Measuring velocities\n",
      "home goalkeeper(s):  [1]\n",
      "away goalkeeper(s):  [73]\n",
      "0 67615\n",
      "67616 139808\n"
     ]
    }
   ],
   "source": [
    "# data\n",
    "fname = '984628'\n",
    "\n",
    "# read frames, match meta data, and data for individual players\n",
    "frames_tb, match_tb, team1_players, team0_players = tracab.read_tracab_match_data(LEAGUE, fpath, fname, verbose=True)"
   ]
  },
  {
   "cell_type": "code",
   "execution_count": 88,
   "metadata": {},
   "outputs": [
    {
     "name": "stdout",
     "output_type": "stream",
     "text": [
      "there are 139810 frames\n"
     ]
    }
   ],
   "source": [
    "print('there are {} frames'.format(len(frames_tb)))"
   ]
  },
  {
   "cell_type": "code",
   "execution_count": 90,
   "metadata": {},
   "outputs": [
    {
     "data": {
      "text/plain": [
       "<Tracab.tracab_match at 0x1c75901c50>"
      ]
     },
     "execution_count": 90,
     "metadata": {},
     "output_type": "execute_result"
    }
   ],
   "source": [
    "match_tb"
   ]
  },
  {
   "cell_type": "markdown",
   "metadata": {},
   "source": [
    "# Read Split data"
   ]
  },
  {
   "cell_type": "code",
   "execution_count": 34,
   "metadata": {},
   "outputs": [],
   "source": [
    "split_players = pd.read_csv(os.path.join(fpath, '984628_Physical_Summary_1_clean_players.csv'))\n",
    "split_agg = pd.read_csv(os.path.join(fpath, '984628_Physical_Summary_1_clean_agg.csv'), index_col=0)"
   ]
  },
  {
   "cell_type": "code",
   "execution_count": 35,
   "metadata": {},
   "outputs": [
    {
     "data": {
      "text/html": [
       "<div>\n",
       "<style scoped>\n",
       "    .dataframe tbody tr th:only-of-type {\n",
       "        vertical-align: middle;\n",
       "    }\n",
       "\n",
       "    .dataframe tbody tr th {\n",
       "        vertical-align: top;\n",
       "    }\n",
       "\n",
       "    .dataframe thead th {\n",
       "        text-align: right;\n",
       "    }\n",
       "</style>\n",
       "<table border=\"1\" class=\"dataframe\">\n",
       "  <thead>\n",
       "    <tr style=\"text-align: right;\">\n",
       "      <th></th>\n",
       "      <th>ID</th>\n",
       "      <th>team_id</th>\n",
       "      <th>Player</th>\n",
       "      <th>Minutes</th>\n",
       "      <th>Distance</th>\n",
       "      <th>Standing</th>\n",
       "      <th>Walking</th>\n",
       "      <th>Jogging</th>\n",
       "      <th>Running</th>\n",
       "      <th>High Speed Running</th>\n",
       "      <th>...</th>\n",
       "      <th>Sprint Distance TIP</th>\n",
       "      <th>No. of High Intensity Runs TIP</th>\n",
       "      <th>Distance OTIP</th>\n",
       "      <th>HSR Distance OTIP</th>\n",
       "      <th>Sprint Distance OTIP</th>\n",
       "      <th>No. of High Intensity Runs OTIP</th>\n",
       "      <th>Distance BOP</th>\n",
       "      <th>HSR Distance BOP</th>\n",
       "      <th>Sprint Distance BOP</th>\n",
       "      <th>No. of High Intensity Runs BOP</th>\n",
       "    </tr>\n",
       "  </thead>\n",
       "  <tbody>\n",
       "    <tr>\n",
       "      <th>0</th>\n",
       "      <td>182413</td>\n",
       "      <td>1</td>\n",
       "      <td>Jacob Rinne</td>\n",
       "      <td>93:12:00</td>\n",
       "      <td>4528.57</td>\n",
       "      <td>20.30</td>\n",
       "      <td>3361.22</td>\n",
       "      <td>1029.15</td>\n",
       "      <td>96.67</td>\n",
       "      <td>21.23</td>\n",
       "      <td>...</td>\n",
       "      <td>0.00</td>\n",
       "      <td>2</td>\n",
       "      <td>1641.41</td>\n",
       "      <td>13.59</td>\n",
       "      <td>0.00</td>\n",
       "      <td>2</td>\n",
       "      <td>1536.91</td>\n",
       "      <td>0.00</td>\n",
       "      <td>0.0</td>\n",
       "      <td>0</td>\n",
       "    </tr>\n",
       "    <tr>\n",
       "      <th>1</th>\n",
       "      <td>155453</td>\n",
       "      <td>1</td>\n",
       "      <td>Kasper Pedersen</td>\n",
       "      <td>93:12:00</td>\n",
       "      <td>9532.75</td>\n",
       "      <td>9.14</td>\n",
       "      <td>3549.70</td>\n",
       "      <td>4441.56</td>\n",
       "      <td>1081.65</td>\n",
       "      <td>322.31</td>\n",
       "      <td>...</td>\n",
       "      <td>1.02</td>\n",
       "      <td>5</td>\n",
       "      <td>4216.26</td>\n",
       "      <td>271.79</td>\n",
       "      <td>127.37</td>\n",
       "      <td>34</td>\n",
       "      <td>2271.82</td>\n",
       "      <td>38.31</td>\n",
       "      <td>0.0</td>\n",
       "      <td>3</td>\n",
       "    </tr>\n",
       "    <tr>\n",
       "      <th>2</th>\n",
       "      <td>80502</td>\n",
       "      <td>1</td>\n",
       "      <td>Jores Okore</td>\n",
       "      <td>93:12:00</td>\n",
       "      <td>9691.12</td>\n",
       "      <td>7.04</td>\n",
       "      <td>3179.93</td>\n",
       "      <td>4849.27</td>\n",
       "      <td>1262.01</td>\n",
       "      <td>327.06</td>\n",
       "      <td>...</td>\n",
       "      <td>0.00</td>\n",
       "      <td>8</td>\n",
       "      <td>4065.08</td>\n",
       "      <td>266.05</td>\n",
       "      <td>65.81</td>\n",
       "      <td>29</td>\n",
       "      <td>2413.78</td>\n",
       "      <td>6.52</td>\n",
       "      <td>0.0</td>\n",
       "      <td>4</td>\n",
       "    </tr>\n",
       "    <tr>\n",
       "      <th>3</th>\n",
       "      <td>180169</td>\n",
       "      <td>1</td>\n",
       "      <td>Philipp Ochs</td>\n",
       "      <td>93:12:00</td>\n",
       "      <td>10420.81</td>\n",
       "      <td>5.36</td>\n",
       "      <td>3619.81</td>\n",
       "      <td>4643.77</td>\n",
       "      <td>1455.00</td>\n",
       "      <td>563.26</td>\n",
       "      <td>...</td>\n",
       "      <td>59.40</td>\n",
       "      <td>15</td>\n",
       "      <td>4308.79</td>\n",
       "      <td>392.90</td>\n",
       "      <td>74.21</td>\n",
       "      <td>36</td>\n",
       "      <td>2569.26</td>\n",
       "      <td>18.36</td>\n",
       "      <td>0.0</td>\n",
       "      <td>1</td>\n",
       "    </tr>\n",
       "    <tr>\n",
       "      <th>4</th>\n",
       "      <td>48601</td>\n",
       "      <td>1</td>\n",
       "      <td>Patrick Kristensen</td>\n",
       "      <td>93:12:00</td>\n",
       "      <td>10907.62</td>\n",
       "      <td>8.13</td>\n",
       "      <td>3216.40</td>\n",
       "      <td>4905.82</td>\n",
       "      <td>2093.52</td>\n",
       "      <td>569.47</td>\n",
       "      <td>...</td>\n",
       "      <td>64.62</td>\n",
       "      <td>25</td>\n",
       "      <td>4381.58</td>\n",
       "      <td>376.43</td>\n",
       "      <td>49.66</td>\n",
       "      <td>33</td>\n",
       "      <td>2546.22</td>\n",
       "      <td>19.84</td>\n",
       "      <td>0.0</td>\n",
       "      <td>4</td>\n",
       "    </tr>\n",
       "  </tbody>\n",
       "</table>\n",
       "<p>5 rows × 26 columns</p>\n",
       "</div>"
      ],
      "text/plain": [
       "       ID  team_id              Player   Minutes  Distance  Standing  Walking  \\\n",
       "0  182413        1         Jacob Rinne  93:12:00   4528.57     20.30  3361.22   \n",
       "1  155453        1     Kasper Pedersen  93:12:00   9532.75      9.14  3549.70   \n",
       "2   80502        1         Jores Okore  93:12:00   9691.12      7.04  3179.93   \n",
       "3  180169        1        Philipp Ochs  93:12:00  10420.81      5.36  3619.81   \n",
       "4   48601        1  Patrick Kristensen  93:12:00  10907.62      8.13  3216.40   \n",
       "\n",
       "   Jogging  Running  High Speed Running               ...                \\\n",
       "0  1029.15    96.67               21.23               ...                 \n",
       "1  4441.56  1081.65              322.31               ...                 \n",
       "2  4849.27  1262.01              327.06               ...                 \n",
       "3  4643.77  1455.00              563.26               ...                 \n",
       "4  4905.82  2093.52              569.47               ...                 \n",
       "\n",
       "   Sprint Distance TIP  No. of High Intensity Runs TIP  Distance OTIP  \\\n",
       "0                 0.00                               2        1641.41   \n",
       "1                 1.02                               5        4216.26   \n",
       "2                 0.00                               8        4065.08   \n",
       "3                59.40                              15        4308.79   \n",
       "4                64.62                              25        4381.58   \n",
       "\n",
       "   HSR Distance OTIP  Sprint Distance OTIP  No. of High Intensity Runs OTIP  \\\n",
       "0              13.59                  0.00                                2   \n",
       "1             271.79                127.37                               34   \n",
       "2             266.05                 65.81                               29   \n",
       "3             392.90                 74.21                               36   \n",
       "4             376.43                 49.66                               33   \n",
       "\n",
       "   Distance BOP  HSR Distance BOP  Sprint Distance BOP  \\\n",
       "0       1536.91              0.00                  0.0   \n",
       "1       2271.82             38.31                  0.0   \n",
       "2       2413.78              6.52                  0.0   \n",
       "3       2569.26             18.36                  0.0   \n",
       "4       2546.22             19.84                  0.0   \n",
       "\n",
       "   No. of High Intensity Runs BOP  \n",
       "0                               0  \n",
       "1                               3  \n",
       "2                               4  \n",
       "3                               1  \n",
       "4                               4  \n",
       "\n",
       "[5 rows x 26 columns]"
      ]
     },
     "execution_count": 35,
     "metadata": {},
     "output_type": "execute_result"
    }
   ],
   "source": [
    "split_players.head()"
   ]
  },
  {
   "cell_type": "code",
   "execution_count": 84,
   "metadata": {},
   "outputs": [
    {
     "data": {
      "text/html": [
       "<div>\n",
       "<style scoped>\n",
       "    .dataframe tbody tr th:only-of-type {\n",
       "        vertical-align: middle;\n",
       "    }\n",
       "\n",
       "    .dataframe tbody tr th {\n",
       "        vertical-align: top;\n",
       "    }\n",
       "\n",
       "    .dataframe thead th {\n",
       "        text-align: right;\n",
       "    }\n",
       "</style>\n",
       "<table border=\"1\" class=\"dataframe\">\n",
       "  <thead>\n",
       "    <tr style=\"text-align: right;\">\n",
       "      <th></th>\n",
       "      <th>Total</th>\n",
       "      <th>First</th>\n",
       "      <th>Second</th>\n",
       "    </tr>\n",
       "  </thead>\n",
       "  <tbody>\n",
       "    <tr>\n",
       "      <th>Game time</th>\n",
       "      <td>93:13:00</td>\n",
       "      <td>45:05:00</td>\n",
       "      <td>48:08:00</td>\n",
       "    </tr>\n",
       "    <tr>\n",
       "      <th>Ball in play</th>\n",
       "      <td>57:51:00</td>\n",
       "      <td>27:12:00</td>\n",
       "      <td>30:39:00</td>\n",
       "    </tr>\n",
       "    <tr>\n",
       "      <th>Home TIP</th>\n",
       "      <td>27:23:00</td>\n",
       "      <td>12:36</td>\n",
       "      <td>14:47</td>\n",
       "    </tr>\n",
       "    <tr>\n",
       "      <th>Away TIP</th>\n",
       "      <td>29:37:00</td>\n",
       "      <td>13:57</td>\n",
       "      <td>15:40</td>\n",
       "    </tr>\n",
       "  </tbody>\n",
       "</table>\n",
       "</div>"
      ],
      "text/plain": [
       "                 Total     First    Second\n",
       "Game time     93:13:00  45:05:00  48:08:00\n",
       "Ball in play  57:51:00  27:12:00  30:39:00\n",
       "Home TIP      27:23:00     12:36     14:47\n",
       "Away TIP      29:37:00     13:57     15:40"
      ]
     },
     "execution_count": 84,
     "metadata": {},
     "output_type": "execute_result"
    }
   ],
   "source": [
    "split_agg"
   ]
  },
  {
   "cell_type": "code",
   "execution_count": 38,
   "metadata": {},
   "outputs": [
    {
     "data": {
      "text/plain": [
       "{32: <Tracab.tracab_player at 0x1c0b6a8080>,\n",
       " 1: <Tracab.tracab_player at 0x1c0b6a8198>,\n",
       " 2: <Tracab.tracab_player at 0x1c0b6a82b0>,\n",
       " 5: <Tracab.tracab_player at 0x1c0b6a80f0>,\n",
       " 7: <Tracab.tracab_player at 0x1c0b6a80b8>,\n",
       " 8: <Tracab.tracab_player at 0x1c0b6a8160>,\n",
       " 9: <Tracab.tracab_player at 0x1c0b6a83c8>,\n",
       " 10: <Tracab.tracab_player at 0x1c0b6a8208>,\n",
       " 11: <Tracab.tracab_player at 0x1c0b6a81d0>,\n",
       " 17: <Tracab.tracab_player at 0x1c0b6a8278>,\n",
       " 18: <Tracab.tracab_player at 0x1c0b6a8128>,\n",
       " 21: <Tracab.tracab_player at 0x1c0b6a84e0>,\n",
       " 25: <Tracab.tracab_player at 0x1c0b6a8320>}"
      ]
     },
     "execution_count": 38,
     "metadata": {},
     "output_type": "execute_result"
    }
   ],
   "source": [
    "team1_players"
   ]
  },
  {
   "cell_type": "markdown",
   "metadata": {},
   "source": [
    "## Understanding the code"
   ]
  },
  {
   "cell_type": "code",
   "execution_count": 75,
   "metadata": {},
   "outputs": [],
   "source": [
    "fmetadata, fdata = tracab.get_tracabdata_paths(fpath, fname, league=LEAGUE)\n"
   ]
  },
  {
   "cell_type": "code",
   "execution_count": 83,
   "metadata": {},
   "outputs": [],
   "source": [
    "match = tracab.read_tracab_match(fmetadata)\n"
   ]
  },
  {
   "cell_type": "code",
   "execution_count": 82,
   "metadata": {},
   "outputs": [
    {
     "data": {
      "text/plain": [
       "{'iId': '984628',\n",
       " 'dtDate': '2019-03-17 17:00:00',\n",
       " 'iFrameRateFps': '25',\n",
       " 'fPitchXSizeMeters': '105.00',\n",
       " 'fPitchYSizeMeters': '68.00',\n",
       " 'fTrackingAreaXSizeMeters': '111.00',\n",
       " 'fTrackingAreaYSizeMeters': '88.00'}"
      ]
     },
     "execution_count": 82,
     "metadata": {},
     "output_type": "execute_result"
    }
   ],
   "source": [
    "match.match_attributes"
   ]
  },
  {
   "cell_type": "code",
   "execution_count": null,
   "metadata": {},
   "outputs": [],
   "source": []
  },
  {
   "cell_type": "code",
   "execution_count": null,
   "metadata": {},
   "outputs": [],
   "source": []
  },
  {
   "cell_type": "markdown",
   "metadata": {},
   "source": [
    "# Reproducing split metrics "
   ]
  },
  {
   "cell_type": "code",
   "execution_count": null,
   "metadata": {},
   "outputs": [],
   "source": [
    "# p"
   ]
  }
 ],
 "metadata": {
  "kernelspec": {
   "display_name": "Python 3",
   "language": "python",
   "name": "python3"
  },
  "language_info": {
   "codemirror_mode": {
    "name": "ipython",
    "version": 3
   },
   "file_extension": ".py",
   "mimetype": "text/x-python",
   "name": "python",
   "nbconvert_exporter": "python",
   "pygments_lexer": "ipython3",
   "version": "3.6.5"
  }
 },
 "nbformat": 4,
 "nbformat_minor": 2
}
