{
 "cells": [
  {
   "cell_type": "markdown",
   "metadata": {},
   "source": [
    "# Data Exploration and first metrics computation\n",
    "From Laurie Shaw:\n",
    "\n",
    "Thee first step is simply to get the example script to run (it should produce a bunch of plots, obviously you'll have to adjust the file paths to wherever you saved the tracking data).\n",
    "\n",
    "Once you've got it to run, try to understand what each line in the example script is doing. \n",
    "\n",
    "- The data is mostly stored in 'frames_tb' which is a list of individual frames, as defined by the class with the same name. Each frame instance contains the positions and velocities of the players and ball at a given instant in time. The data is sampled at 25Hz, so there are 25 frames/second, and about 140,000 for the match. \n",
    "- The example code gives you some idea of how to extract positions and velocities over some range of frames. \n",
    "- The Tracab.py module describes how the data is organized: take a look at the 'tracab_frame' class to see the structure.\n",
    "- Tracking_Visuals contains plotting routines, and Tracking_Velocities contains the code that calculates player and ball velocities from the positions (which could probably be done better)."
   ]
  },
  {
   "cell_type": "code",
   "execution_count": 73,
   "metadata": {},
   "outputs": [
    {
     "data": {
      "text/plain": [
       "<module 'Tracab' from '/Users/jeffbalkanski/research_soccer/SoccerTrackingData3/Tracab.py'>"
      ]
     },
     "execution_count": 73,
     "metadata": {},
     "output_type": "execute_result"
    }
   ],
   "source": [
    "import os\n",
    "import Tracab as tracab\n",
    "import Tracking_Visuals as vis\n",
    "import numpy as np\n",
    "import matplotlib.pyplot as plt\n",
    "import pandas as pd\n",
    "\n",
    "import datetime\n",
    "import seaborn as sns\n",
    "\n",
    "import importlib\n",
    "importlib.reload(tracab)\n",
    "\n",
    "# import importlib\n",
    "# import foo #import the module here, so that it can be reloaded.\n",
    "# importlib.reload(foo)"
   ]
  },
  {
   "cell_type": "code",
   "execution_count": 3,
   "metadata": {},
   "outputs": [],
   "source": [
    "# config\n",
    "current_dir = os.path.dirname(os.getcwd())\n",
    "fpath = os.path.join(current_dir, 'TrackingSample') # path to directory of Tracab data\n",
    "LEAGUE = 'DSL'"
   ]
  },
  {
   "cell_type": "markdown",
   "metadata": {},
   "source": [
    "# Read Tracking data"
   ]
  },
  {
   "cell_type": "markdown",
   "metadata": {},
   "source": [
    "We read the data:\n",
    "* frames is a list of the individual match snapshots (positions, velocities)\n",
    "* match contains some metadata (pitch dimensions, etc)\n",
    "* team1_players is a dictionary of the home team players (containing arrays of their positions/velocities over the match)\n",
    "* team0_players is a dictionary of the away team players (containing arrays of their positions/velocities over the match)"
   ]
  },
  {
   "cell_type": "code",
   "execution_count": 52,
   "metadata": {},
   "outputs": [
    {
     "name": "stdout",
     "output_type": "stream",
     "text": [
      "Reading match metadata\n",
      "Reading match tracking data\n",
      "Timestamping frames\n",
      "Measuring velocities\n",
      "home goalkeeper(s):  [1]\n",
      "away goalkeeper(s):  [73]\n",
      "0 67615\n",
      "67616 139808\n"
     ]
    }
   ],
   "source": [
    "# data\n",
    "fname = '984628'\n",
    "\n",
    "# read frames, match meta data, and data for individual players\n",
    "frames_tb, match_tb, team1_players, team0_players = tracab.read_tracab_match_data(LEAGUE, fpath, fname, verbose=True)"
   ]
  },
  {
   "cell_type": "code",
   "execution_count": 53,
   "metadata": {},
   "outputs": [
    {
     "name": "stdout",
     "output_type": "stream",
     "text": [
      "there are 139810 frames\n"
     ]
    }
   ],
   "source": [
    "print('there are {} frames'.format(len(frames_tb)))"
   ]
  },
  {
   "cell_type": "markdown",
   "metadata": {},
   "source": [
    "# Read physical summary"
   ]
  },
  {
   "cell_type": "code",
   "execution_count": 12,
   "metadata": {},
   "outputs": [],
   "source": [
    "split_players = pd.read_csv(os.path.join(fpath, '984628_Physical_Summary_1_clean_players.csv'))\n",
    "split_agg = pd.read_csv(os.path.join(fpath, '984628_Physical_Summary_1_clean_agg.csv'), index_col=0)"
   ]
  },
  {
   "cell_type": "code",
   "execution_count": 13,
   "metadata": {},
   "outputs": [
    {
     "data": {
      "text/html": [
       "<div>\n",
       "<style scoped>\n",
       "    .dataframe tbody tr th:only-of-type {\n",
       "        vertical-align: middle;\n",
       "    }\n",
       "\n",
       "    .dataframe tbody tr th {\n",
       "        vertical-align: top;\n",
       "    }\n",
       "\n",
       "    .dataframe thead th {\n",
       "        text-align: right;\n",
       "    }\n",
       "</style>\n",
       "<table border=\"1\" class=\"dataframe\">\n",
       "  <thead>\n",
       "    <tr style=\"text-align: right;\">\n",
       "      <th></th>\n",
       "      <th>Total</th>\n",
       "      <th>First</th>\n",
       "      <th>Second</th>\n",
       "    </tr>\n",
       "  </thead>\n",
       "  <tbody>\n",
       "    <tr>\n",
       "      <th>Game time</th>\n",
       "      <td>93:13:00</td>\n",
       "      <td>45:05:00</td>\n",
       "      <td>48:08:00</td>\n",
       "    </tr>\n",
       "    <tr>\n",
       "      <th>Ball in play</th>\n",
       "      <td>57:51:00</td>\n",
       "      <td>27:12:00</td>\n",
       "      <td>30:39:00</td>\n",
       "    </tr>\n",
       "    <tr>\n",
       "      <th>Home TIP</th>\n",
       "      <td>27:23:00</td>\n",
       "      <td>12:36</td>\n",
       "      <td>14:47</td>\n",
       "    </tr>\n",
       "    <tr>\n",
       "      <th>Away TIP</th>\n",
       "      <td>29:37:00</td>\n",
       "      <td>13:57</td>\n",
       "      <td>15:40</td>\n",
       "    </tr>\n",
       "  </tbody>\n",
       "</table>\n",
       "</div>"
      ],
      "text/plain": [
       "                 Total     First    Second\n",
       "Game time     93:13:00  45:05:00  48:08:00\n",
       "Ball in play  57:51:00  27:12:00  30:39:00\n",
       "Home TIP      27:23:00     12:36     14:47\n",
       "Away TIP      29:37:00     13:57     15:40"
      ]
     },
     "metadata": {},
     "output_type": "display_data"
    }
   ],
   "source": [
    "display(split_agg)"
   ]
  },
  {
   "cell_type": "code",
   "execution_count": 14,
   "metadata": {},
   "outputs": [
    {
     "data": {
      "text/html": [
       "<div>\n",
       "<style scoped>\n",
       "    .dataframe tbody tr th:only-of-type {\n",
       "        vertical-align: middle;\n",
       "    }\n",
       "\n",
       "    .dataframe tbody tr th {\n",
       "        vertical-align: top;\n",
       "    }\n",
       "\n",
       "    .dataframe thead th {\n",
       "        text-align: right;\n",
       "    }\n",
       "</style>\n",
       "<table border=\"1\" class=\"dataframe\">\n",
       "  <thead>\n",
       "    <tr style=\"text-align: right;\">\n",
       "      <th></th>\n",
       "      <th>ID</th>\n",
       "      <th>team_id</th>\n",
       "      <th>Player</th>\n",
       "      <th>Minutes</th>\n",
       "      <th>Distance</th>\n",
       "      <th>Standing</th>\n",
       "      <th>Walking</th>\n",
       "      <th>Jogging</th>\n",
       "      <th>Running</th>\n",
       "      <th>High Speed Running</th>\n",
       "      <th>...</th>\n",
       "      <th>Sprint Distance TIP</th>\n",
       "      <th>No. of High Intensity Runs TIP</th>\n",
       "      <th>Distance OTIP</th>\n",
       "      <th>HSR Distance OTIP</th>\n",
       "      <th>Sprint Distance OTIP</th>\n",
       "      <th>No. of High Intensity Runs OTIP</th>\n",
       "      <th>Distance BOP</th>\n",
       "      <th>HSR Distance BOP</th>\n",
       "      <th>Sprint Distance BOP</th>\n",
       "      <th>No. of High Intensity Runs BOP</th>\n",
       "    </tr>\n",
       "  </thead>\n",
       "  <tbody>\n",
       "    <tr>\n",
       "      <th>0</th>\n",
       "      <td>182413</td>\n",
       "      <td>1</td>\n",
       "      <td>Jacob Rinne</td>\n",
       "      <td>93:12:00</td>\n",
       "      <td>4528.57</td>\n",
       "      <td>20.30</td>\n",
       "      <td>3361.22</td>\n",
       "      <td>1029.15</td>\n",
       "      <td>96.67</td>\n",
       "      <td>21.23</td>\n",
       "      <td>...</td>\n",
       "      <td>0.00</td>\n",
       "      <td>2</td>\n",
       "      <td>1641.41</td>\n",
       "      <td>13.59</td>\n",
       "      <td>0.00</td>\n",
       "      <td>2</td>\n",
       "      <td>1536.91</td>\n",
       "      <td>0.00</td>\n",
       "      <td>0.0</td>\n",
       "      <td>0</td>\n",
       "    </tr>\n",
       "    <tr>\n",
       "      <th>1</th>\n",
       "      <td>155453</td>\n",
       "      <td>1</td>\n",
       "      <td>Kasper Pedersen</td>\n",
       "      <td>93:12:00</td>\n",
       "      <td>9532.75</td>\n",
       "      <td>9.14</td>\n",
       "      <td>3549.70</td>\n",
       "      <td>4441.56</td>\n",
       "      <td>1081.65</td>\n",
       "      <td>322.31</td>\n",
       "      <td>...</td>\n",
       "      <td>1.02</td>\n",
       "      <td>5</td>\n",
       "      <td>4216.26</td>\n",
       "      <td>271.79</td>\n",
       "      <td>127.37</td>\n",
       "      <td>34</td>\n",
       "      <td>2271.82</td>\n",
       "      <td>38.31</td>\n",
       "      <td>0.0</td>\n",
       "      <td>3</td>\n",
       "    </tr>\n",
       "    <tr>\n",
       "      <th>2</th>\n",
       "      <td>80502</td>\n",
       "      <td>1</td>\n",
       "      <td>Jores Okore</td>\n",
       "      <td>93:12:00</td>\n",
       "      <td>9691.12</td>\n",
       "      <td>7.04</td>\n",
       "      <td>3179.93</td>\n",
       "      <td>4849.27</td>\n",
       "      <td>1262.01</td>\n",
       "      <td>327.06</td>\n",
       "      <td>...</td>\n",
       "      <td>0.00</td>\n",
       "      <td>8</td>\n",
       "      <td>4065.08</td>\n",
       "      <td>266.05</td>\n",
       "      <td>65.81</td>\n",
       "      <td>29</td>\n",
       "      <td>2413.78</td>\n",
       "      <td>6.52</td>\n",
       "      <td>0.0</td>\n",
       "      <td>4</td>\n",
       "    </tr>\n",
       "    <tr>\n",
       "      <th>3</th>\n",
       "      <td>180169</td>\n",
       "      <td>1</td>\n",
       "      <td>Philipp Ochs</td>\n",
       "      <td>93:12:00</td>\n",
       "      <td>10420.81</td>\n",
       "      <td>5.36</td>\n",
       "      <td>3619.81</td>\n",
       "      <td>4643.77</td>\n",
       "      <td>1455.00</td>\n",
       "      <td>563.26</td>\n",
       "      <td>...</td>\n",
       "      <td>59.40</td>\n",
       "      <td>15</td>\n",
       "      <td>4308.79</td>\n",
       "      <td>392.90</td>\n",
       "      <td>74.21</td>\n",
       "      <td>36</td>\n",
       "      <td>2569.26</td>\n",
       "      <td>18.36</td>\n",
       "      <td>0.0</td>\n",
       "      <td>1</td>\n",
       "    </tr>\n",
       "    <tr>\n",
       "      <th>4</th>\n",
       "      <td>48601</td>\n",
       "      <td>1</td>\n",
       "      <td>Patrick Kristensen</td>\n",
       "      <td>93:12:00</td>\n",
       "      <td>10907.62</td>\n",
       "      <td>8.13</td>\n",
       "      <td>3216.40</td>\n",
       "      <td>4905.82</td>\n",
       "      <td>2093.52</td>\n",
       "      <td>569.47</td>\n",
       "      <td>...</td>\n",
       "      <td>64.62</td>\n",
       "      <td>25</td>\n",
       "      <td>4381.58</td>\n",
       "      <td>376.43</td>\n",
       "      <td>49.66</td>\n",
       "      <td>33</td>\n",
       "      <td>2546.22</td>\n",
       "      <td>19.84</td>\n",
       "      <td>0.0</td>\n",
       "      <td>4</td>\n",
       "    </tr>\n",
       "  </tbody>\n",
       "</table>\n",
       "<p>5 rows × 26 columns</p>\n",
       "</div>"
      ],
      "text/plain": [
       "       ID  team_id              Player   Minutes  Distance  Standing  Walking  \\\n",
       "0  182413        1         Jacob Rinne  93:12:00   4528.57     20.30  3361.22   \n",
       "1  155453        1     Kasper Pedersen  93:12:00   9532.75      9.14  3549.70   \n",
       "2   80502        1         Jores Okore  93:12:00   9691.12      7.04  3179.93   \n",
       "3  180169        1        Philipp Ochs  93:12:00  10420.81      5.36  3619.81   \n",
       "4   48601        1  Patrick Kristensen  93:12:00  10907.62      8.13  3216.40   \n",
       "\n",
       "   Jogging  Running  High Speed Running               ...                \\\n",
       "0  1029.15    96.67               21.23               ...                 \n",
       "1  4441.56  1081.65              322.31               ...                 \n",
       "2  4849.27  1262.01              327.06               ...                 \n",
       "3  4643.77  1455.00              563.26               ...                 \n",
       "4  4905.82  2093.52              569.47               ...                 \n",
       "\n",
       "   Sprint Distance TIP  No. of High Intensity Runs TIP  Distance OTIP  \\\n",
       "0                 0.00                               2        1641.41   \n",
       "1                 1.02                               5        4216.26   \n",
       "2                 0.00                               8        4065.08   \n",
       "3                59.40                              15        4308.79   \n",
       "4                64.62                              25        4381.58   \n",
       "\n",
       "   HSR Distance OTIP  Sprint Distance OTIP  No. of High Intensity Runs OTIP  \\\n",
       "0              13.59                  0.00                                2   \n",
       "1             271.79                127.37                               34   \n",
       "2             266.05                 65.81                               29   \n",
       "3             392.90                 74.21                               36   \n",
       "4             376.43                 49.66                               33   \n",
       "\n",
       "   Distance BOP  HSR Distance BOP  Sprint Distance BOP  \\\n",
       "0       1536.91              0.00                  0.0   \n",
       "1       2271.82             38.31                  0.0   \n",
       "2       2413.78              6.52                  0.0   \n",
       "3       2569.26             18.36                  0.0   \n",
       "4       2546.22             19.84                  0.0   \n",
       "\n",
       "   No. of High Intensity Runs BOP  \n",
       "0                               0  \n",
       "1                               3  \n",
       "2                               4  \n",
       "3                               1  \n",
       "4                               4  \n",
       "\n",
       "[5 rows x 26 columns]"
      ]
     },
     "execution_count": 14,
     "metadata": {},
     "output_type": "execute_result"
    }
   ],
   "source": [
    "split_players.head()"
   ]
  },
  {
   "cell_type": "code",
   "execution_count": 16,
   "metadata": {},
   "outputs": [],
   "source": [
    "# # add info\n",
    "# split_players['sub'] =  split_players['Minutes'] < '93:12:00'\n",
    "# split_players['avg_speed'] =  split_players['Distance'].divide(pd.Series(minutes))"
   ]
  },
  {
   "cell_type": "markdown",
   "metadata": {},
   "source": [
    "## Plot physical summary\n"
   ]
  },
  {
   "cell_type": "code",
   "execution_count": null,
   "metadata": {},
   "outputs": [],
   "source": [
    "team1 = split_players[split_players['team_id'] == 1]\n",
    "team2 = split_players[split_players['team_id'] == 2]"
   ]
  },
  {
   "cell_type": "code",
   "execution_count": null,
   "metadata": {},
   "outputs": [],
   "source": []
  },
  {
   "cell_type": "markdown",
   "metadata": {},
   "source": [
    "# Read Type IDs"
   ]
  },
  {
   "cell_type": "code",
   "execution_count": 23,
   "metadata": {},
   "outputs": [
    {
     "data": {
      "text/html": [
       "<div>\n",
       "<style scoped>\n",
       "    .dataframe tbody tr th:only-of-type {\n",
       "        vertical-align: middle;\n",
       "    }\n",
       "\n",
       "    .dataframe tbody tr th {\n",
       "        vertical-align: top;\n",
       "    }\n",
       "\n",
       "    .dataframe thead th {\n",
       "        text-align: right;\n",
       "    }\n",
       "</style>\n",
       "<table border=\"1\" class=\"dataframe\">\n",
       "  <thead>\n",
       "    <tr style=\"text-align: right;\">\n",
       "      <th></th>\n",
       "      <th>Short</th>\n",
       "      <th>Long</th>\n",
       "    </tr>\n",
       "    <tr>\n",
       "      <th>Qual_ID</th>\n",
       "      <th></th>\n",
       "      <th></th>\n",
       "    </tr>\n",
       "  </thead>\n",
       "  <tbody>\n",
       "    <tr>\n",
       "      <th>1</th>\n",
       "      <td>Long ball</td>\n",
       "      <td>Long pass over 35 yards</td>\n",
       "    </tr>\n",
       "    <tr>\n",
       "      <th>2</th>\n",
       "      <td>Cross</td>\n",
       "      <td>A ball played in from wide areas into the box</td>\n",
       "    </tr>\n",
       "    <tr>\n",
       "      <th>3</th>\n",
       "      <td>Head pass</td>\n",
       "      <td>Pass made with a players head</td>\n",
       "    </tr>\n",
       "    <tr>\n",
       "      <th>4</th>\n",
       "      <td>Through ball</td>\n",
       "      <td>Ball played through for player making an attac...</td>\n",
       "    </tr>\n",
       "    <tr>\n",
       "      <th>5</th>\n",
       "      <td>Free kick taken</td>\n",
       "      <td>Any free kick; direct or indirect</td>\n",
       "    </tr>\n",
       "  </tbody>\n",
       "</table>\n",
       "</div>"
      ],
      "text/plain": [
       "                   Short                                               Long\n",
       "Qual_ID                                                                    \n",
       "1              Long ball                            Long pass over 35 yards\n",
       "2                  Cross      A ball played in from wide areas into the box\n",
       "3              Head pass                      Pass made with a players head\n",
       "4           Through ball  Ball played through for player making an attac...\n",
       "5        Free kick taken                  Any free kick; direct or indirect"
      ]
     },
     "execution_count": 23,
     "metadata": {},
     "output_type": "execute_result"
    }
   ],
   "source": [
    "QualID_Descriptions = pd.read_csv('QualID_Descriptions.csv', index_col=0)\n",
    "QualID_Descriptions.head()"
   ]
  },
  {
   "cell_type": "code",
   "execution_count": 50,
   "metadata": {},
   "outputs": [
    {
     "data": {
      "text/html": [
       "<div>\n",
       "<style scoped>\n",
       "    .dataframe tbody tr th:only-of-type {\n",
       "        vertical-align: middle;\n",
       "    }\n",
       "\n",
       "    .dataframe tbody tr th {\n",
       "        vertical-align: top;\n",
       "    }\n",
       "\n",
       "    .dataframe thead th {\n",
       "        text-align: right;\n",
       "    }\n",
       "</style>\n",
       "<table border=\"1\" class=\"dataframe\">\n",
       "  <thead>\n",
       "    <tr style=\"text-align: right;\">\n",
       "      <th></th>\n",
       "      <th>Event_id</th>\n",
       "      <th>Short</th>\n",
       "      <th>Long</th>\n",
       "    </tr>\n",
       "  </thead>\n",
       "  <tbody>\n",
       "    <tr>\n",
       "      <th>0</th>\n",
       "      <td>1</td>\n",
       "      <td>Pass</td>\n",
       "      <td>Any pass attempted from one player to another ...</td>\n",
       "    </tr>\n",
       "    <tr>\n",
       "      <th>1</th>\n",
       "      <td>2</td>\n",
       "      <td>Offside Pass</td>\n",
       "      <td>Attempted pass made to a player who is in an o...</td>\n",
       "    </tr>\n",
       "    <tr>\n",
       "      <th>2</th>\n",
       "      <td>3</td>\n",
       "      <td>Take On</td>\n",
       "      <td>Attempted dribble past an opponent (excluding ...</td>\n",
       "    </tr>\n",
       "    <tr>\n",
       "      <th>3</th>\n",
       "      <td>4</td>\n",
       "      <td>Foul</td>\n",
       "      <td>This event is shown when a foul is committed r...</td>\n",
       "    </tr>\n",
       "    <tr>\n",
       "      <th>4</th>\n",
       "      <td>5</td>\n",
       "      <td>Out</td>\n",
       "      <td>Shown each time the ball goes out of play for ...</td>\n",
       "    </tr>\n",
       "  </tbody>\n",
       "</table>\n",
       "</div>"
      ],
      "text/plain": [
       "   Event_id         Short                                               Long\n",
       "0         1          Pass  Any pass attempted from one player to another ...\n",
       "1         2  Offside Pass  Attempted pass made to a player who is in an o...\n",
       "2         3       Take On  Attempted dribble past an opponent (excluding ...\n",
       "3         4          Foul  This event is shown when a foul is committed r...\n",
       "4         5           Out  Shown each time the ball goes out of play for ..."
      ]
     },
     "execution_count": 50,
     "metadata": {},
     "output_type": "execute_result"
    }
   ],
   "source": [
    "TypeID_Descriptions = pd.read_csv('TypeID_Descriptions.csv', index_col=0)\n",
    "TypeID_Descriptions.head()"
   ]
  },
  {
   "cell_type": "markdown",
   "metadata": {},
   "source": [
    "# Understanding the code"
   ]
  },
  {
   "cell_type": "code",
   "execution_count": 67,
   "metadata": {},
   "outputs": [],
   "source": [
    "# config\n",
    "verbose = True"
   ]
  },
  {
   "cell_type": "code",
   "execution_count": 74,
   "metadata": {},
   "outputs": [
    {
     "name": "stdout",
     "output_type": "stream",
     "text": [
      "/Users/jeffbalkanski/research_soccer/TrackingSample/984628_metadata.xml /Users/jeffbalkanski/research_soccer/TrackingSample/984628.dat\n"
     ]
    }
   ],
   "source": [
    "fmetadata, fdata = tracab.get_tracabdata_paths(fpath, fname, league=LEAGUE)\n",
    "print(fmetadata, fdata)"
   ]
  },
  {
   "cell_type": "code",
   "execution_count": 75,
   "metadata": {},
   "outputs": [],
   "source": [
    "match = tracab.read_tracab_match(fmetadata)"
   ]
  },
  {
   "cell_type": "code",
   "execution_count": 76,
   "metadata": {},
   "outputs": [
    {
     "data": {
      "text/plain": [
       "{'iId': '984628',\n",
       " 'dtDate': '2019-03-17 17:00:00',\n",
       " 'iFrameRateFps': '25',\n",
       " 'fPitchXSizeMeters': '105.00',\n",
       " 'fPitchYSizeMeters': '68.00',\n",
       " 'fTrackingAreaXSizeMeters': '111.00',\n",
       " 'fTrackingAreaYSizeMeters': '88.00'}"
      ]
     },
     "execution_count": 76,
     "metadata": {},
     "output_type": "execute_result"
    }
   ],
   "source": [
    "match.match_attributes"
   ]
  },
  {
   "cell_type": "code",
   "execution_count": 77,
   "metadata": {},
   "outputs": [
    {
     "name": "stdout",
     "output_type": "stream",
     "text": [
      "Reading match tracking data\n"
     ]
    }
   ],
   "source": [
    "# read in tracking data\n",
    "if verbose:\n",
    "    print(\"Reading match tracking data\")\n",
    "frames = []\n",
    "with open(fdata, \"r\") as fp:\n",
    "    # go through line by line and break down data in individual players and the ball\n",
    "    for f in fp:             \n",
    "        # each line is a single frame\n",
    "        chunks = f.split(':')[:-1] # last element is carriage return \\n\n",
    "        if len(chunks) > 3:\n",
    "            print(chunks)\n",
    "            raise Exception('More than 3 chunks in line of data: %s', chunks)\n",
    "\n",
    "        frameid = int(chunks[0])\n",
    "        frame = tracab.tracab_frame(frameid)  \n",
    "\n",
    "        # Get players\n",
    "        targets = chunks[1].split(';')\n",
    "        assert(targets[-1] == '')\n",
    "        for target in targets[:-1]:\n",
    "            target = target.split(',')\n",
    "            team = int(target[0])\n",
    "            if team in [1, 0, 3]:\n",
    "                frame.add_frame_target(target)\n",
    "\n",
    "        # Is this never the case?\n",
    "        if len(chunks) > 2:\n",
    "            frame.add_frame_ball(chunks[2].split(';')[0].split(','))\n",
    "        frames.append(frame)\n",
    "            "
   ]
  },
  {
   "cell_type": "code",
   "execution_count": 92,
   "metadata": {},
   "outputs": [
    {
     "name": "stdout",
     "output_type": "stream",
     "text": [
      "1705810 \n",
      "\n",
      "-1,1,-1,-3502,502,0.00\n",
      "-1,2,-1,-3149,-116,0.00\n",
      "-1,3,-1,-3200,412,0.00\n",
      "-1,4,-1,-3025,-448,0.00\n",
      "-1,5,-1,-3091,568,0.00\n",
      "-1,6,-1,-3273,537,0.00\n",
      "-1,7,-1,-3160,497,0.00\n",
      "-1,8,-1,-3040,395,0.00\n",
      "4,9,-1,5550,4400,0.00\n",
      "-1,10,-1,-2642,-375,0.00\n",
      "-1,11,-1,483,-215,0.00\n",
      "-1,12,-1,-2868,-415,0.00\n",
      "-1,13,-1,-3230,579,0.00\n",
      "-1,14,-1,-3429,781,0.00\n",
      "-1,15,-1,-2904,-475,0.00\n",
      "-1,16,-1,509,-499,0.00\n",
      "-1,17,-1,357,-3266,0.00\n",
      "4,18,-1,5550,4400,0.00\n",
      "-1,19,-1,-3197,259,0.00\n",
      "4,20,-1,5550,4400,0.00\n",
      "-1,21,-1,-3417,-33,0.00\n",
      "-1,22,-1,-4245,-70,0.00\n",
      "-1,23,-1,-250,-3419,0.00\n",
      "-1,24,-1,-3092,164,0.00\n",
      "-1,25,-1,-2596,-289,0.00\n",
      "4,26,-1,5550,4400,0.00\n",
      "4,27,-1,5550,4400,0.00\n",
      "4,28,-1,5550,4400,0.00\n",
      "4,29,-1,5550,4400,0.00\n",
      "\n",
      "\n",
      " 5260,-3393,15,148.83,A,Dead;\n"
     ]
    }
   ],
   "source": [
    "# chunks of data area read\n",
    "print(chunks[0], '\\n')\n",
    "for x in chunks[1].split(';'):\n",
    "    print(x)\n",
    "print('\\n', chunks[2])"
   ]
  },
  {
   "cell_type": "markdown",
   "metadata": {},
   "source": [
    "# Reproducing split metrics "
   ]
  },
  {
   "cell_type": "code",
   "execution_count": 93,
   "metadata": {},
   "outputs": [],
   "source": [
    "import Tracab as tracab\n",
    "\n",
    "# # read frames, match meta data, and data for individual players\n",
    "# frames_tb, match_tb, team1_players, team0_players"
   ]
  },
  {
   "cell_type": "code",
   "execution_count": 94,
   "metadata": {},
   "outputs": [
    {
     "data": {
      "text/plain": [
       "(<Tracab.tracab_match at 0x1c5096cef0>,\n",
       " [Frame id: 1536511, nplayers: 22, nrefs: 0, nballs: 1,\n",
       "  Frame id: 1536512, nplayers: 22, nrefs: 0, nballs: 1])"
      ]
     },
     "execution_count": 94,
     "metadata": {},
     "output_type": "execute_result"
    }
   ],
   "source": [
    "match_tb, frames_tb[:2]"
   ]
  },
  {
   "cell_type": "code",
   "execution_count": 95,
   "metadata": {},
   "outputs": [
    {
     "name": "stdout",
     "output_type": "stream",
     "text": [
      "home goalkeeper(s):  [1]\n",
      "away goalkeeper(s):  [73]\n"
     ]
    },
    {
     "data": {
      "text/plain": [
       "([1], [73])"
      ]
     },
     "execution_count": 95,
     "metadata": {},
     "output_type": "execute_result"
    }
   ],
   "source": [
    "tracab.get_goalkeeper_numbers(frames_tb)"
   ]
  },
  {
   "cell_type": "code",
   "execution_count": 96,
   "metadata": {},
   "outputs": [
    {
     "data": {
      "text/plain": [
       "({32: <Tracab.tracab_player at 0x1c7d2989e8>,\n",
       "  1: <Tracab.tracab_player at 0x1c7d298160>,\n",
       "  2: <Tracab.tracab_player at 0x1c7d2981d0>,\n",
       "  5: <Tracab.tracab_player at 0x1c7d298710>,\n",
       "  7: <Tracab.tracab_player at 0x1c7d298f98>,\n",
       "  8: <Tracab.tracab_player at 0x1c7d298240>,\n",
       "  9: <Tracab.tracab_player at 0x1c7d298358>,\n",
       "  10: <Tracab.tracab_player at 0x1c7d298a58>,\n",
       "  11: <Tracab.tracab_player at 0x1c7d298cc0>,\n",
       "  17: <Tracab.tracab_player at 0x1c7d2986a0>,\n",
       "  25: <Tracab.tracab_player at 0x1c7d298be0>},\n",
       " {35: <Tracab.tracab_player at 0x1c7d298780>,\n",
       "  5: <Tracab.tracab_player at 0x1c7d298518>,\n",
       "  7: <Tracab.tracab_player at 0x1c7d2984a8>,\n",
       "  8: <Tracab.tracab_player at 0x1c7d298208>,\n",
       "  73: <Tracab.tracab_player at 0x1c7d298f28>,\n",
       "  11: <Tracab.tracab_player at 0x1c7d298898>,\n",
       "  13: <Tracab.tracab_player at 0x1c7d2989b0>,\n",
       "  16: <Tracab.tracab_player at 0x1c7d2985c0>,\n",
       "  18: <Tracab.tracab_player at 0x1c7d298ef0>,\n",
       "  20: <Tracab.tracab_player at 0x1c7d2984e0>,\n",
       "  22: <Tracab.tracab_player at 0x1c7d298fd0>})"
      ]
     },
     "execution_count": 96,
     "metadata": {},
     "output_type": "execute_result"
    }
   ],
   "source": [
    "tracab.get_players(frames_tb[:100])"
   ]
  },
  {
   "cell_type": "code",
   "execution_count": 97,
   "metadata": {},
   "outputs": [],
   "source": [
    "# frames \n",
    "frame_ex = frames_tb[1]"
   ]
  },
  {
   "cell_type": "markdown",
   "metadata": {},
   "source": [
    "## Minutes on the field"
   ]
  },
  {
   "cell_type": "code",
   "execution_count": 105,
   "metadata": {},
   "outputs": [
    {
     "name": "stdout",
     "output_type": "stream",
     "text": [
      "48.12866666666667\n"
     ]
    }
   ],
   "source": [
    "# find number of minutes on the field\n",
    "player = team0_players[8]\n",
    "\n",
    "start, end = player.frame_timestamps[0], player.frame_timestamps[-1]\n",
    "print(end - start)"
   ]
  },
  {
   "cell_type": "code",
   "execution_count": 110,
   "metadata": {},
   "outputs": [
    {
     "name": "stdout",
     "output_type": "stream",
     "text": [
      "48.12866666666667\n",
      "48.12866666666667\n",
      "48.12866666666667\n",
      "48.12866666666667\n",
      "48.12866666666667\n",
      "48.12866666666667\n",
      "48.12866666666667\n",
      "48.12866666666667\n",
      "48.12866666666667\n",
      "48.12866666666667\n",
      "48.12866666666667\n",
      "48.12866666666667\n",
      "48.12866666666667\n"
     ]
    }
   ],
   "source": [
    "for player in team0_players.values():\n",
    "    # find number of minutes on the field\n",
    "#     player = team0_players[8]\n",
    "\n",
    "    start, end = player.frame_timestamps[0], player.frame_timestamps[-1]\n",
    "    print(end - start)"
   ]
  },
  {
   "cell_type": "code",
   "execution_count": null,
   "metadata": {},
   "outputs": [],
   "source": []
  },
  {
   "cell_type": "code",
   "execution_count": 87,
   "metadata": {},
   "outputs": [
    {
     "data": {
      "text/plain": [
       "105.0"
      ]
     },
     "execution_count": 87,
     "metadata": {},
     "output_type": "execute_result"
    }
   ],
   "source": [
    "match_tb.fPitchXSizeMeters"
   ]
  },
  {
   "cell_type": "code",
   "execution_count": 88,
   "metadata": {},
   "outputs": [
    {
     "data": {
      "text/plain": [
       "73"
      ]
     },
     "execution_count": 88,
     "metadata": {},
     "output_type": "execute_result"
    }
   ],
   "source": [
    "team0_players[73].jersey_num"
   ]
  },
  {
   "cell_type": "code",
   "execution_count": null,
   "metadata": {},
   "outputs": [],
   "source": []
  }
 ],
 "metadata": {
  "file_extension": ".py",
  "kernelspec": {
   "display_name": "Python 3",
   "language": "python",
   "name": "python3"
  },
  "language_info": {
   "codemirror_mode": {
    "name": "ipython",
    "version": 3
   },
   "file_extension": ".py",
   "mimetype": "text/x-python",
   "name": "python",
   "nbconvert_exporter": "python",
   "pygments_lexer": "ipython3",
   "version": "3.6.5"
  },
  "mimetype": "text/x-python",
  "name": "python",
  "npconvert_exporter": "python",
  "pygments_lexer": "ipython3",
  "version": 3
 },
 "nbformat": 4,
 "nbformat_minor": 2
}
