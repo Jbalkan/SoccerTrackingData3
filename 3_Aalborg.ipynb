{
 "cells": [
  {
   "cell_type": "code",
   "execution_count": 1,
   "metadata": {},
   "outputs": [
    {
     "data": {
      "text/plain": [
       "<module 'Tracking_Visuals' from '/Users/jeffbalkanski/research_soccer/SoccerTrackingData3/Tracking_Visuals.py'>"
      ]
     },
     "execution_count": 1,
     "metadata": {},
     "output_type": "execute_result"
    }
   ],
   "source": [
    "import os\n",
    "import datetime\n",
    "import copy\n",
    "import pickle\n",
    "import numpy as np\n",
    "import pandas as pd\n",
    "import matplotlib.pyplot as plt\n",
    "import seaborn as sns\n",
    "\n",
    "import Tracab as tracab\n",
    "import Tracking_Visuals as vis\n",
    "import Tracking_Velocities as vel\n",
    "import helpers\n",
    "\n",
    "import importlib\n",
    "importlib.reload(tracab)\n",
    "importlib.reload(helpers)\n",
    "importlib.reload(vis)"
   ]
  },
  {
   "cell_type": "code",
   "execution_count": 2,
   "metadata": {},
   "outputs": [],
   "source": [
    "# config\n",
    "current_dir = os.path.dirname(os.getcwd())\n",
    "dir_path = os.path.join(current_dir, 'Aalborg_Jeff') # path to directory of Tracab data\n",
    "LEAGUE = 'DSL'"
   ]
  },
  {
   "cell_type": "markdown",
   "metadata": {},
   "source": [
    "# Read data"
   ]
  },
  {
   "cell_type": "code",
   "execution_count": 3,
   "metadata": {},
   "outputs": [],
   "source": [
    "fname = '984455'\n",
    "match_id = fname"
   ]
  },
  {
   "cell_type": "code",
   "execution_count": null,
   "metadata": {},
   "outputs": [
    {
     "name": "stdout",
     "output_type": "stream",
     "text": [
      "/Users/jeffbalkanski/research_soccer/Aalborg_Jeff/984455/984455_TracDAT\n",
      "Reading match metadata\n",
      "Reading match tracking data\n",
      "Timestamping frames\n",
      "Measuring velocities\n",
      "home goalkeeper(s):  [28]\n",
      "away goalkeeper(s):  [1]\n"
     ]
    }
   ],
   "source": [
    "# read\n",
    "fpath = os.path.join(dir_path, fname, fname + '_TracDAT')\n",
    "print(fpath)\n",
    "frames_tb, match_tb, team1_players, team0_players = tracab.read_tracab_match_data(LEAGUE, fpath, fname, verbose=True)"
   ]
  },
  {
   "cell_type": "code",
   "execution_count": null,
   "metadata": {},
   "outputs": [],
   "source": [
    "# positions\n",
    "player_id_to_name = pd.read_csv('../playerid_jerseynum_map.csv')\n",
    "player_id_to_name = player_id_to_name[player_id_to_name['Match ID'] == int(match_id)]\n",
    "player_id_to_name.head()"
   ]
  },
  {
   "cell_type": "code",
   "execution_count": null,
   "metadata": {},
   "outputs": [],
   "source": [
    "# add jersey num\n",
    "team1_players"
   ]
  },
  {
   "cell_type": "code",
   "execution_count": null,
   "metadata": {},
   "outputs": [],
   "source": [
    "player = team0_players[14]"
   ]
  },
  {
   "cell_type": "code",
   "execution_count": null,
   "metadata": {},
   "outputs": [],
   "source": []
  },
  {
   "cell_type": "markdown",
   "metadata": {},
   "source": [
    "# Add energy expenditure"
   ]
  },
  {
   "cell_type": "code",
   "execution_count": 39,
   "metadata": {},
   "outputs": [],
   "source": [
    "import Tracking_Fatigue as fatigue\n",
    "\n",
    "# add energy expenditure\n",
    "helpers.add_to_player(team1_players, team0_players, fatigue.get_energy_expenditure, 'energy_x', skip_end=1)"
   ]
  },
  {
   "cell_type": "code",
   "execution_count": 40,
   "metadata": {
    "collapsed": true,
    "jupyter": {
     "outputs_hidden": true
    }
   },
   "outputs": [
    {
     "name": "stdout",
     "output_type": "stream",
     "text": [
      "Done with player 2 of team 1\n",
      "Done with player 3 of team 1\n",
      "Done with player 5 of team 1\n",
      "Done with player 6 of team 1\n",
      "Done with player 8 of team 1\n",
      "Done with player 10 of team 1\n",
      "Done with player 11 of team 1\n",
      "Done with player 12 of team 1\n",
      "Done with player 15 of team 1\n",
      "Done with player 18 of team 1\n",
      "Done with player 27 of team 1\n",
      "Done with player 28 of team 1\n",
      "Done with player 30 of team 1\n",
      "Done with player 1 of team 0\n",
      "Done with player 3 of team 0\n",
      "Done with player 4 of team 0\n",
      "Done with player 5 of team 0\n",
      "Done with player 6 of team 0\n",
      "Done with player 8 of team 0\n",
      "Done with player 9 of team 0\n",
      "Done with player 14 of team 0\n",
      "Done with player 16 of team 0\n",
      "Done with player 17 of team 0\n",
      "Done with player 18 of team 0\n",
      "Done with player 21 of team 0\n",
      "Done with player 27 of team 0\n",
      "Done with player 30 of team 0\n"
     ]
    }
   ],
   "source": []
  },
  {
   "cell_type": "code",
   "execution_count": 64,
   "metadata": {},
   "outputs": [],
   "source": [
    "# get series\n",
    "EX = helpers.get_all_values(player, 'energy_x', start=1, skip_last=1)"
   ]
  },
  {
   "cell_type": "code",
   "execution_count": 65,
   "metadata": {},
   "outputs": [
    {
     "data": {
      "text/plain": [
       "array([3.1072057 , 3.38310372, 3.94306479, ..., 0.        , 0.        ,\n",
       "       0.        ])"
      ]
     },
     "execution_count": 65,
     "metadata": {},
     "output_type": "execute_result"
    }
   ],
   "source": [
    "# by position\n",
    "plt.plot()"
   ]
  },
  {
   "cell_type": "code",
   "execution_count": 66,
   "metadata": {},
   "outputs": [
    {
     "data": {
      "text/plain": [
       "[<matplotlib.lines.Line2D at 0x1c78b6e650>]"
      ]
     },
     "execution_count": 66,
     "metadata": {},
     "output_type": "execute_result"
    },
    {
     "data": {
      "image/png": "[encoded data removed]",
      "text/plain": [
       "<Figure size 432x288 with 1 Axes>"
      ]
     },
     "metadata": {
      "needs_background": "light"
     },
     "output_type": "display_data"
    }
   ],
   "source": [
    "plt.plot(EX)"
   ]
  },
  {
   "cell_type": "code",
   "execution_count": null,
   "metadata": {},
   "outputs": [],
   "source": []
  }
 ],
 "metadata": {
  "kernelspec": {
   "display_name": "Python 3",
   "language": "python",
   "name": "python3"
  },
  "language_info": {
   "codemirror_mode": {
    "name": "ipython",
    "version": 3
   },
   "file_extension": ".py",
   "mimetype": "text/x-python",
   "name": "python",
   "nbconvert_exporter": "python",
   "pygments_lexer": "ipython3",
   "version": "3.7.4"
  }
 },
 "nbformat": 4,
 "nbformat_minor": 4
}
