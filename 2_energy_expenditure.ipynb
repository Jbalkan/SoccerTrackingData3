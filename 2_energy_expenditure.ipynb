{
 "cells": [
  {
   "cell_type": "markdown",
   "metadata": {},
   "source": [
    "# Energy Expenditure"
   ]
  },
  {
   "cell_type": "code",
   "execution_count": 119,
   "metadata": {},
   "outputs": [
    {
     "data": {
      "text/plain": [
       "<module 'Tracking_Visuals' from '/Users/jeffbalkanski/research_soccer/SoccerTrackingData3/Tracking_Visuals.py'>"
      ]
     },
     "execution_count": 119,
     "metadata": {},
     "output_type": "execute_result"
    }
   ],
   "source": [
    "import os\n",
    "import numpy as np\n",
    "import matplotlib.pyplot as plt\n",
    "import pandas as pd\n",
    "import datetime\n",
    "import seaborn as sns\n",
    "\n",
    "import Tracab as tracab\n",
    "import Tracking_Visuals as vis\n",
    "import Tracking_Velocities as vel\n",
    "import helpers\n",
    "\n",
    "import importlib\n",
    "importlib.reload(tracab)\n",
    "importlib.reload(helpers)\n",
    "importlib.reload(vis)"
   ]
  },
  {
   "cell_type": "code",
   "execution_count": 2,
   "metadata": {},
   "outputs": [],
   "source": [
    "# config\n",
    "current_dir = os.path.dirname(os.getcwd())\n",
    "fpath = os.path.join(current_dir, 'TrackingSample') # path to directory of Tracab data\n",
    "LEAGUE = 'DSL'"
   ]
  },
  {
   "cell_type": "markdown",
   "metadata": {},
   "source": [
    "## Data"
   ]
  },
  {
   "cell_type": "code",
   "execution_count": 3,
   "metadata": {},
   "outputs": [
    {
     "name": "stdout",
     "output_type": "stream",
     "text": [
      "Reading match metadata\n",
      "Reading match tracking data\n",
      "Timestamping frames\n",
      "Measuring velocities\n",
      "home goalkeeper(s):  [1]\n",
      "away goalkeeper(s):  [73]\n",
      "0 67615\n",
      "67616 139808\n"
     ]
    }
   ],
   "source": [
    "# read frames, match meta data, and data for individual players\n",
    "fname = '984628'\n",
    "frames_tb, match_tb, team1_players, team0_players = tracab.read_tracab_match_data(LEAGUE, fpath, fname, verbose=True,\n",
    "                                                                                    player_acceleration=False)"
   ]
  },
  {
   "cell_type": "code",
   "execution_count": 4,
   "metadata": {},
   "outputs": [],
   "source": [
    "# pick a player\n",
    "player = team0_players[5]"
   ]
  },
  {
   "cell_type": "code",
   "execution_count": 8,
   "metadata": {},
   "outputs": [
    {
     "data": {
      "text/plain": [
       "{'team': 0,\n",
       " 'sys_target_ID': 15,\n",
       " 'jersey_num': 5,\n",
       " 'pos_x': -1807.0,\n",
       " 'pos_y': -673.0,\n",
       " 'speed': 0.48,\n",
       " 'ax': nan,\n",
       " 'ay': nan,\n",
       " 'a_magnitude': nan,\n",
       " 'timestamp': 0.4,\n",
       " 'vx': 0.821,\n",
       " 'vy': -0.214,\n",
       " 'speed_filter': 0.848}"
      ]
     },
     "execution_count": 8,
     "metadata": {},
     "output_type": "execute_result"
    }
   ],
   "source": [
    "# metrics available\n",
    "target_ex = player.frame_targets[10]\n",
    "vars(target_ex)"
   ]
  },
  {
   "cell_type": "markdown",
   "metadata": {},
   "source": [
    "# Acceleration"
   ]
  },
  {
   "cell_type": "code",
   "execution_count": 9,
   "metadata": {},
   "outputs": [
    {
     "name": "stdout",
     "output_type": "stream",
     "text": [
      "Warning, must get rid of accelerations that are too high > need to find a threshold\n"
     ]
    }
   ],
   "source": [
    "# COMPUTE acceleration\n",
    "vel.estimate_player_accelerations(team1_players, team0_players, match_tb, window=5)"
   ]
  },
  {
   "cell_type": "code",
   "execution_count": 10,
   "metadata": {},
   "outputs": [
    {
     "data": {
      "text/plain": [
       "{'team': 0,\n",
       " 'sys_target_ID': 15,\n",
       " 'jersey_num': 5,\n",
       " 'pos_x': -1807.0,\n",
       " 'pos_y': -673.0,\n",
       " 'speed': 0.48,\n",
       " 'ax': 0.014,\n",
       " 'ay': -0.004,\n",
       " 'a_magnitude': 0.015,\n",
       " 'timestamp': 0.4,\n",
       " 'vx': 0.821,\n",
       " 'vy': -0.214,\n",
       " 'speed_filter': 0.848}"
      ]
     },
     "execution_count": 10,
     "metadata": {},
     "output_type": "execute_result"
    }
   ],
   "source": [
    "vars(player.frame_targets[10])"
   ]
  },
  {
   "cell_type": "code",
   "execution_count": 11,
   "metadata": {},
   "outputs": [
    {
     "data": {
      "text/plain": [
       "{'team': 0,\n",
       " 'sys_target_ID': 26,\n",
       " 'jersey_num': 5,\n",
       " 'pos_x': 3147.0,\n",
       " 'pos_y': 77.0,\n",
       " 'speed': 0.86,\n",
       " 'ax': 0.023,\n",
       " 'ay': 0.013,\n",
       " 'a_magnitude': 0.026,\n",
       " 'timestamp': 2887.68,\n",
       " 'vx': -0.107,\n",
       " 'vy': -0.089,\n",
       " 'speed_filter': 0.139}"
      ]
     },
     "execution_count": 11,
     "metadata": {},
     "output_type": "execute_result"
    }
   ],
   "source": [
    "vars(team0_players[5].frame_targets[-2])"
   ]
  },
  {
   "cell_type": "code",
   "execution_count": 12,
   "metadata": {},
   "outputs": [
    {
     "data": {
      "text/plain": [
       "nan"
      ]
     },
     "execution_count": 12,
     "metadata": {},
     "output_type": "execute_result"
    }
   ],
   "source": [
    "# check \n",
    "player.frame_targets[3].a_magnitude"
   ]
  },
  {
   "cell_type": "code",
   "execution_count": 19,
   "metadata": {},
   "outputs": [
    {
     "name": "stdout",
     "output_type": "stream",
     "text": [
      "139810 [  nan 0.305 0.346 0.42  0.511 0.555 0.644 0.724 0.769 0.836 0.848 0.883\n",
      " 0.987 0.987 1.066]\n",
      "139810 [  nan   nan   nan   nan   nan   nan 0.017 0.017 0.015 0.014 0.014 0.012\n",
      " 0.014 0.012 0.012]\n"
     ]
    }
   ],
   "source": [
    "# get all values to plot\n",
    "velocities = helpers.get_all_values(player, 'speed_filter')\n",
    "accelerations = helpers.get_all_values(player, 'ax')\n",
    "\n",
    "print(len(velocities), velocities[:15])\n",
    "print(len(accelerations), accelerations[:15])"
   ]
  },
  {
   "cell_type": "code",
   "execution_count": 14,
   "metadata": {},
   "outputs": [
    {
     "data": {
      "image/png": "[encoded data removed]",
      "text/plain": [
       "<Figure size 432x288 with 1 Axes>"
      ]
     },
     "metadata": {
      "needs_background": "light"
     },
     "output_type": "display_data"
    }
   ],
   "source": [
    "plt.plot(velocities)\n",
    "plt.title('time series of velocities for player  {}'.format(player.jersey_num))\n",
    "plt.show()"
   ]
  },
  {
   "cell_type": "code",
   "execution_count": 15,
   "metadata": {},
   "outputs": [
    {
     "data": {
      "image/png": "[encoded data removed]",
      "text/plain": [
       "<Figure size 432x288 with 1 Axes>"
      ]
     },
     "metadata": {
      "needs_background": "light"
     },
     "output_type": "display_data"
    }
   ],
   "source": [
    "plt.plot(accelerations)\n",
    "plt.title('time series of accelerations for player {}'.format(player.jersey_num))\n",
    "plt.show()"
   ]
  },
  {
   "cell_type": "markdown",
   "metadata": {},
   "source": [
    "# Energy expenditure calculation\n",
    "\n",
    "We want to make make time series of energy expenditure for each player\n",
    "\n",
    "1. **VeBVD =** sum of acceleration vectors\n",
    "2. **metabolic power**  = 5th degree polynomial"
   ]
  },
  {
   "cell_type": "code",
   "execution_count": 20,
   "metadata": {},
   "outputs": [],
   "source": [
    "import Tracking_Fatigue as fatigue"
   ]
  },
  {
   "cell_type": "code",
   "execution_count": 21,
   "metadata": {},
   "outputs": [
    {
     "data": {
      "text/plain": [
       "0.037"
      ]
     },
     "execution_count": 21,
     "metadata": {},
     "output_type": "execute_result"
    }
   ],
   "source": [
    "player.frame_targets[100].a_magnitude"
   ]
  },
  {
   "cell_type": "markdown",
   "metadata": {},
   "source": [
    "## VeBDA - vector body acceleration\n",
    "the VeDBA at time t, is `a_magnitude`. there is no a_magnitude on first frame!\n",
    "\n",
    "For a possession starting at $s_n$ and ending at $e_n$ , the VeBDA for that posession is \n",
    "$$V'_n = \\sum_{t=s_n}^{e_n}V_t$$"
   ]
  },
  {
   "cell_type": "code",
   "execution_count": 128,
   "metadata": {},
   "outputs": [],
   "source": [
    "def estimate_player_VeBDA(team1_players, team0_players):\n",
    "    \"\"\" estaimte player energy expenditure\n",
    "\n",
    "    Keyword Arguments:\n",
    "        metric {str} -- metric of energy expenditure (default: {'VeBDA'})\n",
    "    \"\"\"\n",
    "    # get for all players\n",
    "    all_players = list(team0_players.items()) + list(team1_players.items())\n",
    "    for (num, player) in all_players:\n",
    "        VeBDA = [sum([t.a_magnitude for t in player.frame_targets[:i]]) \n",
    "                    for i,frame in enumerate(player.frame_targets, 1)]\n",
    "        player.VeBDA = VeBDA"
   ]
  },
  {
   "cell_type": "code",
   "execution_count": 129,
   "metadata": {},
   "outputs": [],
   "source": [
    "# compute VeBDA\n",
    "# estimate_player_VeBDA(team1_players, team0_players"
   ]
  },
  {
   "cell_type": "code",
   "execution_count": 130,
   "metadata": {},
   "outputs": [
    {
     "ename": "KeyboardInterrupt",
     "evalue": "",
     "output_type": "error",
     "traceback": [
      "\u001b[0;31m---------------------------------------------------------------------------\u001b[0m",
      "\u001b[0;31mKeyboardInterrupt\u001b[0m                         Traceback (most recent call last)",
      "\u001b[0;32m<ipython-input-130-2ffc2f85f5a5>\u001b[0m in \u001b[0;36m<module>\u001b[0;34m\u001b[0m\n\u001b[1;32m      2\u001b[0m \u001b[0;31m# VeBDA = helpers.get_all_values(player, 'VeBDA')\u001b[0m\u001b[0;34m\u001b[0m\u001b[0;34m\u001b[0m\u001b[0;34m\u001b[0m\u001b[0m\n\u001b[1;32m      3\u001b[0m VeBDA = [sum([t.a_magnitude for t in player.frame_targets[:i]]) \n\u001b[0;32m----> 4\u001b[0;31m                 for i,frame in enumerate(player.frame_targets, 1)]\n\u001b[0m",
      "\u001b[0;32m<ipython-input-130-2ffc2f85f5a5>\u001b[0m in \u001b[0;36m<listcomp>\u001b[0;34m(.0)\u001b[0m\n\u001b[1;32m      2\u001b[0m \u001b[0;31m# VeBDA = helpers.get_all_values(player, 'VeBDA')\u001b[0m\u001b[0;34m\u001b[0m\u001b[0;34m\u001b[0m\u001b[0;34m\u001b[0m\u001b[0m\n\u001b[1;32m      3\u001b[0m VeBDA = [sum([t.a_magnitude for t in player.frame_targets[:i]]) \n\u001b[0;32m----> 4\u001b[0;31m                 for i,frame in enumerate(player.frame_targets, 1)]\n\u001b[0m",
      "\u001b[0;31mKeyboardInterrupt\u001b[0m: "
     ]
    }
   ],
   "source": [
    "# plot VeBDA\n",
    "# VeBDA = helpers.get_all_values(player, 'VeBDA')\n",
    "VeBDA = [sum([t.a_magnitude for t in player.frame_targets[:i]]) \n",
    "                for i,frame in enumerate(player.frame_targets, 1)]"
   ]
  },
  {
   "cell_type": "code",
   "execution_count": null,
   "metadata": {},
   "outputs": [],
   "source": [
    "plt.plot(VeBDA)\n",
    "plt.show()"
   ]
  },
  {
   "cell_type": "code",
   "execution_count": null,
   "metadata": {},
   "outputs": [],
   "source": []
  },
  {
   "cell_type": "markdown",
   "metadata": {},
   "source": [
    "## Metabolic power\n",
    "First must find the **energy cost**\n",
    "$$EC =155.4i^5 −30.4i^4 −43.3i^3 +46.3i^2 +19.5i +3.6$$"
   ]
  },
  {
   "cell_type": "code",
   "execution_count": 176,
   "metadata": {},
   "outputs": [],
   "source": [
    "# def estimate_metabolic_power(team1_players, team0_players, match, metric='metabolic'):\n",
    "def estimate_metabolic_power(player, metric='metabolic'):\n",
    "    # get accelerations\n",
    "    ax = np.array([t.ax * 100 for t in player.frame_targets])\n",
    "    ay = np.array([t.ay * 100 for t in player.frame_targets])\n",
    "    vx = np.array([t.vx for t in player.frame_targets])\n",
    "    vy = np.array([t.vy for t in player.frame_targets])\n",
    "    \n",
    "    # in m/s^2\n",
    "    g = 9.81\n",
    "    \n",
    "    # find angle, of equivalent slope\n",
    "    ix = np.tan(np.pi/2. - np.arctan(g/ax))\n",
    "    iy = np.tan(np.pi/2. - np.arctan(g/ay)) \n",
    "    \n",
    "    # find energy cost\n",
    "    EC_x = 155.4*ix**5 - 30.4*ix**4 - 43.3*ix**3 + 46.3*ix**2 + 19.5*ix + 3.6\n",
    "    EC_y = 155.4*iy**5 - 30.4*iy**4 - 43.3*iy**3 + 46.3*iy**2 + 19.5*iy + 3.6\n",
    "    \n",
    "    # equivalent mass ratio\n",
    "    mx = np.sqrt((np.power(ax, 2)/g**2) + 1)\n",
    "    my = np.sqrt((np.power(ay, 2)/g**2) + 1)\n",
    "    \n",
    "    # matabolic power\n",
    "    Px = np.multiply(EC_x, mx, vx)\n",
    "    Py = np.multiply(EC_y, my, vy)\n",
    "    \n",
    "    player.metabolic = Px + Py\n",
    "    \n",
    "    return Px + Py\n"
   ]
  },
  {
   "cell_type": "code",
   "execution_count": 196,
   "metadata": {},
   "outputs": [
    {
     "name": "stderr",
     "output_type": "stream",
     "text": [
      "/Users/jeffbalkanski/anaconda3/envs/soccer3/lib/python3.7/site-packages/ipykernel_launcher.py:11: RuntimeWarning: divide by zero encountered in true_divide\n",
      "  # This is added back by InteractiveShellApp.init_path()\n",
      "/Users/jeffbalkanski/anaconda3/envs/soccer3/lib/python3.7/site-packages/ipykernel_launcher.py:11: RuntimeWarning: invalid value encountered in arctan\n",
      "  # This is added back by InteractiveShellApp.init_path()\n",
      "/Users/jeffbalkanski/anaconda3/envs/soccer3/lib/python3.7/site-packages/ipykernel_launcher.py:12: RuntimeWarning: divide by zero encountered in true_divide\n",
      "  if sys.path[0] == '':\n",
      "/Users/jeffbalkanski/anaconda3/envs/soccer3/lib/python3.7/site-packages/ipykernel_launcher.py:12: RuntimeWarning: invalid value encountered in arctan\n",
      "  if sys.path[0] == '':\n"
     ]
    }
   ],
   "source": [
    "# get accelerations\n",
    "ax = np.array([t.ax * 100 for t in player.frame_targets])\n",
    "ay = np.array([t.ay * 100 for t in player.frame_targets])\n",
    "vx = np.array([t.vx for t in player.frame_targets])\n",
    "vy = np.array([t.vy for t in player.frame_targets])\n",
    "\n",
    "# in m/s^2\n",
    "g = 9.81\n",
    "\n",
    "# find angle, of equivalent slope\n",
    "ix = np.tan(np.pi/2. - np.arctan(g/ax))\n",
    "iy = np.tan(np.pi/2. - np.arctan(g/ay)) "
   ]
  },
  {
   "cell_type": "code",
   "execution_count": 205,
   "metadata": {},
   "outputs": [
    {
     "data": {
      "text/plain": [
       "1.9979612640163102"
      ]
     },
     "execution_count": 205,
     "metadata": {},
     "output_type": "execute_result"
    }
   ],
   "source": [
    "np.nanmax(ix)"
   ]
  },
  {
   "cell_type": "code",
   "execution_count": 204,
   "metadata": {},
   "outputs": [
    {
     "data": {
      "text/plain": [
       "array([        nan,         nan,         nan,         nan,         nan,\n",
       "               nan, -0.21406728, -0.14271152, -0.08154944, -0.07135576,\n",
       "       -0.18348624, -0.16309888, -0.29561672, -0.3058104 , -0.3058104 ,\n",
       "       -0.3058104 , -0.32619776, -0.18348624, -0.16309888, -0.14271152,\n",
       "       -0.12232416, -0.13251784, -0.18348624, -0.2038736 , -0.27522936,\n",
       "       -0.29561672, -0.27522936, -0.27522936, -0.3058104 , -0.23445464])"
      ]
     },
     "execution_count": 204,
     "metadata": {},
     "output_type": "execute_result"
    }
   ],
   "source": [
    "iy[:30]"
   ]
  },
  {
   "cell_type": "code",
   "execution_count": 177,
   "metadata": {},
   "outputs": [],
   "source": [
    "player_1_1 = team0_players[73]"
   ]
  },
  {
   "cell_type": "code",
   "execution_count": 194,
   "metadata": {},
   "outputs": [],
   "source": [
    "ays = [t.ay for t in player.frame_targets]"
   ]
  },
  {
   "cell_type": "code",
   "execution_count": 195,
   "metadata": {},
   "outputs": [
    {
     "data": {
      "text/plain": [
       "0.32"
      ]
     },
     "execution_count": 195,
     "metadata": {},
     "output_type": "execute_result"
    }
   ],
   "source": [
    "np.nanmax(ays)"
   ]
  },
  {
   "cell_type": "code",
   "execution_count": 193,
   "metadata": {},
   "outputs": [
    {
     "ename": "NameError",
     "evalue": "name 'ays' is not defined",
     "output_type": "error",
     "traceback": [
      "\u001b[0;31m---------------------------------------------------------------------------\u001b[0m",
      "\u001b[0;31mNameError\u001b[0m                                 Traceback (most recent call last)",
      "\u001b[0;32m<ipython-input-193-42648c2b3d88>\u001b[0m in \u001b[0;36m<module>\u001b[0;34m\u001b[0m\n\u001b[0;32m----> 1\u001b[0;31m \u001b[0mnp\u001b[0m\u001b[0;34m.\u001b[0m\u001b[0mnanmax\u001b[0m\u001b[0;34m(\u001b[0m\u001b[0mays\u001b[0m\u001b[0;34m)\u001b[0m\u001b[0;34m\u001b[0m\u001b[0;34m\u001b[0m\u001b[0m\n\u001b[0m",
      "\u001b[0;31mNameError\u001b[0m: name 'ays' is not defined"
     ]
    }
   ],
   "source": [
    "np.nanmax(as)"
   ]
  },
  {
   "cell_type": "code",
   "execution_count": 178,
   "metadata": {},
   "outputs": [
    {
     "name": "stderr",
     "output_type": "stream",
     "text": [
      "/Users/jeffbalkanski/anaconda3/envs/soccer3/lib/python3.7/site-packages/ipykernel_launcher.py:13: RuntimeWarning: divide by zero encountered in true_divide\n",
      "  del sys.path[0]\n",
      "/Users/jeffbalkanski/anaconda3/envs/soccer3/lib/python3.7/site-packages/ipykernel_launcher.py:13: RuntimeWarning: invalid value encountered in arctan\n",
      "  del sys.path[0]\n",
      "/Users/jeffbalkanski/anaconda3/envs/soccer3/lib/python3.7/site-packages/ipykernel_launcher.py:14: RuntimeWarning: divide by zero encountered in true_divide\n",
      "  \n",
      "/Users/jeffbalkanski/anaconda3/envs/soccer3/lib/python3.7/site-packages/ipykernel_launcher.py:14: RuntimeWarning: invalid value encountered in arctan\n",
      "  \n"
     ]
    }
   ],
   "source": [
    "metabolic = estimate_metabolic_power(player)"
   ]
  },
  {
   "cell_type": "code",
   "execution_count": 179,
   "metadata": {},
   "outputs": [],
   "source": [
    "axs= [t.ax * 100 for t in player.frame_targets]"
   ]
  },
  {
   "cell_type": "code",
   "execution_count": 180,
   "metadata": {},
   "outputs": [
    {
     "data": {
      "text/plain": [
       "[<matplotlib.lines.Line2D at 0x1cb92777d0>]"
      ]
     },
     "execution_count": 180,
     "metadata": {},
     "output_type": "execute_result"
    },
    {
     "data": {
      "image/png": "[encoded data removed]",
      "text/plain": [
       "<Figure size 432x288 with 1 Axes>"
      ]
     },
     "metadata": {
      "needs_background": "light"
     },
     "output_type": "display_data"
    }
   ],
   "source": [
    "plt.plot(axs)"
   ]
  },
  {
   "cell_type": "code",
   "execution_count": 181,
   "metadata": {},
   "outputs": [],
   "source": [
    "toplot = helpers.get_mean_every_k(metabolic, 1000)"
   ]
  },
  {
   "cell_type": "code",
   "execution_count": 186,
   "metadata": {},
   "outputs": [
    {
     "data": {
      "image/png": "[encoded data removed]",
      "text/plain": [
       "<Figure size 432x288 with 1 Axes>"
      ]
     },
     "metadata": {
      "needs_background": "light"
     },
     "output_type": "display_data"
    }
   ],
   "source": [
    "plt.plot(f)\n",
    "\n",
    "plt.show()"
   ]
  },
  {
   "cell_type": "code",
   "execution_count": 185,
   "metadata": {},
   "outputs": [
    {
     "name": "stderr",
     "output_type": "stream",
     "text": [
      "/Users/jeffbalkanski/anaconda3/envs/soccer3/lib/python3.7/site-packages/ipykernel_launcher.py:1: RuntimeWarning: invalid value encountered in greater_equal\n",
      "  \"\"\"Entry point for launching an IPython kernel.\n"
     ]
    }
   ],
   "source": [
    "f = metabolic[metabolic >=0]\n",
    "f = f[abs(f) < 1000]"
   ]
  },
  {
   "cell_type": "code",
   "execution_count": null,
   "metadata": {},
   "outputs": [],
   "source": []
  },
  {
   "cell_type": "markdown",
   "metadata": {},
   "source": [
    "# relating to physical performance"
   ]
  },
  {
   "cell_type": "code",
   "execution_count": 120,
   "metadata": {},
   "outputs": [],
   "source": [
    "player = team0_players[11]\n",
    "\n",
    "# get accelerations\n",
    "accelerations = helpers.get_all_values(player, 'a_magnitude')"
   ]
  },
  {
   "cell_type": "code",
   "execution_count": 126,
   "metadata": {},
   "outputs": [],
   "source": [
    "means = helpers.get_mean_every_k(accelerations, 4000)"
   ]
  },
  {
   "cell_type": "code",
   "execution_count": 125,
   "metadata": {},
   "outputs": [
    {
     "data": {
      "text/plain": [
       "[<matplotlib.lines.Line2D at 0x1ca9f2cc50>]"
      ]
     },
     "execution_count": 125,
     "metadata": {},
     "output_type": "execute_result"
    },
    {
     "data": {
      "image/png": "[encoded data removed]",
      "text/plain": [
       "<Figure size 432x288 with 1 Axes>"
      ]
     },
     "metadata": {
      "needs_background": "light"
     },
     "output_type": "display_data"
    }
   ],
   "source": [
    "plt.plot(means)"
   ]
  },
  {
   "cell_type": "code",
   "execution_count": 127,
   "metadata": {},
   "outputs": [
    {
     "ename": "AttributeError",
     "evalue": "'tracab_target' object has no attribute 'VeBDA'",
     "output_type": "error",
     "traceback": [
      "\u001b[0;31m---------------------------------------------------------------------------\u001b[0m",
      "\u001b[0;31mAttributeError\u001b[0m                            Traceback (most recent call last)",
      "\u001b[0;32m<ipython-input-127-ef91df37ecdd>\u001b[0m in \u001b[0;36m<module>\u001b[0;34m\u001b[0m\n\u001b[1;32m      2\u001b[0m \u001b[0;34m\u001b[0m\u001b[0m\n\u001b[1;32m      3\u001b[0m \u001b[0;31m# get accelerations\u001b[0m\u001b[0;34m\u001b[0m\u001b[0;34m\u001b[0m\u001b[0;34m\u001b[0m\u001b[0m\n\u001b[0;32m----> 4\u001b[0;31m \u001b[0maccelerations\u001b[0m \u001b[0;34m=\u001b[0m \u001b[0mhelpers\u001b[0m\u001b[0;34m.\u001b[0m\u001b[0mget_all_values\u001b[0m\u001b[0;34m(\u001b[0m\u001b[0mplayer\u001b[0m\u001b[0;34m,\u001b[0m \u001b[0;34m'VeBDA'\u001b[0m\u001b[0;34m)\u001b[0m\u001b[0;34m\u001b[0m\u001b[0;34m\u001b[0m\u001b[0m\n\u001b[0m",
      "\u001b[0;32m~/research_soccer/SoccerTrackingData3/helpers.py\u001b[0m in \u001b[0;36mget_all_values\u001b[0;34m(player, metric)\u001b[0m\n\u001b[1;32m     44\u001b[0m \u001b[0;34m\u001b[0m\u001b[0m\n\u001b[1;32m     45\u001b[0m \u001b[0;32mdef\u001b[0m \u001b[0mget_all_values\u001b[0m\u001b[0;34m(\u001b[0m\u001b[0mplayer\u001b[0m\u001b[0;34m,\u001b[0m \u001b[0mmetric\u001b[0m\u001b[0;34m)\u001b[0m\u001b[0;34m:\u001b[0m\u001b[0;34m\u001b[0m\u001b[0;34m\u001b[0m\u001b[0m\n\u001b[0;32m---> 46\u001b[0;31m     \u001b[0;32mreturn\u001b[0m \u001b[0mnp\u001b[0m\u001b[0;34m.\u001b[0m\u001b[0marray\u001b[0m\u001b[0;34m(\u001b[0m\u001b[0;34m[\u001b[0m\u001b[0meval\u001b[0m\u001b[0;34m(\u001b[0m\u001b[0;34m't.'\u001b[0m \u001b[0;34m+\u001b[0m \u001b[0mmetric\u001b[0m\u001b[0;34m)\u001b[0m \u001b[0;32mfor\u001b[0m \u001b[0mt\u001b[0m \u001b[0;32min\u001b[0m \u001b[0mplayer\u001b[0m\u001b[0;34m.\u001b[0m\u001b[0mframe_targets\u001b[0m\u001b[0;34m]\u001b[0m\u001b[0;34m)\u001b[0m\u001b[0;34m\u001b[0m\u001b[0;34m\u001b[0m\u001b[0m\n\u001b[0m\u001b[1;32m     47\u001b[0m \u001b[0;34m\u001b[0m\u001b[0m\n\u001b[1;32m     48\u001b[0m \u001b[0;34m\u001b[0m\u001b[0m\n",
      "\u001b[0;32m~/research_soccer/SoccerTrackingData3/helpers.py\u001b[0m in \u001b[0;36m<listcomp>\u001b[0;34m(.0)\u001b[0m\n\u001b[1;32m     44\u001b[0m \u001b[0;34m\u001b[0m\u001b[0m\n\u001b[1;32m     45\u001b[0m \u001b[0;32mdef\u001b[0m \u001b[0mget_all_values\u001b[0m\u001b[0;34m(\u001b[0m\u001b[0mplayer\u001b[0m\u001b[0;34m,\u001b[0m \u001b[0mmetric\u001b[0m\u001b[0;34m)\u001b[0m\u001b[0;34m:\u001b[0m\u001b[0;34m\u001b[0m\u001b[0;34m\u001b[0m\u001b[0m\n\u001b[0;32m---> 46\u001b[0;31m     \u001b[0;32mreturn\u001b[0m \u001b[0mnp\u001b[0m\u001b[0;34m.\u001b[0m\u001b[0marray\u001b[0m\u001b[0;34m(\u001b[0m\u001b[0;34m[\u001b[0m\u001b[0meval\u001b[0m\u001b[0;34m(\u001b[0m\u001b[0;34m't.'\u001b[0m \u001b[0;34m+\u001b[0m \u001b[0mmetric\u001b[0m\u001b[0;34m)\u001b[0m \u001b[0;32mfor\u001b[0m \u001b[0mt\u001b[0m \u001b[0;32min\u001b[0m \u001b[0mplayer\u001b[0m\u001b[0;34m.\u001b[0m\u001b[0mframe_targets\u001b[0m\u001b[0;34m]\u001b[0m\u001b[0;34m)\u001b[0m\u001b[0;34m\u001b[0m\u001b[0;34m\u001b[0m\u001b[0m\n\u001b[0m\u001b[1;32m     47\u001b[0m \u001b[0;34m\u001b[0m\u001b[0m\n\u001b[1;32m     48\u001b[0m \u001b[0;34m\u001b[0m\u001b[0m\n",
      "\u001b[0;32m~/research_soccer/SoccerTrackingData3/helpers.py\u001b[0m in \u001b[0;36m<module>\u001b[0;34m\u001b[0m\n",
      "\u001b[0;31mAttributeError\u001b[0m: 'tracab_target' object has no attribute 'VeBDA'"
     ]
    }
   ],
   "source": [
    "player = team0_players[11]\n",
    "\n",
    "# get accelerations\n",
    "accelerations = helpers.get_all_values(player, 'VeBDA')"
   ]
  },
  {
   "cell_type": "code",
   "execution_count": null,
   "metadata": {},
   "outputs": [],
   "source": [
    "means = helpers.get_mean_every_k(accelerations, 4000)\n",
    "plt.plot(means)"
   ]
  }
 ],
 "metadata": {
  "kernelspec": {
   "display_name": "Python 3",
   "language": "python",
   "name": "python3"
  },
  "language_info": {
   "codemirror_mode": {
    "name": "ipython",
    "version": 3
   },
   "file_extension": ".py",
   "mimetype": "text/x-python",
   "name": "python",
   "nbconvert_exporter": "python",
   "pygments_lexer": "ipython3",
   "version": "3.7.4"
  }
 },
 "nbformat": 4,
 "nbformat_minor": 4
}
