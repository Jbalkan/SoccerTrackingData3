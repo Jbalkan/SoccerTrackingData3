{
 "cells": [
  {
   "cell_type": "code",
   "execution_count": 2,
   "metadata": {},
   "outputs": [
    {
     "data": {
      "text/plain": [
       "<module 'Tracking_Visuals' from '/Users/jeffbalkanski/research_soccer/SoccerTrackingData3/Tracking_Visuals.py'>"
      ]
     },
     "execution_count": 2,
     "metadata": {},
     "output_type": "execute_result"
    }
   ],
   "source": [
    "import os\n",
    "import datetime\n",
    "import copy\n",
    "import pickle\n",
    "import numpy as np\n",
    "import pandas as pd\n",
    "import matplotlib.pyplot as plt\n",
    "import seaborn as sns\n",
    "from collections import defaultdict\n",
    "\n",
    "import Tracab as tracab\n",
    "import Tracking_Visuals as vis\n",
    "import Tracking_Velocities as vel\n",
    "import Tracking_Fatigue as fatigue\n",
    "import helpers\n",
    "\n",
    "import importlib\n",
    "importlib.reload(tracab)\n",
    "importlib.reload(helpers)\n",
    "importlib.reload(vis)"
   ]
  },
  {
   "cell_type": "code",
   "execution_count": 3,
   "metadata": {},
   "outputs": [],
   "source": [
    "# config\n",
    "current_dir = os.path.dirname(os.getcwd())\n",
    "dir_path = os.path.join(current_dir, 'Aalborg_Jeff')\n",
    "LEAGUE = 'DSL'"
   ]
  },
  {
   "cell_type": "code",
   "execution_count": 4,
   "metadata": {},
   "outputs": [],
   "source": [
    "# all games data\n",
    "data_dict = {}\n",
    "all_Aalborg_games = [x for x, _, _ in os.walk(dir_path) if x.count('_TracDAT')]"
   ]
  },
  {
   "cell_type": "markdown",
   "metadata": {},
   "source": [
    "# For each game"
   ]
  },
  {
   "cell_type": "code",
   "execution_count": 78,
   "metadata": {},
   "outputs": [],
   "source": [
    "# get all energy expenditure time series for one game\n",
    "def get_time_series(players_full_game):\n",
    "    metric_values = []\n",
    "    for row in players_full_game.to_dict(orient='records'):\n",
    "        player = row['obj']\n",
    "        val_array = fatigue.get_energy_expenditure(player)\n",
    "        metric_values.append([row['match_id'], row['player_id'], val_array])\n",
    "\n",
    "    EX_all = np.array(metric_values)\n",
    "    \n",
    "    return EX_all"
   ]
  },
  {
   "cell_type": "code",
   "execution_count": 79,
   "metadata": {
    "collapsed": true,
    "jupyter": {
     "outputs_hidden": true
    }
   },
   "outputs": [
    {
     "name": "stdout",
     "output_type": "stream",
     "text": [
      "Reading match metadata\n",
      "Reading match tracking data\n",
      "Timestamping frames\n",
      "Measuring velocities\n",
      "home goalkeeper(s):  [18]\n",
      "away goalkeeper(s):  [1]\n",
      "0 72654\n",
      "72655 149146\n",
      "Reading match metadata\n",
      "Reading match tracking data\n",
      "Timestamping frames\n",
      "Measuring velocities\n",
      "home goalkeeper(s):  [1]\n",
      "away goalkeeper(s):  [91]\n",
      "0 69100\n",
      "69101 145074\n",
      "Reading match metadata\n",
      "Reading match tracking data\n",
      "Timestamping frames\n",
      "Measuring velocities\n",
      "home goalkeeper(s):  [13]\n",
      "away goalkeeper(s):  [1]\n",
      "0 72694\n",
      "72695 146356\n",
      "Reading match metadata\n",
      "Reading match tracking data\n",
      "Timestamping frames\n",
      "Measuring velocities\n",
      "home goalkeeper(s):  [1]\n",
      "away goalkeeper(s):  [1]\n",
      "0 75810\n",
      "75811 148149\n",
      "Reading match metadata\n",
      "Reading match tracking data\n",
      "Timestamping frames\n",
      "Measuring velocities\n",
      "home goalkeeper(s):  [1]\n",
      "away goalkeeper(s):  [1]\n",
      "0 72144\n",
      "72145 147324\n",
      "Reading match metadata\n",
      "Reading match tracking data\n",
      "Timestamping frames\n",
      "Measuring velocities\n",
      "home goalkeeper(s):  [1]\n",
      "away goalkeeper(s):  [18]\n",
      "0 69109\n",
      "69110 143166\n",
      "Reading match metadata\n",
      "Reading match tracking data\n",
      "Timestamping frames\n",
      "Measuring velocities\n",
      "home goalkeeper(s):  [1]\n",
      "away goalkeeper(s):  [16]\n",
      "0 67697\n",
      "67698 146658\n",
      "Reading match metadata\n",
      "Reading match tracking data\n",
      "Timestamping frames\n",
      "Measuring velocities\n",
      "home goalkeeper(s):  [21]\n",
      "away goalkeeper(s):  [1]\n",
      "0 67561\n",
      "67562 139624\n",
      "Reading match metadata\n",
      "Reading match tracking data\n",
      "Timestamping frames\n",
      "Measuring velocities\n",
      "home goalkeeper(s):  [1]\n",
      "away goalkeeper(s):  [1]\n",
      "0 72035\n",
      "72036 145666\n",
      "Reading match metadata\n",
      "Reading match tracking data\n",
      "Timestamping frames\n",
      "Measuring velocities\n",
      "home goalkeeper(s):  [1]\n",
      "away goalkeeper(s):  [13]\n",
      "0 69069\n",
      "69070 142732\n",
      "Reading match metadata\n",
      "Reading match tracking data\n",
      "Timestamping frames\n",
      "Measuring velocities\n",
      "home goalkeeper(s):  [91]\n",
      "away goalkeeper(s):  [1]\n",
      "0 67714\n",
      "67715 142872\n",
      "Reading match metadata\n",
      "Reading match tracking data\n",
      "Timestamping frames\n",
      "Measuring velocities\n",
      "home goalkeeper(s):  [1]\n",
      "away goalkeeper(s):  [30]\n",
      "0 70824\n",
      "70825 144398\n",
      "Reading match metadata\n",
      "Reading match tracking data\n",
      "Timestamping frames\n",
      "Measuring velocities\n",
      "home goalkeeper(s):  [1]\n",
      "away goalkeeper(s):  [1]\n",
      "0 75122\n",
      "75123 147217\n",
      "Reading match metadata\n",
      "Reading match tracking data\n",
      "Timestamping frames\n",
      "Measuring velocities\n",
      "home goalkeeper(s):  [1]\n",
      "away goalkeeper(s):  [21]\n",
      "0 73432\n",
      "73433 148588\n",
      "Reading match metadata\n",
      "Reading match tracking data\n",
      "Timestamping frames\n",
      "Measuring velocities\n",
      "home goalkeeper(s):  [1]\n",
      "away goalkeeper(s):  [1]\n",
      "0 67630\n",
      "67631 142707\n",
      "Reading match metadata\n",
      "Reading match tracking data\n",
      "Timestamping frames\n",
      "Measuring velocities\n",
      "home goalkeeper(s):  [1]\n",
      "away goalkeeper(s):  [1]\n",
      "0 71882\n",
      "71883 143937\n",
      "Reading match metadata\n",
      "Reading match tracking data\n",
      "Timestamping frames\n",
      "Measuring velocities\n",
      "home goalkeeper(s):  [28]\n",
      "away goalkeeper(s):  [1]\n",
      "0 70642\n",
      "70643 142733\n",
      "Reading match metadata\n",
      "Reading match tracking data\n",
      "Timestamping frames\n",
      "Measuring velocities\n",
      "home goalkeeper(s):  [1]\n",
      "away goalkeeper(s):  [1]\n",
      "0 70085\n",
      "70086 140542\n",
      "Reading match metadata\n",
      "Reading match tracking data\n",
      "Timestamping frames\n",
      "Measuring velocities\n",
      "home goalkeeper(s):  [1]\n",
      "away goalkeeper(s):  [1]\n",
      "0 72088\n",
      "72089 145294\n",
      "Reading match metadata\n",
      "Reading match tracking data\n",
      "Timestamping frames\n",
      "Measuring velocities\n",
      "home goalkeeper(s):  [16]\n",
      "away goalkeeper(s):  [1]\n",
      "0 69032\n",
      "69033 142607\n"
     ]
    }
   ],
   "source": [
    "# ## LONG RUN\n",
    "\n",
    "# # for each game\n",
    "# for path in all_Aalborg_games:\n",
    "#     # store path\n",
    "#     match_id, _ = path.replace(os.path.dirname(path) + '/', '').split('_')\n",
    "#     data_dict[match_id] = {'data_path': path}\n",
    "    \n",
    "#     # read \n",
    "#     fpath, fname = path, str(match_id)\n",
    "#     frames_tb, match_tb, team1_players, team0_players = tracab.read_tracab_match_data(LEAGUE, fpath, fname, verbose=True)\n",
    "    \n",
    "#     # players info\n",
    "#     players_info = helpers.map_playerids_positions(team1_players, team0_players, \n",
    "#                                 match_id,loc_mapping='../playerid_jerseynum_map.csv')\n",
    "    \n",
    "#     # get stats\n",
    "#     time_series_mat = get_time_series(players_info)\n",
    "    \n",
    "#     # store \n",
    "#     data_dict[match_id]['player_info'] = players_info.drop('obj', axis=1)\n",
    "#     data_dict[match_id]['energy_x'] = time_series_mat\n",
    "    \n",
    "#     # free memory\n",
    "#     del team1_players, team0_players, match_tb, frames_tb"
   ]
  },
  {
   "cell_type": "code",
   "execution_count": null,
   "metadata": {
    "jupyter": {
     "source_hidden": true
    }
   },
   "outputs": [],
   "source": [
    "halfs = [\n",
    "    [72655, 149146],\n",
    "    [69101, 145074],\n",
    "    [72695, 146356],\n",
    "    [75811, 148149],\n",
    "    [72145, 147324],\n",
    "    [69110, 143166],\n",
    "    [67698, 146658],\n",
    "    [67562, 139624],\n",
    "    [72036, 145666],\n",
    "    [69070, 142732],\n",
    "    [67715, 142872],\n",
    "    [70825, 144398],\n",
    "    [75123, 147217],\n",
    "    [73433, 148588],\n",
    "    [67631, 142707],\n",
    "    [71883, 143937],\n",
    "    [70643, 142733],\n",
    "    [70086, 140542],\n",
    "    [72089, 145294],\n",
    "    [69033, 142607]\n",
    "]"
   ]
  },
  {
   "cell_type": "code",
   "execution_count": 40,
   "metadata": {},
   "outputs": [],
   "source": [
    "# save\n",
    "with open(os.path.join('./saved', 'all_time_series.pkl'), 'wb') as outfile:\n",
    "    pickle.dump(data_dict, outfile)"
   ]
  },
  {
   "cell_type": "markdown",
   "metadata": {},
   "source": [
    "# Read"
   ]
  },
  {
   "cell_type": "code",
   "execution_count": 5,
   "metadata": {},
   "outputs": [],
   "source": [
    "# read\n",
    "with open(os.path.join('./saved', 'all_time_series.pkl'), 'rb') as infile:\n",
    "    data_dict = pickle.load(infile)"
   ]
  },
  {
   "cell_type": "code",
   "execution_count": null,
   "metadata": {},
   "outputs": [],
   "source": []
  },
  {
   "cell_type": "markdown",
   "metadata": {},
   "source": [
    "# tests"
   ]
  },
  {
   "cell_type": "code",
   "execution_count": 7,
   "metadata": {},
   "outputs": [
    {
     "name": "stdout",
     "output_type": "stream",
     "text": [
      "['/Users/jeffbalkanski/research_soccer/Aalborg_Jeff/984554/984554_TracDAT', '/Users/jeffbalkanski/research_soccer/Aalborg_Jeff/984509/984509_TracDAT', '/Users/jeffbalkanski/research_soccer/Aalborg_Jeff/984590/984590_TracDAT', '/Users/jeffbalkanski/research_soccer/Aalborg_Jeff/984539/984539_TracDAT', '/Users/jeffbalkanski/research_soccer/Aalborg_Jeff/984530/984530_TracDAT', '/Users/jeffbalkanski/research_soccer/Aalborg_Jeff/984481/984481_TracDAT', '/Users/jeffbalkanski/research_soccer/Aalborg_Jeff/984495/984495_TracDAT', '/Users/jeffbalkanski/research_soccer/Aalborg_Jeff/984468/984468_TracDAT', '/Users/jeffbalkanski/research_soccer/Aalborg_Jeff/984460/984460_TracDAT', '/Users/jeffbalkanski/research_soccer/Aalborg_Jeff/984523/984523_TracDAT', '/Users/jeffbalkanski/research_soccer/Aalborg_Jeff/984570/984570_TracDAT', '/Users/jeffbalkanski/research_soccer/Aalborg_Jeff/984579/984579_TracDAT', '/Users/jeffbalkanski/research_soccer/Aalborg_Jeff/984505/984505_TracDAT', '/Users/jeffbalkanski/research_soccer/Aalborg_Jeff/984558/984558_TracDAT', '/Users/jeffbalkanski/research_soccer/Aalborg_Jeff/984476/984476_TracDAT', '/Users/jeffbalkanski/research_soccer/Aalborg_Jeff/984491/984491_TracDAT', '/Users/jeffbalkanski/research_soccer/Aalborg_Jeff/984455/984455_TracDAT', '/Users/jeffbalkanski/research_soccer/Aalborg_Jeff/984518/984518_TracDAT', '/Users/jeffbalkanski/research_soccer/Aalborg_Jeff/984544/984544_TracDAT', '/Users/jeffbalkanski/research_soccer/Aalborg_Jeff/984575/984575_TracDAT']\n"
     ]
    }
   ],
   "source": [
    "print(all_Aalborg_games)"
   ]
  },
  {
   "cell_type": "code",
   "execution_count": 1,
   "metadata": {},
   "outputs": [],
   "source": [
    "import os\n",
    "import datetime\n",
    "import copy\n",
    "import pickle\n",
    "import numpy as np\n",
    "import pandas as pd\n",
    "import matplotlib.pyplot as plt\n",
    "import seaborn as sns\n",
    "from collections import defaultdict\n",
    "\n",
    "import Tracab as tracab\n",
    "import Tracking_Visuals as vis\n",
    "import Tracking_Velocities as vel\n",
    "import Tracking_Fatigue as fatigue\n",
    "import helpers\n",
    "\n",
    "# config\n",
    "current_dir = os.path.dirname(os.getcwd())\n",
    "dir_path = os.path.join(current_dir, 'Aalborg_Jeff')\n",
    "LEAGUE = 'DSL'\n",
    "\n",
    "# all games data\n",
    "data_dict = {}\n",
    "all_Aalborg_games = [x for x, _, _ in os.walk(dir_path) if x.count('_TracDAT')]\n",
    "\n",
    "def get_time_series(players_full_game):\n",
    "    metric_values = []\n",
    "    for row in players_full_game.to_dict(orient='records'):\n",
    "        player = row['obj']\n",
    "        val_array = fatigue.get_energy_expenditure(player)\n",
    "        metric_values.append([row['match_id'], row['player_id'], val_array])\n",
    "\n",
    "    EX_all = np.array(metric_values)\n",
    "    \n",
    "    return EX_all\n"
   ]
  },
  {
   "cell_type": "code",
   "execution_count": 2,
   "metadata": {},
   "outputs": [
    {
     "name": "stdout",
     "output_type": "stream",
     "text": [
      "Reading match metadata\n",
      "Reading match tracking data\n",
      "Timestamping frames\n",
      "Measuring velocities\n",
      "home goalkeeper(s):  [18]\n",
      "away goalkeeper(s):  [1]\n",
      "0 72654\n",
      "72655 149146\n"
     ]
    }
   ],
   "source": [
    "for path in all_Aalborg_games[:1]:\n",
    "    # store path\n",
    "    match_id, _ = path.replace(os.path.dirname(path) + '/', '').split('_')\n",
    "    data_dict[match_id] = {'data_path': path}\n",
    "    \n",
    "        # read \n",
    "    fpath, fname = path, str(match_id)\n",
    "    frames_tb, match_tb, team1_players, team0_players = tracab.read_tracab_match_data(LEAGUE, fpath, fname, verbose=True)"
   ]
  },
  {
   "cell_type": "code",
   "execution_count": 5,
   "metadata": {},
   "outputs": [],
   "source": [
    "# players info\n",
    "players_info = helpers.map_playerids_positions(team1_players, team0_players, \n",
    "                            match_id,loc_mapping='../playerid_jerseynum_map.csv')"
   ]
  },
  {
   "cell_type": "code",
   "execution_count": 4,
   "metadata": {},
   "outputs": [],
   "source": [
    "# get stats\n",
    "time_series_mat = get_time_series(players_info)"
   ]
  },
  {
   "cell_type": "code",
   "execution_count": 8,
   "metadata": {},
   "outputs": [],
   "source": [
    "all_Aalborg_games = [x for x, _, _ in os.walk(dir_path) if x.count('_TracDAT')]"
   ]
  },
  {
   "cell_type": "code",
   "execution_count": 9,
   "metadata": {},
   "outputs": [
    {
     "data": {
      "text/plain": [
       "['/Users/jeffbalkanski/research_soccer/Aalborg_Jeff/984554/984554_TracDAT',\n",
       " '/Users/jeffbalkanski/research_soccer/Aalborg_Jeff/984509/984509_TracDAT',\n",
       " '/Users/jeffbalkanski/research_soccer/Aalborg_Jeff/984590/984590_TracDAT',\n",
       " '/Users/jeffbalkanski/research_soccer/Aalborg_Jeff/984539/984539_TracDAT',\n",
       " '/Users/jeffbalkanski/research_soccer/Aalborg_Jeff/984530/984530_TracDAT',\n",
       " '/Users/jeffbalkanski/research_soccer/Aalborg_Jeff/984481/984481_TracDAT',\n",
       " '/Users/jeffbalkanski/research_soccer/Aalborg_Jeff/984495/984495_TracDAT',\n",
       " '/Users/jeffbalkanski/research_soccer/Aalborg_Jeff/984468/984468_TracDAT',\n",
       " '/Users/jeffbalkanski/research_soccer/Aalborg_Jeff/984460/984460_TracDAT',\n",
       " '/Users/jeffbalkanski/research_soccer/Aalborg_Jeff/984523/984523_TracDAT',\n",
       " '/Users/jeffbalkanski/research_soccer/Aalborg_Jeff/984570/984570_TracDAT',\n",
       " '/Users/jeffbalkanski/research_soccer/Aalborg_Jeff/984579/984579_TracDAT',\n",
       " '/Users/jeffbalkanski/research_soccer/Aalborg_Jeff/984505/984505_TracDAT',\n",
       " '/Users/jeffbalkanski/research_soccer/Aalborg_Jeff/984558/984558_TracDAT',\n",
       " '/Users/jeffbalkanski/research_soccer/Aalborg_Jeff/984476/984476_TracDAT',\n",
       " '/Users/jeffbalkanski/research_soccer/Aalborg_Jeff/984491/984491_TracDAT',\n",
       " '/Users/jeffbalkanski/research_soccer/Aalborg_Jeff/984455/984455_TracDAT',\n",
       " '/Users/jeffbalkanski/research_soccer/Aalborg_Jeff/984518/984518_TracDAT',\n",
       " '/Users/jeffbalkanski/research_soccer/Aalborg_Jeff/984544/984544_TracDAT',\n",
       " '/Users/jeffbalkanski/research_soccer/Aalborg_Jeff/984575/984575_TracDAT']"
      ]
     },
     "execution_count": 9,
     "metadata": {},
     "output_type": "execute_result"
    }
   ],
   "source": [
    "all_Aalborg_games"
   ]
  },
  {
   "cell_type": "code",
   "execution_count": 14,
   "metadata": {},
   "outputs": [
    {
     "data": {
      "text/plain": [
       "['/Users/jeffbalkanski/research_soccer/Aalborg_Jeff',\n",
       " '/Users/jeffbalkanski/research_soccer/Aalborg_Jeff/984554',\n",
       " '/Users/jeffbalkanski/research_soccer/Aalborg_Jeff/984554/984554_TracDAT',\n",
       " '/Users/jeffbalkanski/research_soccer/Aalborg_Jeff/984509',\n",
       " '/Users/jeffbalkanski/research_soccer/Aalborg_Jeff/984509/984509_TracDAT',\n",
       " '/Users/jeffbalkanski/research_soccer/Aalborg_Jeff/984590',\n",
       " '/Users/jeffbalkanski/research_soccer/Aalborg_Jeff/984590/984590_TracDAT',\n",
       " '/Users/jeffbalkanski/research_soccer/Aalborg_Jeff/984539',\n",
       " '/Users/jeffbalkanski/research_soccer/Aalborg_Jeff/984539/984539_TracDAT',\n",
       " '/Users/jeffbalkanski/research_soccer/Aalborg_Jeff/984530',\n",
       " '/Users/jeffbalkanski/research_soccer/Aalborg_Jeff/984530/984530_TracDAT',\n",
       " '/Users/jeffbalkanski/research_soccer/Aalborg_Jeff/984481',\n",
       " '/Users/jeffbalkanski/research_soccer/Aalborg_Jeff/984481/984481_TracDAT',\n",
       " '/Users/jeffbalkanski/research_soccer/Aalborg_Jeff/984495',\n",
       " '/Users/jeffbalkanski/research_soccer/Aalborg_Jeff/984495/984495_TracDAT',\n",
       " '/Users/jeffbalkanski/research_soccer/Aalborg_Jeff/984468',\n",
       " '/Users/jeffbalkanski/research_soccer/Aalborg_Jeff/984468/984468_TracDAT',\n",
       " '/Users/jeffbalkanski/research_soccer/Aalborg_Jeff/984460',\n",
       " '/Users/jeffbalkanski/research_soccer/Aalborg_Jeff/984460/984460_TracDAT',\n",
       " '/Users/jeffbalkanski/research_soccer/Aalborg_Jeff/984523',\n",
       " '/Users/jeffbalkanski/research_soccer/Aalborg_Jeff/984523/984523_TracDAT',\n",
       " '/Users/jeffbalkanski/research_soccer/Aalborg_Jeff/984570',\n",
       " '/Users/jeffbalkanski/research_soccer/Aalborg_Jeff/984570/984570_TracDAT',\n",
       " '/Users/jeffbalkanski/research_soccer/Aalborg_Jeff/984579',\n",
       " '/Users/jeffbalkanski/research_soccer/Aalborg_Jeff/984579/984579_TracDAT',\n",
       " '/Users/jeffbalkanski/research_soccer/Aalborg_Jeff/984505',\n",
       " '/Users/jeffbalkanski/research_soccer/Aalborg_Jeff/984505/984505_TracDAT',\n",
       " '/Users/jeffbalkanski/research_soccer/Aalborg_Jeff/984558',\n",
       " '/Users/jeffbalkanski/research_soccer/Aalborg_Jeff/984558/984558_TracDAT',\n",
       " '/Users/jeffbalkanski/research_soccer/Aalborg_Jeff/984476',\n",
       " '/Users/jeffbalkanski/research_soccer/Aalborg_Jeff/984476/984476_TracDAT',\n",
       " '/Users/jeffbalkanski/research_soccer/Aalborg_Jeff/984491',\n",
       " '/Users/jeffbalkanski/research_soccer/Aalborg_Jeff/984491/984491_TracDAT',\n",
       " '/Users/jeffbalkanski/research_soccer/Aalborg_Jeff/984455',\n",
       " '/Users/jeffbalkanski/research_soccer/Aalborg_Jeff/984455/984455_TracDAT',\n",
       " '/Users/jeffbalkanski/research_soccer/Aalborg_Jeff/984518',\n",
       " '/Users/jeffbalkanski/research_soccer/Aalborg_Jeff/984518/984518_TracDAT',\n",
       " '/Users/jeffbalkanski/research_soccer/Aalborg_Jeff/984544',\n",
       " '/Users/jeffbalkanski/research_soccer/Aalborg_Jeff/984544/984544_TracDAT',\n",
       " '/Users/jeffbalkanski/research_soccer/Aalborg_Jeff/984575',\n",
       " '/Users/jeffbalkanski/research_soccer/Aalborg_Jeff/984575/984575_TracDAT']"
      ]
     },
     "execution_count": 14,
     "metadata": {},
     "output_type": "execute_result"
    }
   ],
   "source": [
    "c"
   ]
  },
  {
   "cell_type": "code",
   "execution_count": null,
   "metadata": {},
   "outputs": [],
   "source": []
  }
 ],
 "metadata": {
  "kernelspec": {
   "display_name": "Python 3",
   "language": "python",
   "name": "python3"
  },
  "language_info": {
   "codemirror_mode": {
    "name": "ipython",
    "version": 3
   },
   "file_extension": ".py",
   "mimetype": "text/x-python",
   "name": "python",
   "nbconvert_exporter": "python",
   "pygments_lexer": "ipython3",
   "version": "3.7.4"
  }
 },
 "nbformat": 4,
 "nbformat_minor": 4
}
