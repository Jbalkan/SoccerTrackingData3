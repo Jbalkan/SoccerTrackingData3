{
 "cells": [
  {
   "cell_type": "code",
   "execution_count": 46,
   "metadata": {},
   "outputs": [
    {
     "data": {
      "text/plain": [
       "<module 'Tracking_Visuals' from '/Users/jeffbalkanski/research_soccer/SoccerTrackingData3/Tracking_Visuals.py'>"
      ]
     },
     "execution_count": 46,
     "metadata": {},
     "output_type": "execute_result"
    }
   ],
   "source": [
    "import os\n",
    "import datetime\n",
    "import copy\n",
    "import pickle\n",
    "import numpy as np\n",
    "import pandas as pd\n",
    "import matplotlib.pyplot as plt\n",
    "import seaborn as sns\n",
    "from collections import defaultdict\n",
    "\n",
    "import Tracab as tracab\n",
    "import Tracking_Visuals as vis\n",
    "import Tracking_Velocities as vel\n",
    "import Tracking_Fatigue as fatigue\n",
    "import helpers\n",
    "\n",
    "import importlib\n",
    "importlib.reload(tracab)\n",
    "importlib.reload(helpers)\n",
    "importlib.reload(vis)"
   ]
  },
  {
   "cell_type": "code",
   "execution_count": 3,
   "metadata": {},
   "outputs": [],
   "source": [
    "# # config\n",
    "# current_dir = os.path.dirname(os.getcwd())\n",
    "# dir_path = os.path.join(current_dir, 'Aalborg_Jeff') # path to directory of Tracab data\n",
    "# LEAGUE = 'DSL'\n",
    "\n",
    "# fname = '984455'\n",
    "# match_id = fname"
   ]
  },
  {
   "cell_type": "code",
   "execution_count": 5,
   "metadata": {
    "collapsed": true,
    "jupyter": {
     "outputs_hidden": true
    }
   },
   "outputs": [
    {
     "name": "stdout",
     "output_type": "stream",
     "text": [
      "/Users/jeffbalkanski/research_soccer/Aalborg_Jeff/984455/984455_TracDAT\n",
      "Reading match metadata\n",
      "Reading match tracking data\n",
      "Timestamping frames\n",
      "Measuring velocities\n",
      "home goalkeeper(s):  [28]\n",
      "away goalkeeper(s):  [1]\n",
      "0 70642\n",
      "70643 142733\n"
     ]
    }
   ],
   "source": [
    "# # read\n",
    "# fpath = os.path.join(dir_path, fname, fname + '_TracDAT')\n",
    "# frames_tb, match_tb, team1_players, team0_players = tracab.read_tracab_match_data(LEAGUE, fpath, fname, verbose=True)"
   ]
  },
  {
   "cell_type": "markdown",
   "metadata": {},
   "source": [
    "## Read all"
   ]
  },
  {
   "cell_type": "code",
   "execution_count": 47,
   "metadata": {},
   "outputs": [],
   "source": [
    "# read all data\n",
    "with open(os.path.join('./saved', 'all_time_series.pkl'), 'rb') as infile:\n",
    "    data_dict = pickle.load(infile)"
   ]
  },
  {
   "cell_type": "markdown",
   "metadata": {},
   "source": [
    "# Half time analysis"
   ]
  },
  {
   "cell_type": "code",
   "execution_count": 48,
   "metadata": {},
   "outputs": [],
   "source": [
    "# one game\n",
    "match_id = '984455'\n",
    "EX_mat = data_dict[match_id]['energy_x']\n",
    "\n",
    "# half time frame\n",
    "end_first = data_dict[match_id]['game_info']['last_frame_first_half']"
   ]
  },
  {
   "cell_type": "code",
   "execution_count": 49,
   "metadata": {},
   "outputs": [],
   "source": [
    "split = end_first\n",
    "k_frames = 20000\n",
    "halftime_info = []\n"
   ]
  },
  {
   "cell_type": "code",
   "execution_count": 50,
   "metadata": {},
   "outputs": [],
   "source": [
    "# for each player\n",
    "for _, player_id, series in EX_mat:\n",
    "    # make cumulative EX\n",
    "    series = np.cumsum(series)\n",
    "    \n",
    "    # split\n",
    "    first, second = series[:split], series[split:]\n",
    "    xs = np.array(range(k_frames))\n",
    "    \n",
    "    # first\n",
    "    slope_1, intercept_1 = np.polyfit(xs, first[-k_frames:], 1)\n",
    "    slope_2, intercept_2 = np.polyfit(xs, second[:k_frames], 1)\n",
    "    halftime_info.append([match_id, player_id, split, slope_1, slope_2])\n",
    "    \n",
    "halftime_df = pd.DataFrame(halftime_info, columns=['match_id', 'player_id', 'split', \n",
    "                                                'slope_before', 'slope_after'])"
   ]
  },
  {
   "cell_type": "code",
   "execution_count": 51,
   "metadata": {},
   "outputs": [
    {
     "data": {
      "text/plain": [
       "array([2.4000000e-01, 4.8000000e-01, 7.2000000e-01, ..., 6.9192140e+05,\n",
       "       6.9192724e+05, 6.9193041e+05])"
      ]
     },
     "execution_count": 51,
     "metadata": {},
     "output_type": "execute_result"
    }
   ],
   "source": [
    "first"
   ]
  },
  {
   "cell_type": "code",
   "execution_count": 52,
   "metadata": {},
   "outputs": [
    {
     "name": "stdout",
     "output_type": "stream",
     "text": [
      "2.1190446721902774\n",
      "0.10922723676007884\n",
      "-1.2319065040370472\n",
      "-1.7139953088840407\n",
      "-1.0901810475883185\n",
      "-1.1576651870268684\n",
      "4.1805060225586566\n",
      "-1.4683080653135274\n",
      "-0.33222441520161006\n",
      "1.1514763418496656\n",
      "2.897224627476845\n",
      "-1.5092933469370906\n",
      "2.113279834045745\n",
      "1.3418672419691973\n",
      "-0.6390099048140883\n",
      "-6.4791772890236\n",
      "0.54020389334047\n",
      "-3.4071270349238727\n",
      "2.4585143645997487\n",
      "-0.6043887435448632\n",
      "-2.0853592112214603\n",
      "3.974334393838321\n"
     ]
    }
   ],
   "source": [
    "for _, playerid, _,  slope_before, slope_after in halftime_df.values:\n",
    "    print(slope_after - slope_before)"
   ]
  },
  {
   "cell_type": "code",
   "execution_count": null,
   "metadata": {},
   "outputs": [],
   "source": []
  },
  {
   "cell_type": "code",
   "execution_count": 45,
   "metadata": {},
   "outputs": [],
   "source": [
    "for player, data in data_dict.items():\n",
    "    data['energy']"
   ]
  },
  {
   "cell_type": "code",
   "execution_count": null,
   "metadata": {},
   "outputs": [],
   "source": []
  }
 ],
 "metadata": {
  "kernelspec": {
   "display_name": "Python 3",
   "language": "python",
   "name": "python3"
  },
  "language_info": {
   "codemirror_mode": {
    "name": "ipython",
    "version": 3
   },
   "file_extension": ".py",
   "mimetype": "text/x-python",
   "name": "python",
   "nbconvert_exporter": "python",
   "pygments_lexer": "ipython3",
   "version": "3.7.4"
  }
 },
 "nbformat": 4,
 "nbformat_minor": 4
}
