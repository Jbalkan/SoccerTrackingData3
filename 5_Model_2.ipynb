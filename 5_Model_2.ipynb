{
 "cells": [
  {
   "cell_type": "code",
   "execution_count": 99,
   "metadata": {},
   "outputs": [],
   "source": [
    "import os\n",
    "import datetime\n",
    "import pickle\n",
    "import numpy as np\n",
    "import pandas as pd\n",
    "import matplotlib.pyplot as plt\n",
    "import seaborn as sns\n",
    "\n",
    "import Tracab as tracab\n",
    "import Tracking_Visuals as vis\n",
    "import Tracking_Velocities as vel\n",
    "import Tracking_Fatigue as fatigue\n",
    "import helpers\n",
    "import importlib\n",
    "# importlib.reload(tracab)\n",
    "# importlib.reload(helpers)\n",
    "# importlib.reload(vis)\n",
    "\n",
    "from scipy.optimize import curve_fit\n",
    "from collections import defaultdict"
   ]
  },
  {
   "cell_type": "markdown",
   "metadata": {},
   "source": [
    "# Fatigue model for large dataset"
   ]
  },
  {
   "cell_type": "markdown",
   "metadata": {},
   "source": [
    "## example read for one player"
   ]
  },
  {
   "cell_type": "code",
   "execution_count": 94,
   "metadata": {},
   "outputs": [],
   "source": [
    "# EX data\n",
    "with open('../data_processed/EX_time_series_game_984472.pkl', 'rb') as infile:\n",
    "    data_dict = pickle.load(infile)"
   ]
  },
  {
   "cell_type": "code",
   "execution_count": 95,
   "metadata": {},
   "outputs": [
    {
     "data": {
      "text/plain": [
       "dict_keys(['data_path', 'player_info', 'energy_x', 'ball_in_play'])"
      ]
     },
     "execution_count": 95,
     "metadata": {},
     "output_type": "execute_result"
    }
   ],
   "source": [
    "data_dict.keys()"
   ]
  },
  {
   "cell_type": "code",
   "execution_count": 41,
   "metadata": {},
   "outputs": [],
   "source": [
    "# players data\n",
    "PLAYER_ID_to_JERSEY_NUM_LOC = '../playerid_jerseynum_map.csv'\n",
    "players_df = pd.read_csv(PLAYER_ID_to_JERSEY_NUM_LOC)"
   ]
  },
  {
   "cell_type": "code",
   "execution_count": 40,
   "metadata": {},
   "outputs": [
    {
     "data": {
      "text/html": [
       "<div>\n",
       "<style scoped>\n",
       "    .dataframe tbody tr th:only-of-type {\n",
       "        vertical-align: middle;\n",
       "    }\n",
       "\n",
       "    .dataframe tbody tr th {\n",
       "        vertical-align: top;\n",
       "    }\n",
       "\n",
       "    .dataframe thead th {\n",
       "        text-align: right;\n",
       "    }\n",
       "</style>\n",
       "<table border=\"1\" class=\"dataframe\">\n",
       "  <thead>\n",
       "    <tr style=\"text-align: right;\">\n",
       "      <th></th>\n",
       "      <th>Match ID</th>\n",
       "      <th>Team</th>\n",
       "      <th>Playerid</th>\n",
       "      <th>Player name</th>\n",
       "      <th>Jersey Num</th>\n",
       "      <th>Starting Position</th>\n",
       "      <th>Starts Match</th>\n",
       "      <th>start_pos_super</th>\n",
       "      <th>first_name</th>\n",
       "      <th>last_name</th>\n",
       "    </tr>\n",
       "  </thead>\n",
       "  <tbody>\n",
       "    <tr>\n",
       "      <th>0</th>\n",
       "      <td>984455</td>\n",
       "      <td>Home</td>\n",
       "      <td>50310</td>\n",
       "      <td>Sebastian Mielitz</td>\n",
       "      <td>28</td>\n",
       "      <td>GK</td>\n",
       "      <td>Start</td>\n",
       "      <td>GK</td>\n",
       "      <td>Sebastian</td>\n",
       "      <td>Mielitz</td>\n",
       "    </tr>\n",
       "    <tr>\n",
       "      <th>1</th>\n",
       "      <td>984455</td>\n",
       "      <td>Home</td>\n",
       "      <td>247047</td>\n",
       "      <td>Nicholas Marfelt</td>\n",
       "      <td>18</td>\n",
       "      <td>LFB</td>\n",
       "      <td>Start</td>\n",
       "      <td>FB</td>\n",
       "      <td>Nicholas</td>\n",
       "      <td>Marfelt</td>\n",
       "    </tr>\n",
       "    <tr>\n",
       "      <th>2</th>\n",
       "      <td>984455</td>\n",
       "      <td>Home</td>\n",
       "      <td>207273</td>\n",
       "      <td>Stefan Gartenmann</td>\n",
       "      <td>2</td>\n",
       "      <td>RFB</td>\n",
       "      <td>Start</td>\n",
       "      <td>FB</td>\n",
       "      <td>Stefan</td>\n",
       "      <td>Gartenmann</td>\n",
       "    </tr>\n",
       "    <tr>\n",
       "      <th>3</th>\n",
       "      <td>984455</td>\n",
       "      <td>Home</td>\n",
       "      <td>56317</td>\n",
       "      <td>Kees Luijckx</td>\n",
       "      <td>5</td>\n",
       "      <td>CD</td>\n",
       "      <td>Start</td>\n",
       "      <td>CB</td>\n",
       "      <td>Kees</td>\n",
       "      <td>Luijckx</td>\n",
       "    </tr>\n",
       "    <tr>\n",
       "      <th>4</th>\n",
       "      <td>984455</td>\n",
       "      <td>Home</td>\n",
       "      <td>52560</td>\n",
       "      <td>Marc Pedersen</td>\n",
       "      <td>3</td>\n",
       "      <td>CD</td>\n",
       "      <td>Start</td>\n",
       "      <td>CB</td>\n",
       "      <td>Marc</td>\n",
       "      <td>Pedersen</td>\n",
       "    </tr>\n",
       "  </tbody>\n",
       "</table>\n",
       "</div>"
      ],
      "text/plain": [
       "   Match ID  Team  Playerid        Player name  Jersey Num Starting Position  \\\n",
       "0    984455  Home     50310  Sebastian Mielitz          28                GK   \n",
       "1    984455  Home    247047   Nicholas Marfelt          18               LFB   \n",
       "2    984455  Home    207273  Stefan Gartenmann           2               RFB   \n",
       "3    984455  Home     56317       Kees Luijckx           5                CD   \n",
       "4    984455  Home     52560      Marc Pedersen           3                CD   \n",
       "\n",
       "  Starts Match start_pos_super first_name   last_name  \n",
       "0        Start              GK  Sebastian     Mielitz  \n",
       "1        Start              FB   Nicholas     Marfelt  \n",
       "2        Start              FB     Stefan  Gartenmann  \n",
       "3        Start              CB       Kees     Luijckx  \n",
       "4        Start              CB       Marc    Pedersen  "
      ]
     },
     "execution_count": 40,
     "metadata": {},
     "output_type": "execute_result"
    }
   ],
   "source": [
    "players_df.head()"
   ]
  },
  {
   "cell_type": "markdown",
   "metadata": {},
   "source": [
    "# Get all games data path"
   ]
  },
  {
   "cell_type": "code",
   "execution_count": 91,
   "metadata": {},
   "outputs": [],
   "source": [
    "# get paths\n",
    "data_path = os.path.join(os.path.dirname(os.getcwd()), 'data_processed')\n",
    "all_data_processed = [os.path.join(data_path, f) for f in os.listdir(data_path)]\n",
    "game_dicts = {f.split('/')[-1].split('.')[0].split('_')[-1]: f for f in all_data_processed \n",
    "              if f.find('.pkl') != -1}"
   ]
  },
  {
   "cell_type": "markdown",
   "metadata": {},
   "source": [
    "# Fatigue Model"
   ]
  },
  {
   "cell_type": "markdown",
   "metadata": {},
   "source": [
    "## Fit 2nd degree polynomial on energy expenditure"
   ]
  },
  {
   "cell_type": "code",
   "execution_count": 85,
   "metadata": {},
   "outputs": [],
   "source": [
    "def poly_2nd(x, b, c):\n",
    "    return 0 + (b * x) + (c * x ** 2)\n",
    "\n",
    "def plays_full_game(EX_series, thresh=0.95):\n",
    "    is_full = np.count_nonzero(EX_series)/len(EX_series) > thresh \n",
    "    return is_full"
   ]
  },
  {
   "cell_type": "code",
   "execution_count": null,
   "metadata": {},
   "outputs": [
    {
     "name": "stdout",
     "output_type": "stream",
     "text": [
      "Done with match 984600\n",
      "Done with match 984601\n",
      "Done with match 984577\n",
      "Done with match 984603\n",
      "Done with match 984617\n",
      "Done with match 984602\n",
      "Done with match 984613\n",
      "Done with match 984565\n",
      "Done with match 984571\n",
      "Done with match 984567\n",
      "Done with match 984605\n",
      "Done with match 984610\n"
     ]
    }
   ],
   "source": [
    "coefs = []\n",
    "\n",
    "# for each game\n",
    "for match_id, path in game_dicts.items():    \n",
    "    with open(path, 'rb') as infile:\n",
    "        data_dict = pickle.load(infile)\n",
    "    \n",
    "    # fit model for each game\n",
    "    for _, player_id, series in data_dict['energy_x']:\n",
    "        EX_cumul = np.cumsum(series)\n",
    "        frame_lst = np.array(range(len(EX_cumul)))\n",
    "        \n",
    "        # check if is subbed out\n",
    "        if not plays_full_game(series):\n",
    "            continue\n",
    "        \n",
    "        # fit second degree polynomial that passes through origin\n",
    "        popt, pcov = curve_fit(poly_2nd, frame_lst, EX_cumul)\n",
    "        \n",
    "        # store info\n",
    "        coefs.append([match_id, player_id, *popt, *np.sqrt(np.diag(pcov))])\n",
    "        \n",
    "    print('Done with match {}'.format(match_id))\n",
    "    \n",
    "# dataframe of coefficients\n",
    "df_coefs = pd.DataFrame(coefs, \n",
    "                        columns=['match_id', 'player_id', 'b1', 'b2', 'sigma_b1', 'sigma_b2'])\n",
    "df_coefs.to_csv('../data_model/model_coefs.csv', index=0)"
   ]
  },
  {
   "cell_type": "code",
   "execution_count": null,
   "metadata": {},
   "outputs": [],
   "source": [
    "pd.read_csv(('../data_model/model_coefs.csv'))"
   ]
  },
  {
   "cell_type": "code",
   "execution_count": 103,
   "metadata": {},
   "outputs": [
    {
     "data": {
      "text/html": [
       "<div>\n",
       "<style scoped>\n",
       "    .dataframe tbody tr th:only-of-type {\n",
       "        vertical-align: middle;\n",
       "    }\n",
       "\n",
       "    .dataframe tbody tr th {\n",
       "        vertical-align: top;\n",
       "    }\n",
       "\n",
       "    .dataframe thead th {\n",
       "        text-align: right;\n",
       "    }\n",
       "</style>\n",
       "<table border=\"1\" class=\"dataframe\">\n",
       "  <thead>\n",
       "    <tr style=\"text-align: right;\">\n",
       "      <th></th>\n",
       "      <th>match_id</th>\n",
       "      <th>player_id</th>\n",
       "      <th>b1</th>\n",
       "      <th>b2</th>\n",
       "      <th>sigma_b1</th>\n",
       "      <th>sigma_b2</th>\n",
       "    </tr>\n",
       "  </thead>\n",
       "  <tbody>\n",
       "    <tr>\n",
       "      <th>0</th>\n",
       "      <td>984600</td>\n",
       "      <td>68250</td>\n",
       "      <td>2.807164</td>\n",
       "      <td>6.748634e-07</td>\n",
       "      <td>0.001069</td>\n",
       "      <td>9.575698e-09</td>\n",
       "    </tr>\n",
       "    <tr>\n",
       "      <th>1</th>\n",
       "      <td>984600</td>\n",
       "      <td>208904</td>\n",
       "      <td>8.995215</td>\n",
       "      <td>-5.770922e-06</td>\n",
       "      <td>0.000853</td>\n",
       "      <td>7.641641e-09</td>\n",
       "    </tr>\n",
       "    <tr>\n",
       "      <th>2</th>\n",
       "      <td>984600</td>\n",
       "      <td>51656</td>\n",
       "      <td>10.243082</td>\n",
       "      <td>-1.114597e-05</td>\n",
       "      <td>0.001466</td>\n",
       "      <td>1.313169e-08</td>\n",
       "    </tr>\n",
       "    <tr>\n",
       "      <th>3</th>\n",
       "      <td>984600</td>\n",
       "      <td>126317</td>\n",
       "      <td>9.749276</td>\n",
       "      <td>-1.292588e-07</td>\n",
       "      <td>0.001870</td>\n",
       "      <td>1.674551e-08</td>\n",
       "    </tr>\n",
       "    <tr>\n",
       "      <th>4</th>\n",
       "      <td>984600</td>\n",
       "      <td>85007</td>\n",
       "      <td>8.067055</td>\n",
       "      <td>-5.418892e-06</td>\n",
       "      <td>0.001702</td>\n",
       "      <td>1.524209e-08</td>\n",
       "    </tr>\n",
       "    <tr>\n",
       "      <th>5</th>\n",
       "      <td>984600</td>\n",
       "      <td>435556</td>\n",
       "      <td>8.343799</td>\n",
       "      <td>-2.509435e-06</td>\n",
       "      <td>0.001457</td>\n",
       "      <td>1.304969e-08</td>\n",
       "    </tr>\n",
       "    <tr>\n",
       "      <th>6</th>\n",
       "      <td>984600</td>\n",
       "      <td>157704</td>\n",
       "      <td>8.768890</td>\n",
       "      <td>1.687213e-06</td>\n",
       "      <td>0.001297</td>\n",
       "      <td>1.161813e-08</td>\n",
       "    </tr>\n",
       "    <tr>\n",
       "      <th>7</th>\n",
       "      <td>984600</td>\n",
       "      <td>423805</td>\n",
       "      <td>9.119596</td>\n",
       "      <td>2.620463e-08</td>\n",
       "      <td>0.002727</td>\n",
       "      <td>2.442427e-08</td>\n",
       "    </tr>\n",
       "    <tr>\n",
       "      <th>8</th>\n",
       "      <td>984600</td>\n",
       "      <td>39738</td>\n",
       "      <td>8.666626</td>\n",
       "      <td>-3.679460e-07</td>\n",
       "      <td>0.001152</td>\n",
       "      <td>1.032071e-08</td>\n",
       "    </tr>\n",
       "    <tr>\n",
       "      <th>9</th>\n",
       "      <td>984600</td>\n",
       "      <td>162038</td>\n",
       "      <td>9.396890</td>\n",
       "      <td>6.886191e-06</td>\n",
       "      <td>0.001817</td>\n",
       "      <td>1.627038e-08</td>\n",
       "    </tr>\n",
       "    <tr>\n",
       "      <th>10</th>\n",
       "      <td>984600</td>\n",
       "      <td>113774</td>\n",
       "      <td>9.247364</td>\n",
       "      <td>5.274016e-06</td>\n",
       "      <td>0.001253</td>\n",
       "      <td>1.121963e-08</td>\n",
       "    </tr>\n",
       "    <tr>\n",
       "      <th>11</th>\n",
       "      <td>984600</td>\n",
       "      <td>451410</td>\n",
       "      <td>8.362269</td>\n",
       "      <td>1.457348e-06</td>\n",
       "      <td>0.000993</td>\n",
       "      <td>8.895537e-09</td>\n",
       "    </tr>\n",
       "    <tr>\n",
       "      <th>12</th>\n",
       "      <td>984600</td>\n",
       "      <td>123585</td>\n",
       "      <td>6.690871</td>\n",
       "      <td>1.484355e-06</td>\n",
       "      <td>0.000958</td>\n",
       "      <td>8.578536e-09</td>\n",
       "    </tr>\n",
       "    <tr>\n",
       "      <th>13</th>\n",
       "      <td>984600</td>\n",
       "      <td>164545</td>\n",
       "      <td>10.206048</td>\n",
       "      <td>-3.725110e-06</td>\n",
       "      <td>0.001783</td>\n",
       "      <td>1.596873e-08</td>\n",
       "    </tr>\n",
       "    <tr>\n",
       "      <th>14</th>\n",
       "      <td>984600</td>\n",
       "      <td>39643</td>\n",
       "      <td>3.728656</td>\n",
       "      <td>-1.238255e-06</td>\n",
       "      <td>0.000494</td>\n",
       "      <td>4.421350e-09</td>\n",
       "    </tr>\n",
       "    <tr>\n",
       "      <th>15</th>\n",
       "      <td>984600</td>\n",
       "      <td>102005</td>\n",
       "      <td>8.399390</td>\n",
       "      <td>-4.889316e-06</td>\n",
       "      <td>0.001419</td>\n",
       "      <td>1.271178e-08</td>\n",
       "    </tr>\n",
       "  </tbody>\n",
       "</table>\n",
       "</div>"
      ],
      "text/plain": [
       "   match_id  player_id         b1            b2  sigma_b1      sigma_b2\n",
       "0    984600      68250   2.807164  6.748634e-07  0.001069  9.575698e-09\n",
       "1    984600     208904   8.995215 -5.770922e-06  0.000853  7.641641e-09\n",
       "2    984600      51656  10.243082 -1.114597e-05  0.001466  1.313169e-08\n",
       "3    984600     126317   9.749276 -1.292588e-07  0.001870  1.674551e-08\n",
       "4    984600      85007   8.067055 -5.418892e-06  0.001702  1.524209e-08\n",
       "5    984600     435556   8.343799 -2.509435e-06  0.001457  1.304969e-08\n",
       "6    984600     157704   8.768890  1.687213e-06  0.001297  1.161813e-08\n",
       "7    984600     423805   9.119596  2.620463e-08  0.002727  2.442427e-08\n",
       "8    984600      39738   8.666626 -3.679460e-07  0.001152  1.032071e-08\n",
       "9    984600     162038   9.396890  6.886191e-06  0.001817  1.627038e-08\n",
       "10   984600     113774   9.247364  5.274016e-06  0.001253  1.121963e-08\n",
       "11   984600     451410   8.362269  1.457348e-06  0.000993  8.895537e-09\n",
       "12   984600     123585   6.690871  1.484355e-06  0.000958  8.578536e-09\n",
       "13   984600     164545  10.206048 -3.725110e-06  0.001783  1.596873e-08\n",
       "14   984600      39643   3.728656 -1.238255e-06  0.000494  4.421350e-09\n",
       "15   984600     102005   8.399390 -4.889316e-06  0.001419  1.271178e-08"
      ]
     },
     "execution_count": 103,
     "metadata": {},
     "output_type": "execute_result"
    }
   ],
   "source": []
  },
  {
   "cell_type": "code",
   "execution_count": 102,
   "metadata": {},
   "outputs": [
    {
     "data": {
      "text/html": [
       "<div>\n",
       "<style scoped>\n",
       "    .dataframe tbody tr th:only-of-type {\n",
       "        vertical-align: middle;\n",
       "    }\n",
       "\n",
       "    .dataframe tbody tr th {\n",
       "        vertical-align: top;\n",
       "    }\n",
       "\n",
       "    .dataframe thead th {\n",
       "        text-align: right;\n",
       "    }\n",
       "</style>\n",
       "<table border=\"1\" class=\"dataframe\">\n",
       "  <thead>\n",
       "    <tr style=\"text-align: right;\">\n",
       "      <th></th>\n",
       "      <th>match_id</th>\n",
       "      <th>player_id</th>\n",
       "      <th>b1</th>\n",
       "      <th>b2</th>\n",
       "      <th>sigma_b1</th>\n",
       "      <th>sigma_b2</th>\n",
       "    </tr>\n",
       "  </thead>\n",
       "  <tbody>\n",
       "    <tr>\n",
       "      <th>8</th>\n",
       "      <td>984600</td>\n",
       "      <td>39738</td>\n",
       "      <td>8.666626</td>\n",
       "      <td>-3.679460e-07</td>\n",
       "      <td>0.001152</td>\n",
       "      <td>1.032071e-08</td>\n",
       "    </tr>\n",
       "    <tr>\n",
       "      <th>3</th>\n",
       "      <td>984600</td>\n",
       "      <td>126317</td>\n",
       "      <td>9.749276</td>\n",
       "      <td>-1.292588e-07</td>\n",
       "      <td>0.001870</td>\n",
       "      <td>1.674551e-08</td>\n",
       "    </tr>\n",
       "    <tr>\n",
       "      <th>10</th>\n",
       "      <td>984600</td>\n",
       "      <td>113774</td>\n",
       "      <td>9.247364</td>\n",
       "      <td>5.274016e-06</td>\n",
       "      <td>0.001253</td>\n",
       "      <td>1.121963e-08</td>\n",
       "    </tr>\n",
       "    <tr>\n",
       "      <th>15</th>\n",
       "      <td>984600</td>\n",
       "      <td>102005</td>\n",
       "      <td>8.399390</td>\n",
       "      <td>-4.889316e-06</td>\n",
       "      <td>0.001419</td>\n",
       "      <td>1.271178e-08</td>\n",
       "    </tr>\n",
       "    <tr>\n",
       "      <th>6</th>\n",
       "      <td>984600</td>\n",
       "      <td>157704</td>\n",
       "      <td>8.768890</td>\n",
       "      <td>1.687213e-06</td>\n",
       "      <td>0.001297</td>\n",
       "      <td>1.161813e-08</td>\n",
       "    </tr>\n",
       "  </tbody>\n",
       "</table>\n",
       "</div>"
      ],
      "text/plain": [
       "   match_id  player_id        b1            b2  sigma_b1      sigma_b2\n",
       "8    984600      39738  8.666626 -3.679460e-07  0.001152  1.032071e-08\n",
       "3    984600     126317  9.749276 -1.292588e-07  0.001870  1.674551e-08\n",
       "10   984600     113774  9.247364  5.274016e-06  0.001253  1.121963e-08\n",
       "15   984600     102005  8.399390 -4.889316e-06  0.001419  1.271178e-08\n",
       "6    984600     157704  8.768890  1.687213e-06  0.001297  1.161813e-08"
      ]
     },
     "execution_count": 102,
     "metadata": {},
     "output_type": "execute_result"
    }
   ],
   "source": [
    "df_coefs.sample(5)"
   ]
  },
  {
   "cell_type": "markdown",
   "metadata": {},
   "source": [
    "## Merge player data"
   ]
  },
  {
   "cell_type": "code",
   "execution_count": 17,
   "metadata": {},
   "outputs": [],
   "source": [
    "# add in info \n",
    "df_coefs_w_info = pd.merge(df_coefs.astype({'match_id':int}),\n",
    "                            players_df[['Match ID', 'Playerid', 'start_pos_super', 'Team']],\n",
    "                            left_on=['match_id', 'player_id'],\n",
    "                            right_on=['Match ID', 'Playerid'],\n",
    "                            how='left').drop(['Match ID', 'Playerid'], axis=1)"
   ]
  },
  {
   "cell_type": "markdown",
   "metadata": {},
   "source": [
    "# Distribution of coefficients"
   ]
  },
  {
   "cell_type": "code",
   "execution_count": 94,
   "metadata": {},
   "outputs": [],
   "source": [
    "# get players who play the most, filter out player with few games\n",
    "n_games = df_coefs['player_id'].value_counts()\n",
    "most_play_players = n_games[n_games > 3]"
   ]
  },
  {
   "cell_type": "code",
   "execution_count": 95,
   "metadata": {},
   "outputs": [],
   "source": [
    "# distribution per player\n",
    "coefs_per_player = df_coefs_w_info.set_index('player_id')\\\n",
    "                                  .loc[most_play_players.index]\\\n",
    "                                  .reset_index()"
   ]
  },
  {
   "cell_type": "code",
   "execution_count": null,
   "metadata": {},
   "outputs": [],
   "source": []
  },
  {
   "cell_type": "markdown",
   "metadata": {},
   "source": [
    "### B1"
   ]
  },
  {
   "cell_type": "markdown",
   "metadata": {},
   "source": [
    "# Integrate player features to model\n",
    "### Get player features"
   ]
  },
  {
   "cell_type": "code",
   "execution_count": 33,
   "metadata": {},
   "outputs": [
    {
     "data": {
      "text/html": [
       "<div>\n",
       "<style scoped>\n",
       "    .dataframe tbody tr th:only-of-type {\n",
       "        vertical-align: middle;\n",
       "    }\n",
       "\n",
       "    .dataframe tbody tr th {\n",
       "        vertical-align: top;\n",
       "    }\n",
       "\n",
       "    .dataframe thead th {\n",
       "        text-align: right;\n",
       "    }\n",
       "</style>\n",
       "<table border=\"1\" class=\"dataframe\">\n",
       "  <thead>\n",
       "    <tr style=\"text-align: right;\">\n",
       "      <th></th>\n",
       "      <th>first_name</th>\n",
       "      <th>last_name</th>\n",
       "    </tr>\n",
       "  </thead>\n",
       "  <tbody>\n",
       "    <tr>\n",
       "      <td>0</td>\n",
       "      <td>R.</td>\n",
       "      <td>Skov</td>\n",
       "    </tr>\n",
       "    <tr>\n",
       "      <td>1</td>\n",
       "      <td>A.</td>\n",
       "      <td>Skov Olsen</td>\n",
       "    </tr>\n",
       "    <tr>\n",
       "      <td>2</td>\n",
       "      <td>V.</td>\n",
       "      <td>Fischer</td>\n",
       "    </tr>\n",
       "    <tr>\n",
       "      <td>3</td>\n",
       "      <td>P.</td>\n",
       "      <td>Onuachu</td>\n",
       "    </tr>\n",
       "    <tr>\n",
       "      <td>4</td>\n",
       "      <td>D.</td>\n",
       "      <td>Vavro</td>\n",
       "    </tr>\n",
       "    <tr>\n",
       "      <td>5</td>\n",
       "      <td>M.</td>\n",
       "      <td>Duelund</td>\n",
       "    </tr>\n",
       "    <tr>\n",
       "      <td>6</td>\n",
       "      <td>B.</td>\n",
       "      <td>Sanneh</td>\n",
       "    </tr>\n",
       "    <tr>\n",
       "      <td>7</td>\n",
       "      <td>Evander</td>\n",
       "      <td>None</td>\n",
       "    </tr>\n",
       "    <tr>\n",
       "      <td>8</td>\n",
       "      <td>H.</td>\n",
       "      <td>Mukhtar</td>\n",
       "    </tr>\n",
       "    <tr>\n",
       "      <td>9</td>\n",
       "      <td>P.</td>\n",
       "      <td>Ankersen</td>\n",
       "    </tr>\n",
       "  </tbody>\n",
       "</table>\n",
       "</div>"
      ],
      "text/plain": [
       "  first_name   last_name\n",
       "0         R.        Skov\n",
       "1         A.  Skov Olsen\n",
       "2         V.     Fischer\n",
       "3         P.     Onuachu\n",
       "4         D.       Vavro\n",
       "5         M.     Duelund\n",
       "6         B.      Sanneh\n",
       "7    Evander        None\n",
       "8         H.     Mukhtar\n",
       "9         P.    Ankersen"
      ]
     },
     "execution_count": 33,
     "metadata": {},
     "output_type": "execute_result"
    }
   ],
   "source": [
    "first_last.head(10)"
   ]
  },
  {
   "cell_type": "code",
   "execution_count": 4,
   "metadata": {},
   "outputs": [
    {
     "ename": "NameError",
     "evalue": "name 'players_df' is not defined",
     "output_type": "error",
     "traceback": [
      "\u001b[0;31m---------------------------------------------------------------------------\u001b[0m",
      "\u001b[0;31mNameError\u001b[0m                                 Traceback (most recent call last)",
      "\u001b[0;32m<ipython-input-4-c3272b7d8d84>\u001b[0m in \u001b[0;36m<module>\u001b[0;34m\u001b[0m\n\u001b[1;32m      3\u001b[0m \u001b[0;34m\u001b[0m\u001b[0m\n\u001b[1;32m      4\u001b[0m \u001b[0;31m# get player id to name mapping\u001b[0m\u001b[0;34m\u001b[0m\u001b[0;34m\u001b[0m\u001b[0;34m\u001b[0m\u001b[0m\n\u001b[0;32m----> 5\u001b[0;31m \u001b[0mname_and_id\u001b[0m \u001b[0;34m=\u001b[0m \u001b[0mplayers_df\u001b[0m\u001b[0;34m[\u001b[0m\u001b[0;34m[\u001b[0m\u001b[0;34m'Playerid'\u001b[0m\u001b[0;34m,\u001b[0m \u001b[0;34m'Player name'\u001b[0m\u001b[0;34m,\u001b[0m \u001b[0;34m'first_name'\u001b[0m\u001b[0;34m,\u001b[0m \u001b[0;34m'last_name'\u001b[0m\u001b[0;34m]\u001b[0m\u001b[0;34m]\u001b[0m\u001b[0;34m.\u001b[0m\u001b[0mdrop_duplicates\u001b[0m\u001b[0;34m(\u001b[0m\u001b[0;34m)\u001b[0m\u001b[0;34m\u001b[0m\u001b[0;34m\u001b[0m\u001b[0m\n\u001b[0m\u001b[1;32m      6\u001b[0m \u001b[0;34m\u001b[0m\u001b[0m\n\u001b[1;32m      7\u001b[0m \u001b[0;31m# split first and last name\u001b[0m\u001b[0;34m\u001b[0m\u001b[0;34m\u001b[0m\u001b[0;34m\u001b[0m\u001b[0m\n",
      "\u001b[0;31mNameError\u001b[0m: name 'players_df' is not defined"
     ]
    }
   ],
   "source": [
    "# read  player data\n",
    "danish_player_data = pd.read_csv('../DanishSuperLiga_1819_PlayerData.csv')\n",
    "\n",
    "# get player id to name mapping\n",
    "name_and_id = players_df[['Playerid', 'Player name', 'first_name', 'last_name']].drop_duplicates()\n",
    "\n",
    "# split first and last name\n",
    "first_last = danish_player_data['Player'].str.split(expand=True, n=1)\n",
    "first_last.columns = ['first_name', 'last_name']\n",
    "danish_player_data[['first_name', 'last_name']] = first_last"
   ]
  },
  {
   "cell_type": "code",
   "execution_count": 98,
   "metadata": {},
   "outputs": [],
   "source": [
    "# adjust to give last name = first name if not first name\n",
    "last_name_nulls_idx = danish_player_data[danish_player_data['last_name'].isnull()].index\n",
    "last_nulls = danish_player_data.loc[last_name_nulls_idx]\n",
    "danish_player_data.loc[last_name_nulls_idx, 'last_name'] = danish_player_data.loc[\n",
    "    last_name_nulls_idx, 'first_name'\n",
    "]"
   ]
  },
  {
   "cell_type": "code",
   "execution_count": 99,
   "metadata": {},
   "outputs": [
    {
     "data": {
      "text/html": [
       "<div>\n",
       "<style scoped>\n",
       "    .dataframe tbody tr th:only-of-type {\n",
       "        vertical-align: middle;\n",
       "    }\n",
       "\n",
       "    .dataframe tbody tr th {\n",
       "        vertical-align: top;\n",
       "    }\n",
       "\n",
       "    .dataframe thead th {\n",
       "        text-align: right;\n",
       "    }\n",
       "</style>\n",
       "<table border=\"1\" class=\"dataframe\">\n",
       "  <thead>\n",
       "    <tr style=\"text-align: right;\">\n",
       "      <th></th>\n",
       "      <th>Player</th>\n",
       "      <th>Team</th>\n",
       "      <th>Position</th>\n",
       "      <th>Age</th>\n",
       "      <th>Market value</th>\n",
       "      <th>Contract expires</th>\n",
       "      <th>Matches played</th>\n",
       "      <th>Minutes played</th>\n",
       "      <th>Goals</th>\n",
       "      <th>xG</th>\n",
       "      <th>...</th>\n",
       "      <th>xA</th>\n",
       "      <th>Birth country</th>\n",
       "      <th>Passport country</th>\n",
       "      <th>Foot</th>\n",
       "      <th>Height</th>\n",
       "      <th>Weight</th>\n",
       "      <th>On loan</th>\n",
       "      <th>first_name</th>\n",
       "      <th>last_name</th>\n",
       "      <th>player_id</th>\n",
       "    </tr>\n",
       "  </thead>\n",
       "  <tbody>\n",
       "  </tbody>\n",
       "</table>\n",
       "<p>0 rows × 21 columns</p>\n",
       "</div>"
      ],
      "text/plain": [
       "Empty DataFrame\n",
       "Columns: [Player, Team, Position, Age, Market value, Contract expires, Matches played, Minutes played, Goals, xG, Assists, xA, Birth country, Passport country, Foot, Height, Weight, On loan, first_name, last_name, player_id]\n",
       "Index: []\n",
       "\n",
       "[0 rows x 21 columns]"
      ]
     },
     "execution_count": 99,
     "metadata": {},
     "output_type": "execute_result"
    }
   ],
   "source": [
    "danish_player_data.loc[ danish_player_data[danish_player_data['last_name'].isnull()].index]"
   ]
  },
  {
   "cell_type": "code",
   "execution_count": 100,
   "metadata": {
    "collapsed": true,
    "jupyter": {
     "outputs_hidden": true
    }
   },
   "outputs": [
    {
     "name": "stdout",
     "output_type": "stream",
     "text": [
      "0\n",
      "3\n",
      "2\n",
      "2\n",
      "3\n",
      "3\n",
      "2\n",
      "2\n",
      "2\n",
      "2\n",
      "2\n",
      "3\n",
      "2\n",
      "2\n",
      "0\n",
      "0\n",
      "3\n",
      "3\n",
      "0\n",
      "0\n",
      "0\n",
      "0\n",
      "2\n",
      "0\n",
      "0\n",
      "0\n",
      "2\n",
      "0\n",
      "3\n",
      "0\n",
      "0\n",
      "2\n",
      "0\n",
      "3\n",
      "0\n",
      "0\n",
      "0\n",
      "0\n",
      "0\n"
     ]
    }
   ],
   "source": [
    "# get player id in the player data\n",
    "for i, first, last, name in danish_player_data[['first_name', 'last_name', 'Player']].reset_index().values:\n",
    "    # last name\n",
    "    if last:\n",
    "        last_matches = name_and_id['Player name'].str.contains(last)\n",
    "    \n",
    "    # first name\n",
    "    if last_matches.any():\n",
    "        first_matches = name_and_id[last_matches]['first_name'].str.slice(stop=1).str.contains(first[0])\n",
    "        if len(first_matches[first_matches].index) == 1:\n",
    "            p_id = name_and_id.loc[first_matches[first_matches].index]['Playerid']\n",
    "            \n",
    "            # set\n",
    "            danish_player_data.loc[i, 'player_id'] = p_id.values[0]\n",
    "        else:\n",
    "            print(len(first_matches[first_matches].index))\n",
    "            "
   ]
  },
  {
   "cell_type": "code",
   "execution_count": 64,
   "metadata": {},
   "outputs": [],
   "source": [
    "# write clean data\n",
    "danish_player_data.to_csv('../DanishSuperLiga_1819_PlayerData_processed.csv', index=0)"
   ]
  },
  {
   "cell_type": "markdown",
   "metadata": {},
   "source": [
    "### Read clean player data set"
   ]
  },
  {
   "cell_type": "code",
   "execution_count": 65,
   "metadata": {},
   "outputs": [],
   "source": [
    "danish_player_data = pd.read_csv('../DanishSuperLiga_1819_PlayerData_processed.csv')"
   ]
  },
  {
   "cell_type": "code",
   "execution_count": null,
   "metadata": {},
   "outputs": [],
   "source": []
  },
  {
   "cell_type": "markdown",
   "metadata": {},
   "source": [
    "## Build dataset with player info and EX"
   ]
  },
  {
   "cell_type": "code",
   "execution_count": 101,
   "metadata": {},
   "outputs": [],
   "source": [
    "# mean EX per player\n",
    "EX_mean_and_info = pd.merge(\n",
    "    df_coefs_w_info.groupby('player_id')[['b1', 'b2']].mean().reset_index(),\n",
    "    danish_player_data,\n",
    "    on='player_id'\n",
    ")"
   ]
  },
  {
   "cell_type": "code",
   "execution_count": 131,
   "metadata": {},
   "outputs": [
    {
     "data": {
      "text/plain": [
       "b1    121\n",
       "b2    121\n",
       "dtype: int64"
      ]
     },
     "execution_count": 131,
     "metadata": {},
     "output_type": "execute_result"
    }
   ],
   "source": [
    "EX_mean_and_info[['b1', 'b2']].isnull().count()"
   ]
  },
  {
   "cell_type": "code",
   "execution_count": 144,
   "metadata": {},
   "outputs": [
    {
     "name": "stderr",
     "output_type": "stream",
     "text": [
      "/Users/jeffbalkanski/anaconda3/lib/python3.7/site-packages/ipykernel_launcher.py:1: FutureWarning: \n",
      "Passing list-likes to .loc or [] with any missing label will raise\n",
      "KeyError in the future, you can use .reindex() as an alternative.\n",
      "\n",
      "See the documentation here:\n",
      "https://pandas.pydata.org/pandas-docs/stable/user_guide/indexing.html#deprecate-loc-reindex-listlike\n",
      "  \"\"\"Entry point for launching an IPython kernel.\n"
     ]
    },
    {
     "data": {
      "text/html": [
       "<div>\n",
       "<style scoped>\n",
       "    .dataframe tbody tr th:only-of-type {\n",
       "        vertical-align: middle;\n",
       "    }\n",
       "\n",
       "    .dataframe tbody tr th {\n",
       "        vertical-align: top;\n",
       "    }\n",
       "\n",
       "    .dataframe thead th {\n",
       "        text-align: right;\n",
       "    }\n",
       "</style>\n",
       "<table border=\"1\" class=\"dataframe\">\n",
       "  <thead>\n",
       "    <tr style=\"text-align: right;\">\n",
       "      <th></th>\n",
       "      <th>player_id</th>\n",
       "      <th>match_id</th>\n",
       "      <th>b1</th>\n",
       "      <th>b2</th>\n",
       "      <th>sigma_b1</th>\n",
       "      <th>sigma_b2</th>\n",
       "      <th>start_pos_super</th>\n",
       "      <th>Team</th>\n",
       "    </tr>\n",
       "  </thead>\n",
       "  <tbody>\n",
       "    <tr>\n",
       "      <td>98</td>\n",
       "      <td>95194.0</td>\n",
       "      <td>984554.0</td>\n",
       "      <td>13.657691</td>\n",
       "      <td>-0.000016</td>\n",
       "      <td>0.001531</td>\n",
       "      <td>1.325540e-08</td>\n",
       "      <td>F</td>\n",
       "      <td>Away</td>\n",
       "    </tr>\n",
       "  </tbody>\n",
       "</table>\n",
       "</div>"
      ],
      "text/plain": [
       "    player_id  match_id         b1        b2  sigma_b1      sigma_b2  \\\n",
       "98    95194.0  984554.0  13.657691 -0.000016  0.001531  1.325540e-08   \n",
       "\n",
       "   start_pos_super  Team  \n",
       "98               F  Away  "
      ]
     },
     "execution_count": 144,
     "metadata": {},
     "output_type": "execute_result"
    }
   ],
   "source": [
    "B.loc[[98, 3]]"
   ]
  },
  {
   "cell_type": "markdown",
   "metadata": {},
   "source": [
    "# Regression\n",
    "One regression per position"
   ]
  },
  {
   "cell_type": "code",
   "execution_count": 117,
   "metadata": {},
   "outputs": [],
   "source": [
    "from sklearn.linear_model import LinearRegression"
   ]
  },
  {
   "cell_type": "code",
   "execution_count": 104,
   "metadata": {},
   "outputs": [],
   "source": [
    "# we keep players who played more than 5 games (coefs_per_player)\n",
    "positions = coefs_per_player['start_pos_super'].unique()"
   ]
  },
  {
   "cell_type": "code",
   "execution_count": 194,
   "metadata": {},
   "outputs": [
    {
     "name": "stdout",
     "output_type": "stream",
     "text": [
      "GK\n",
      "CB\n",
      "M\n"
     ]
    },
    {
     "ename": "ValueError",
     "evalue": "Input contains NaN, infinity or a value too large for dtype('float64').",
     "output_type": "error",
     "traceback": [
      "\u001b[0;31m---------------------------------------------------------------------------\u001b[0m",
      "\u001b[0;31mValueError\u001b[0m                                Traceback (most recent call last)",
      "\u001b[0;32m<ipython-input-194-3ba96346a716>\u001b[0m in \u001b[0;36m<module>\u001b[0;34m\u001b[0m\n\u001b[1;32m     25\u001b[0m     \u001b[0;31m# regression\u001b[0m\u001b[0;34m\u001b[0m\u001b[0;34m\u001b[0m\u001b[0;34m\u001b[0m\u001b[0m\n\u001b[1;32m     26\u001b[0m     \u001b[0mreg\u001b[0m \u001b[0;34m=\u001b[0m \u001b[0mLinearRegression\u001b[0m\u001b[0;34m(\u001b[0m\u001b[0;34m)\u001b[0m\u001b[0;34m\u001b[0m\u001b[0;34m\u001b[0m\u001b[0m\n\u001b[0;32m---> 27\u001b[0;31m     \u001b[0mreg\u001b[0m\u001b[0;34m.\u001b[0m\u001b[0mfit\u001b[0m\u001b[0;34m(\u001b[0m\u001b[0mX\u001b[0m\u001b[0;34m,\u001b[0m \u001b[0my\u001b[0m\u001b[0;34m)\u001b[0m\u001b[0;34m\u001b[0m\u001b[0;34m\u001b[0m\u001b[0m\n\u001b[0m\u001b[1;32m     28\u001b[0m \u001b[0;34m\u001b[0m\u001b[0m\n\u001b[1;32m     29\u001b[0m \u001b[0;34m\u001b[0m\u001b[0m\n",
      "\u001b[0;32m~/anaconda3/lib/python3.7/site-packages/sklearn/linear_model/base.py\u001b[0m in \u001b[0;36mfit\u001b[0;34m(self, X, y, sample_weight)\u001b[0m\n\u001b[1;32m    461\u001b[0m         \u001b[0mn_jobs_\u001b[0m \u001b[0;34m=\u001b[0m \u001b[0mself\u001b[0m\u001b[0;34m.\u001b[0m\u001b[0mn_jobs\u001b[0m\u001b[0;34m\u001b[0m\u001b[0;34m\u001b[0m\u001b[0m\n\u001b[1;32m    462\u001b[0m         X, y = check_X_y(X, y, accept_sparse=['csr', 'csc', 'coo'],\n\u001b[0;32m--> 463\u001b[0;31m                          y_numeric=True, multi_output=True)\n\u001b[0m\u001b[1;32m    464\u001b[0m \u001b[0;34m\u001b[0m\u001b[0m\n\u001b[1;32m    465\u001b[0m         \u001b[0;32mif\u001b[0m \u001b[0msample_weight\u001b[0m \u001b[0;32mis\u001b[0m \u001b[0;32mnot\u001b[0m \u001b[0;32mNone\u001b[0m \u001b[0;32mand\u001b[0m \u001b[0mnp\u001b[0m\u001b[0;34m.\u001b[0m\u001b[0matleast_1d\u001b[0m\u001b[0;34m(\u001b[0m\u001b[0msample_weight\u001b[0m\u001b[0;34m)\u001b[0m\u001b[0;34m.\u001b[0m\u001b[0mndim\u001b[0m \u001b[0;34m>\u001b[0m \u001b[0;36m1\u001b[0m\u001b[0;34m:\u001b[0m\u001b[0;34m\u001b[0m\u001b[0;34m\u001b[0m\u001b[0m\n",
      "\u001b[0;32m~/anaconda3/lib/python3.7/site-packages/sklearn/utils/validation.py\u001b[0m in \u001b[0;36mcheck_X_y\u001b[0;34m(X, y, accept_sparse, accept_large_sparse, dtype, order, copy, force_all_finite, ensure_2d, allow_nd, multi_output, ensure_min_samples, ensure_min_features, y_numeric, warn_on_dtype, estimator)\u001b[0m\n\u001b[1;32m    720\u001b[0m     \u001b[0;32mif\u001b[0m \u001b[0mmulti_output\u001b[0m\u001b[0;34m:\u001b[0m\u001b[0;34m\u001b[0m\u001b[0;34m\u001b[0m\u001b[0m\n\u001b[1;32m    721\u001b[0m         y = check_array(y, 'csr', force_all_finite=True, ensure_2d=False,\n\u001b[0;32m--> 722\u001b[0;31m                         dtype=None)\n\u001b[0m\u001b[1;32m    723\u001b[0m     \u001b[0;32melse\u001b[0m\u001b[0;34m:\u001b[0m\u001b[0;34m\u001b[0m\u001b[0;34m\u001b[0m\u001b[0m\n\u001b[1;32m    724\u001b[0m         \u001b[0my\u001b[0m \u001b[0;34m=\u001b[0m \u001b[0mcolumn_or_1d\u001b[0m\u001b[0;34m(\u001b[0m\u001b[0my\u001b[0m\u001b[0;34m,\u001b[0m \u001b[0mwarn\u001b[0m\u001b[0;34m=\u001b[0m\u001b[0;32mTrue\u001b[0m\u001b[0;34m)\u001b[0m\u001b[0;34m\u001b[0m\u001b[0;34m\u001b[0m\u001b[0m\n",
      "\u001b[0;32m~/anaconda3/lib/python3.7/site-packages/sklearn/utils/validation.py\u001b[0m in \u001b[0;36mcheck_array\u001b[0;34m(array, accept_sparse, accept_large_sparse, dtype, order, copy, force_all_finite, ensure_2d, allow_nd, ensure_min_samples, ensure_min_features, warn_on_dtype, estimator)\u001b[0m\n\u001b[1;32m    540\u001b[0m         \u001b[0;32mif\u001b[0m \u001b[0mforce_all_finite\u001b[0m\u001b[0;34m:\u001b[0m\u001b[0;34m\u001b[0m\u001b[0;34m\u001b[0m\u001b[0m\n\u001b[1;32m    541\u001b[0m             _assert_all_finite(array,\n\u001b[0;32m--> 542\u001b[0;31m                                allow_nan=force_all_finite == 'allow-nan')\n\u001b[0m\u001b[1;32m    543\u001b[0m \u001b[0;34m\u001b[0m\u001b[0m\n\u001b[1;32m    544\u001b[0m     \u001b[0;32mif\u001b[0m \u001b[0mensure_min_samples\u001b[0m \u001b[0;34m>\u001b[0m \u001b[0;36m0\u001b[0m\u001b[0;34m:\u001b[0m\u001b[0;34m\u001b[0m\u001b[0;34m\u001b[0m\u001b[0m\n",
      "\u001b[0;32m~/anaconda3/lib/python3.7/site-packages/sklearn/utils/validation.py\u001b[0m in \u001b[0;36m_assert_all_finite\u001b[0;34m(X, allow_nan)\u001b[0m\n\u001b[1;32m     54\u001b[0m                 not allow_nan and not np.isfinite(X).all()):\n\u001b[1;32m     55\u001b[0m             \u001b[0mtype_err\u001b[0m \u001b[0;34m=\u001b[0m \u001b[0;34m'infinity'\u001b[0m \u001b[0;32mif\u001b[0m \u001b[0mallow_nan\u001b[0m \u001b[0;32melse\u001b[0m \u001b[0;34m'NaN, infinity'\u001b[0m\u001b[0;34m\u001b[0m\u001b[0;34m\u001b[0m\u001b[0m\n\u001b[0;32m---> 56\u001b[0;31m             \u001b[0;32mraise\u001b[0m \u001b[0mValueError\u001b[0m\u001b[0;34m(\u001b[0m\u001b[0mmsg_err\u001b[0m\u001b[0;34m.\u001b[0m\u001b[0mformat\u001b[0m\u001b[0;34m(\u001b[0m\u001b[0mtype_err\u001b[0m\u001b[0;34m,\u001b[0m \u001b[0mX\u001b[0m\u001b[0;34m.\u001b[0m\u001b[0mdtype\u001b[0m\u001b[0;34m)\u001b[0m\u001b[0;34m)\u001b[0m\u001b[0;34m\u001b[0m\u001b[0;34m\u001b[0m\u001b[0m\n\u001b[0m\u001b[1;32m     57\u001b[0m     \u001b[0;31m# for object dtype data, we only check for NaNs (GH-13254)\u001b[0m\u001b[0;34m\u001b[0m\u001b[0;34m\u001b[0m\u001b[0;34m\u001b[0m\u001b[0m\n\u001b[1;32m     58\u001b[0m     \u001b[0;32melif\u001b[0m \u001b[0mX\u001b[0m\u001b[0;34m.\u001b[0m\u001b[0mdtype\u001b[0m \u001b[0;34m==\u001b[0m \u001b[0mnp\u001b[0m\u001b[0;34m.\u001b[0m\u001b[0mdtype\u001b[0m\u001b[0;34m(\u001b[0m\u001b[0;34m'object'\u001b[0m\u001b[0;34m)\u001b[0m \u001b[0;32mand\u001b[0m \u001b[0;32mnot\u001b[0m \u001b[0mallow_nan\u001b[0m\u001b[0;34m:\u001b[0m\u001b[0;34m\u001b[0m\u001b[0;34m\u001b[0m\u001b[0m\n",
      "\u001b[0;31mValueError\u001b[0m: Input contains NaN, infinity or a value too large for dtype('float64')."
     ]
    }
   ],
   "source": [
    "# one model per position\n",
    "for pos in positions:\n",
    "    print(pos)\n",
    "    if pos == 'CB':\n",
    "        # NEED TO FIGURE CENTER BACKS\n",
    "        continue\n",
    "    \n",
    "    # processing\n",
    "    features = ['Age', 'Weight']\n",
    "    X = EX_mean_and_info.set_index(['player_id']).loc[B['player_id'].unique()].dropna()[features]\n",
    "    Y = coefs_per_player[coefs_per_player['start_pos_super'] == pos][['player_id', 'match_id', 'b1', 'b2']]\n",
    "    XY = pd.merge(Y, X,\n",
    "        left_on='player_id', right_on='player_id',\n",
    "        how='left')\n",
    "    \n",
    "    if pos == 'M':\n",
    "        test1, test2 = X, Y\n",
    "    \n",
    "    X = XY[['b1', 'b2']]\n",
    "    y = XY[['Age', 'Weight']]\n",
    "    \n",
    "    \n",
    "    \n",
    "    \n",
    "    # regression\n",
    "    reg = LinearRegression()\n",
    "    reg.fit(X, y)\n",
    "    \n",
    "    \n",
    "    \n",
    "    "
   ]
  },
  {
   "cell_type": "code",
   "execution_count": 193,
   "metadata": {},
   "outputs": [
    {
     "data": {
      "text/html": [
       "<div>\n",
       "<style scoped>\n",
       "    .dataframe tbody tr th:only-of-type {\n",
       "        vertical-align: middle;\n",
       "    }\n",
       "\n",
       "    .dataframe tbody tr th {\n",
       "        vertical-align: top;\n",
       "    }\n",
       "\n",
       "    .dataframe thead th {\n",
       "        text-align: right;\n",
       "    }\n",
       "</style>\n",
       "<table border=\"1\" class=\"dataframe\">\n",
       "  <thead>\n",
       "    <tr style=\"text-align: right;\">\n",
       "      <th></th>\n",
       "      <th>Age</th>\n",
       "      <th>Weight</th>\n",
       "    </tr>\n",
       "    <tr>\n",
       "      <th>player_id</th>\n",
       "      <th></th>\n",
       "      <th></th>\n",
       "    </tr>\n",
       "  </thead>\n",
       "  <tbody>\n",
       "    <tr>\n",
       "      <td>182413</td>\n",
       "      <td>26</td>\n",
       "      <td>86</td>\n",
       "    </tr>\n",
       "  </tbody>\n",
       "</table>\n",
       "</div>"
      ],
      "text/plain": [
       "           Age  Weight\n",
       "player_id             \n",
       "182413      26      86"
      ]
     },
     "execution_count": 193,
     "metadata": {},
     "output_type": "execute_result"
    }
   ],
   "source": [
    "test1"
   ]
  },
  {
   "cell_type": "code",
   "execution_count": null,
   "metadata": {},
   "outputs": [],
   "source": []
  },
  {
   "cell_type": "code",
   "execution_count": null,
   "metadata": {},
   "outputs": [],
   "source": []
  },
  {
   "cell_type": "code",
   "execution_count": null,
   "metadata": {},
   "outputs": [],
   "source": []
  },
  {
   "cell_type": "code",
   "execution_count": null,
   "metadata": {},
   "outputs": [],
   "source": []
  }
 ],
 "metadata": {
  "kernelspec": {
   "display_name": "Python 3",
   "language": "python",
   "name": "python3"
  },
  "language_info": {
   "codemirror_mode": {
    "name": "ipython",
    "version": 3
   },
   "file_extension": ".py",
   "mimetype": "text/x-python",
   "name": "python",
   "nbconvert_exporter": "python",
   "pygments_lexer": "ipython3",
   "version": "3.7.5"
  }
 },
 "nbformat": 4,
 "nbformat_minor": 4
}
